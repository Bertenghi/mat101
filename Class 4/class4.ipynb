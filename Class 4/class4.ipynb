{
 "cells": [
  {
   "cell_type": "markdown",
   "metadata": {},
   "source": [
    "# Exercise class 4\n",
    "\n",
    "- Name: Marco\n",
    "- E-Mail: mberten@math.uzh.ch (<24h, else send another mail)\n",
    "- Rocket-Chat: https://hello.math.uzh.ch $\\to$ mberten\n",
    "- Github: https://github.com/Bertenghi"
   ]
  },
  {
   "cell_type": "markdown",
   "metadata": {},
   "source": [
    "## Summary of previous class (in 2 minutes or less)\n",
    "\n",
    "- I was sick, not much to summarise :-("
   ]
  },
  {
   "cell_type": "markdown",
   "metadata": {},
   "source": [
    "## Remarks on some codes I have seen"
   ]
  },
  {
   "cell_type": "markdown",
   "metadata": {},
   "source": [
    "- Try and avoid (if not necessary or otherwise specified) creating auxiliary lists/sets etc.\n",
    "  - Increase the complexity of the auxiliary space."
   ]
  },
  {
   "cell_type": "code",
   "execution_count": 9,
   "metadata": {},
   "outputs": [
    {
     "data": {
      "text/plain": [
       "(18, [1, 2, 3, 4, 5, 6, 7, 8, 9, 10, 11, 12, 13, 14, 15, 16, 17, 18])"
      ]
     },
     "execution_count": 9,
     "metadata": {},
     "output_type": "execute_result"
    }
   ],
   "source": [
    "from math import gcd\n",
    "\n",
    "def eulerPhi(n : int) -> int:\n",
    "    numbers = []\n",
    "    for i in range(n+1):\n",
    "        if gcd(n,i) == 1:\n",
    "            numbers.append(i)\n",
    "    return len(numbers), numbers\n",
    "\n",
    "eulerPhi(19)"
   ]
  },
  {
   "cell_type": "code",
   "execution_count": 7,
   "metadata": {},
   "outputs": [
    {
     "data": {
      "text/plain": [
       "528"
      ]
     },
     "execution_count": 7,
     "metadata": {},
     "output_type": "execute_result"
    }
   ],
   "source": [
    "def eulerPhi2(n : int) -> int:\n",
    "    sum = 0 \n",
    "    for i in range(n+1):\n",
    "        if gcd(n,i) == 1:\n",
    "            sum += 1\n",
    "    return sum\n",
    "\n",
    "eulerPhi2(1932)"
   ]
  },
  {
   "cell_type": "markdown",
   "metadata": {},
   "source": [
    "- Try and avoid (if not necessary or otherwise specified) *highly formated* output"
   ]
  },
  {
   "cell_type": "code",
   "execution_count": 126,
   "metadata": {},
   "outputs": [
    {
     "data": {
      "text/plain": [
       "'Amazing, the Euler phi function of 1932 equals 528'"
      ]
     },
     "execution_count": 126,
     "metadata": {},
     "output_type": "execute_result"
    }
   ],
   "source": [
    "def eulerPhi3(n : int) -> int:\n",
    "    sum = 0 \n",
    "    for i in range(n+1):\n",
    "        if gcd(n,i) == 1:\n",
    "            sum += 1\n",
    "    return f\"Amazing, the Euler phi function of {n} equals {sum}\"\n",
    "\n",
    "eulerPhi3(1932)"
   ]
  },
  {
   "cell_type": "markdown",
   "metadata": {},
   "source": [
    "## Sheet 4"
   ]
  },
  {
   "cell_type": "markdown",
   "metadata": {},
   "source": [
    "### Exercise 1\n",
    "\n",
    "**Given**: \n",
    "\n",
    "- A (strictly) ordered list `arr` of length $N \\geq 1$ where $N$ can be very large (say $N=10^{10}$, 10 **billion**)\n",
    "- A target value `target`.\n",
    "\n",
    "**Goal**:\n",
    "- Check if `target` is in `arr`\n",
    "  - If yes, return index of its position\n",
    "  - Else, return `None`.\n",
    "\n",
    "**Algorithm** (Binary search):\n",
    "\n",
    "Let $A_0,A_1, \\dots , A_{N-1}$ denote the elements of `arr`. It holds that $A_0 < A_1 < A_2 < \\dots A_{N-1}$. Let $m$ denote the middle element of `arr` i.e. $m = N // 2$.\n",
    "\n",
    "1. If $A_m <$ `target` then `target` $\\notin [A_0, A_1, \\dots , A_m]$ but `target` $\\in [A_{m+1}, A_{m+2}, \\dots , A_{N-1}]$.\n",
    "2. If $A_m >$ `target` then `target` $\\notin [A_m, A_{m+1}, \\dots , A_{N-1}]$ but `target` $\\in [A_0, A_1, \\dots , A_{m-1}]$.\n",
    "3. If $A_m =$ `target` return $m$.\n",
    "\n",
    "<details>\n",
    "  <summary>Time complexity</summary>\n",
    "\n",
    "  **Lemma**: The binary search algorithm has a (worst-case) time complexity of $O( \\log_2(N))$ where $N$ is the length of the list.\n",
    "\n",
    "  **Proof**: \n",
    "  For each iteration of the algorithm (binary search), we half the length of the interval. Assume after $n$ steps we are left with 2 elements: \n",
    "\n",
    "  $$ N 2^{-n} = 2 \\iff n = \\log_2(N)-1 $$\n",
    "\n",
    "  We need to now only check both remaining elements if they are the target. Hence $n = \\log_2(N)+1$ and $n=O( \\log_2(N)).$ Q.E.D.\n",
    "\n",
    "  **Remark**: Searching in an **ordered** array / list can be done efficiently (in logarithmic time).\n",
    "</details>"
   ]
  },
  {
   "cell_type": "code",
   "execution_count": 37,
   "metadata": {},
   "outputs": [],
   "source": [
    "def search(arr : list, target : int) -> int:\n",
    "    \"\"\"\n",
    "    Binary search\n",
    "\n",
    "    Input: A sorted array arr\n",
    "    Output: Index of the target (if present), False else.\n",
    "    \"\"\"\n",
    "    left = 0                    #  left-most index\n",
    "    right = len(arr)-1          #  right-most index\n",
    "    while left <= right:\n",
    "        middle = (left + right) // 2\n",
    "        if arr[middle] < target:\n",
    "            left = middle + 1\n",
    "        elif arr[middle] > target:\n",
    "            right = middle - 1\n",
    "        else:\n",
    "            return middle\n",
    "    return False\n",
    "\n",
    "search([1,2,3,4,5,19,32], 2)\n",
    "\n",
    "# from numpy import linspace\n",
    "\n",
    "# search(linspace(1, 1000, 10**8), 523)"
   ]
  },
  {
   "cell_type": "markdown",
   "metadata": {},
   "source": [
    "<details>\n",
    "  <summary>Time complexity of sorting</summary>\n",
    "\n",
    "**Theorem**: Every comparison-based sorting algorithm on an array of size $N \\geq 1$ has the (worst-case) running time of $O(N \\log_2(N))$.\n",
    "\n",
    "**Proof**: Given a list of distinct numbers (we can assume this without the loss of generality, because this is a worst-case analysis), there are $n!$ permutations of said numbers, exactly one of which is the list in sorted order.\n",
    "\n",
    "Assume now that the algorithm terminates (i.e. sorts the array) after at most $K=K(n)$ steps. In this case the algorithm cannot distinguish more than $2^K$ cases because the keys of the array are distinct and each comparison has only two possible outcomes (we do pairwise comparisons such as $a \\leq b$ or $a>b$ which are the only two options). Thus: \n",
    "\n",
    "$$ 2^K \\geq n! \\iff K \\geq \\log_2(n!)$$\n",
    "\n",
    "Now observe that \n",
    "$$n! = n(n-1)(n-2) \\cdots 1 \\geq \\left( \\frac{n}{2} \\right)^{\\frac{n}{2}},$$\n",
    "where we used that the first $n/2$ factors of $n!$ are greater or equal than $n/2$. Hence we arrive at \n",
    "$$ K \\geq \\log_2(n!) \\geq \\frac{n}{2} \\log_2(n/2),$$\n",
    "which is what we wanted to establish.\n",
    "\n",
    "**Remark**: This shows that even the most efficient (comparison-based) sorting algorithms require approximately $N \\log(N)$ in order to terminate (worse than linear). Thus sorting an array is **not** time efficient.\n",
    "</details>"
   ]
  },
  {
   "cell_type": "markdown",
   "metadata": {},
   "source": [
    "### A related algorithm (Bisection method)\n",
    "\n",
    "**Given**: A `continuous` function $f: [a,b] \\to \\mathbb{R}$ such that $f(a)$ and $f(b)$ have opposite signs. \n",
    "\n",
    "**Consequence**: *(Intermediate value theorem / Zwischenwertsatz)* There exists $z \\in (a,b)$ such that $f(z)=0$, i.e. there exists a `root`. \n",
    "\n",
    "**Bisection algorithm**: The goal is to find a root $z \\in (a,b)$. \n",
    "\n",
    "1. Calculate the midpoint $m$ of the interval $[a,b]$, i.e. $m = \\frac{a+b}{2}$.\n",
    "2. Calculate the function value of $f$ at $m$, i.e. $f(m)$.\n",
    "3. If convergence is satisfactory, i.e. $|f(m)| < \\epsilon$ for some given error margin $\\epsilon >0$, then return $m$.\n",
    "4. Else, examine the sign of $f(m)$:\n",
    "  - If $f(a)$ and $f(c)$ have the same sign (i.e. ++, or --) then replace the interval $[a,b]$ with $[c,b]$ and go to step 1.\n",
    "  - If $f(a)$ and $f(c)$ are of opposite sign (i.e. +- or -+), then replace the interal $[a,b]$ with $[a,c]$ and go to step 1.\n",
    "\n",
    "<details>\n",
    "  <summary>Visualisation of bisection</summary>\n",
    "<p align=\"center\">\n",
    "  <img src=\"bisection.jpg\">\n",
    "  \n",
    "</p>\n",
    "</details>"
   ]
  },
  {
   "cell_type": "markdown",
   "metadata": {},
   "source": [
    "### Exercise 2\n",
    "\n",
    "Let $n \\geq 1$ and define \n",
    "\n",
    "$$ f(n):= \\begin{cases} n / 2 & \\text{if $n$ is even} \\\\ 3n +1 & \\text{if $n$ is odd} \\end{cases}. $$\n",
    "\n",
    "Define the Collatz sequence recursively as follows:\n",
    "\n",
    "$$ a_i := \\begin{cases} n & \\text{if } i =0 \\\\\n",
    "f(a_{i-1}) & \\text{if } i >0 \\end{cases}. $$\n",
    "\n",
    "**Observation**: If $n=4$, then we are `trapped` in an endless cycle of the form $4 \\to 2 \\to 1$. \n",
    "\n",
    "**Collatz Conjecture** (Lothar Collatz, 1937 Germany): The Collatz sequence will always reach the number $1$, regardless of which positive integer is chosen to start the sequence. \n",
    "\n",
    "- `\"Mathematics may not be ready for such problems.\"` - Paul Erdös.\n",
    "\n",
    "a) Write a function `collatz(num)` which takes as an argument an integer `num` ($ \\geq 1$) and returns a list containing the elements (the terms) of the Collatz sequence. "
   ]
  },
  {
   "cell_type": "code",
   "execution_count": 63,
   "metadata": {},
   "outputs": [
    {
     "data": {
      "text/plain": [
       "[3, 10, 5, 16, 8, 4, 2, 1]"
      ]
     },
     "execution_count": 63,
     "metadata": {},
     "output_type": "execute_result"
    }
   ],
   "source": [
    "def collatz(num: int) -> list[int]:\n",
    "    \"\"\"\n",
    "    The collatz sequence.\n",
    "\n",
    "    Input: Integer >= 1.\n",
    "    Output: List containing the terms of the collatz sequence until cycles.\n",
    "    \"\"\"\n",
    "\n",
    "    if num == 1:\n",
    "        return [4,2,1]\n",
    "    sequence = []\n",
    "    while num > 1:\n",
    "        sequence.append(num)\n",
    "        if num % 2 == 0:        #  num is even\n",
    "            num //= 2\n",
    "        else:                   #  num is odd\n",
    "            num = 3*num + 1\n",
    "    sequence.append(1)\n",
    "    return sequence\n",
    "\n",
    "collatz(3)"
   ]
  },
  {
   "cell_type": "markdown",
   "metadata": {},
   "source": [
    "b) **(Bonus)** For which value `num` $\\in [[1,10^6]]$ does the Collatz sequence produce its longest sequence? How long is said sequence?"
   ]
  },
  {
   "cell_type": "code",
   "execution_count": 70,
   "metadata": {},
   "outputs": [
    {
     "data": {
      "text/plain": [
       "(525, 837799)"
      ]
     },
     "execution_count": 70,
     "metadata": {},
     "output_type": "execute_result"
    }
   ],
   "source": [
    "def collatz_len(num : int) -> int:\n",
    "    \"\"\"\n",
    "    Returns the length of the Collatz sequence after termination at 1.\n",
    "\n",
    "    Input: Integer >= 1\n",
    "    Output: Length of the Collatz sequence\n",
    "    \"\"\"\n",
    "    length =  1\n",
    "    while num > 1:\n",
    "        length += 1\n",
    "        if num % 2 == 0:\n",
    "            num //= 2\n",
    "        else:\n",
    "            num = 3*num + 1\n",
    "    return length\n",
    "\n",
    "\n",
    "max( (collatz_len(i), i) for i in range(1,10**6) )"
   ]
  },
  {
   "cell_type": "markdown",
   "metadata": {},
   "source": [
    "### Exercise 3\n",
    "\n",
    "A `palindrome` is a word (or number) that reads the same backwards as forwards, such as the words `madam` or `racecar`. The Swedish pop band `ABBA` is a palindrome, whereas the word `palindrome` is not a palindrome. \n",
    "\n",
    "Write a function `isPalindrome(arg)` where `arg` is either a positive integer or a string (assumption, no spaces) which returns `True` if its argument is a palindrome or `False` otherwise. \n",
    "\n",
    "**Remark**: The function should be case-insensitive, i.e. `Abba` is a palindrome, although the reverse spelling is `abbA`.\n",
    "\n",
    "<details>\n",
    "  <summary>Refresh on slicing</summary>\n",
    "\n",
    "Recall that in Python `string[start:stop:step]` (also known as slicing), uses three arguments `start`, `stop` and `step` to carve out a subsequence (here of a string).\n",
    "\n",
    "- It accesses every `step`-th element between indices `start` (included) and `stop` (excluded). \n",
    "\n",
    "**Special case**: The double colon `::`, it occurs if one drops the `stop` argument in the slicing. In this case, Python will use the default value and doesn't assume an artificial stop. \n",
    "\n",
    "- Default for `start` is zero\n",
    "- Default for `stop` is the length of the string.\n",
    "\n",
    "**Example**: \n",
    "- `string[::2]` reads as *default start index*, *default stop index*, step size is `two` (i.e. take every second element)\n",
    "- `string[2::2]` reads as *start index `two`*, *default stop index*, step size is `two` (i.e. take every second element starting from index 2).\n",
    "- `string[::-1]` reverse a string because step size is `-1`.\n",
    "\n",
    "</details>"
   ]
  },
  {
   "cell_type": "code",
   "execution_count": 109,
   "metadata": {},
   "outputs": [
    {
     "data": {
      "text/plain": [
       "True"
      ]
     },
     "execution_count": 109,
     "metadata": {},
     "output_type": "execute_result"
    }
   ],
   "source": [
    "def isPalindrome(arg) -> bool:\n",
    "    \"\"\"\n",
    "    A (very) naive implementation of palindrome checking\n",
    "\n",
    "    Time complexity: O(n)\n",
    "    \"\"\"\n",
    "    arg = str(arg).casefold()  #  preparing our input\n",
    "\n",
    "    return arg == arg[::-1]\n",
    "\n",
    "isPalindrome(\"aaaaaaaaaaaaaaaaaaaaaaaaaaaaaaaa\")\n",
    "\n",
    "def isPalindrome2(arg) -> bool:\n",
    "    arg = str(arg).casefold()\n",
    "    middle = len(arg) // 2\n",
    "    return arg[: middle] ==  arg[ : -middle-1: -1]\n",
    "\n",
    "isPalindrome2(\"Abba\")\n"
   ]
  },
  {
   "cell_type": "markdown",
   "metadata": {},
   "source": [
    "### Exercise 4\n",
    "\n",
    "**Goal**: Approximate $\\pi$ using the Leibniz formula (infinite series)\n",
    "\n",
    "$$ \\frac{\\pi}{4} = 1- \\frac{1}{3} + \\frac{1}{5} - \\frac{1}{7} + \\frac{1}{9}- \\dots = \\sum_{k=0}^\\infty \\frac{(-1)^k}{2k+1}. $$\n",
    "\n",
    "I.e. \n",
    "$$ \\sum_{k=0}^n \\frac{(-1)^k}{2k+1} \\approx \\frac{\\pi}{4}. $$\n",
    "\n",
    "In order to have access to $\\pi$ in Python we make use of `pi` from the `math` module.\n",
    "\n",
    "Write a function `approxPi(epsilon)` where $\\epsilon=$`\\epsilon` is a non-negative float (error) margin and return an array\n",
    "$$ \\texttt{arr}=[\\texttt{idn}, \\texttt{pi}_\\approx, \\texttt{pi}]$$\n",
    "where `idn` denotes how many steps/terms of the sum above were required in order to approximate `pi` (math module) up to a given precision $\\epsilon$ and $\\texttt{pi}_\\approx$ is the approximation found for `pi`.\n",
    "\n",
    "In other words, we are looking for the *first* `idn` such that \n",
    "$$ \\left| 4 \\sum_{k=0}^\\texttt{idn} \\frac{(-1)^k}{2k+1}- \\texttt{pi} \\right| < \\epsilon$$\n",
    "and we set\n",
    "$$ \\texttt{pi}_\\approx := 4 \\sum_{k=0}^\\texttt{idn} \\frac{(-1)^k}{2k+1} $$"
   ]
  },
  {
   "cell_type": "code",
   "execution_count": 120,
   "metadata": {},
   "outputs": [
    {
     "data": {
      "text/plain": [
       "[99, 3.1315929035585537, 3.141592653589793]"
      ]
     },
     "execution_count": 120,
     "metadata": {},
     "output_type": "execute_result"
    }
   ],
   "source": [
    "from math import pi\n",
    "\n",
    "def approxPi(epsilon : float) -> list[int, float, float]:\n",
    "    \"\"\"\n",
    "    A function to demonstrate the efficienty of Leibniz's formula to approximate pi.\n",
    "\n",
    "    Input: Float epsilon > 0 (error margin)\n",
    "    Output: List containing number of steps to approximate pi,\n",
    "            the approximation of pi and pi (from math) itself.\n",
    "    \"\"\"\n",
    "    idn = 0     #  (optional: can count this as one iteration)\n",
    "    approxPi = 4\n",
    "    while (abs(pi-approxPi) >= epsilon):\n",
    "        idn += 1\n",
    "        approxPi += 4*((-1)**idn / (2*idn + 1))\n",
    "    return [idn, approxPi, pi] \n",
    "\n",
    "approxPi(0.01)"
   ]
  },
  {
   "cell_type": "markdown",
   "metadata": {},
   "source": [
    "### Auxiliary material\n",
    "\n",
    "#### Exercise\n",
    "\n",
    "Given a *(super)* large number, say $n \\gg 10^{10}$ how do you *(efficiently)* compute its number of digits?"
   ]
  },
  {
   "cell_type": "markdown",
   "metadata": {},
   "source": [
    "<details>\n",
    "  <summary>Efficient computation of digits</summary>\n",
    "  \n",
    "  **Lemma**: Given an integer number $n \\in \\mathbb{N}_{ \\geq 1}$, then the number of digits of $n$ is given by $d_n = \\lfloor \\log_{10}(n) \\rfloor +1$. \n",
    "\n",
    "**Proof**: We proceed by induction over $n \\in \\mathbb{N}$:\n",
    "\n",
    "- Base case $(n=1)$: Indeed, the number $1$ has exactly $1$ digits thus $d_n = \\lfloor \\log_{10}(1) \\rfloor +1 = 0 + 1 =1$.\n",
    "\n",
    "- Induction step $(n \\to n+1)$: Observe that the number $(n+1)/10$ has exactly one less digit than the number $n+1$, or in formulas\n",
    "$$ d_{(n+1)/10}= d_{n+1}-1 \\iff d_{n+1} = d_{(n+1)/10}+1. $$\n",
    "But for the number $(n+1)/10$ we can use our induction hypothesis which yields\n",
    "$$\\begin{align*}d_{n+1} &= d_{(n+1)/10} +1\n",
    "\\\\ & =  \\left\\lfloor \\log_{10} \\left( \\frac{n+1}{10} \\right) \\right\\rfloor +1 +1 \\\\\n",
    "&= \\lfloor \\log_{10}(n+1) -1 \\rfloor + 1  + 1 \\\\\n",
    "& = \\lfloor \\log_{10}(n+1) \\rfloor -1 +1 +1 \\\\\n",
    "& = \\lfloor \\log_{10}(n+1) \\rfloor +1.\n",
    " \\end{align*}$$\n",
    "Which is what we wanted to proof. \n",
    "\n",
    "</details>"
   ]
  },
  {
   "cell_type": "markdown",
   "metadata": {},
   "source": [
    "#### Exercise\n",
    "\n",
    "Given the triangle of consecutive odd numbers:\n",
    "\n",
    "             1\n",
    "          3     5\n",
    "       7     9    11\n",
    "    13    15    17    19\n",
    "\n",
    "...\n",
    "\n",
    "Calculate the sum of the numbers in the n-th row of this triangle (starting at index 1), e.g.\n",
    "\n",
    "- $1 \\mapsto 1$\n",
    "- $2 \\mapsto 3 + 5 =8$\n",
    "- $3 \\mapsto 7 +9 + 11 = 27$\n",
    "- $4 \\mapsto 13 + 15 +17 +19 = 64$"
   ]
  },
  {
   "cell_type": "markdown",
   "metadata": {},
   "source": []
  }
 ],
 "metadata": {
  "kernelspec": {
   "display_name": "Python 3.10.2 64-bit",
   "language": "python",
   "name": "python3"
  },
  "language_info": {
   "codemirror_mode": {
    "name": "ipython",
    "version": 3
   },
   "file_extension": ".py",
   "mimetype": "text/x-python",
   "name": "python",
   "nbconvert_exporter": "python",
   "pygments_lexer": "ipython3",
   "version": "3.10.2"
  },
  "orig_nbformat": 4,
  "vscode": {
   "interpreter": {
    "hash": "ba18286d27dd3f1705df4025c31d2b7021c67fcd01f023a6f194ed0db21ec453"
   }
  }
 },
 "nbformat": 4,
 "nbformat_minor": 2
}
