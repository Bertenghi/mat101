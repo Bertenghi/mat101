{
 "cells": [
  {
   "cell_type": "markdown",
   "metadata": {},
   "source": [
    "# Exercise class 9\n",
    "\n",
    "- Name: Marco\n",
    "- E-Mail: mberten@math.uzh.ch (<24h, else send another mail)\n",
    "- Rocket-Chat: https://hello.math.uzh.ch $\\to$ mberten\n",
    "- Github: https://github.com/Bertenghi\n",
    "  - Additional exercises on my git."
   ]
  },
  {
   "cell_type": "markdown",
   "metadata": {},
   "source": [
    "# Information\n",
    "\n",
    "- Exercise sheet 9 was the last exercise sheet\n",
    "- Starting this week, we will focus on the exam preparation\n",
    "    - $\\approx 45$ Minutes individual/assistated solving of exercises (related to the exam)\n",
    "    - $\\approx 45$ Minutes live-coding, implementation (and discussion) of solution."
   ]
  },
  {
   "cell_type": "markdown",
   "metadata": {},
   "source": [
    "## Newton's method for finding $\\sqrt{n}$\n",
    "### Difficulty: $\\color{green}{Easy}$\n",
    "\n",
    "You are given an integer $n \\geq 0$ and a tolerance (error margin) `eps`=$\\epsilon > 0 $ (in pratice, $\\epsilon$ is small). Newton's method exploits that the recursive sequence \n",
    "\n",
    "$$ x_{n+1} = \\frac{1}{2} \\left( x_n + \\frac{n}{x_n} \\right) $$\n",
    "converges for each initial starting value $x_0 \\neq 0$ to $\\sqrt{n}$.\n",
    "\n",
    "Write a function `newtonSquareRoot(n : int, eps : float) -> float:` that for a given integer `n` and tolerance `eps` returns the approximation of $\\sqrt{n}$ using the recursion above. \n",
    "\n",
    "Your function should return its approximation for $\\sqrt{n}$ only if $|\\sqrt{n}_\\approx- \\sqrt{n}| \\leq \\epsilon$. In practicle however, one would rather use $|\\sqrt{n}_\\approx- n| \\leq \\epsilon$\n",
    "\n",
    "**Follow-up question**: Modify your function such that it also returns the number of iterations required to achieve the desired precision."
   ]
  },
  {
   "cell_type": "markdown",
   "metadata": {},
   "source": [
    "## Bubble sort (a trivial and inefficient sorting algorithm)\n",
    "### Difficulty: $\\color{green}{Easy}$\n",
    "\n",
    "Bubble sort is a simple sorting algorithm that repeatedly steps through the input list element by element, comparing the current element with the one after it, swapping their values if needed.\n",
    "\n",
    "The algorithm is iterated through the list until no swaps had to be performed during a full pass, meaning that the list has become fully sorted. You can consult [Bubble sort](https://en.wikipedia.org/wiki/Bubble_sort) if you want more information.\n",
    "\n",
    "Here is the `Pseudocode` of `Bubble sort`:\n",
    "\n",
    "    bubbleSort(Array A)\n",
    "      for (n=1 until n=A.size){\n",
    "        for (i=0 until i = A.size-1){\n",
    "          if (A[i] > A[i+1]){\n",
    "            A.swap(i, i+1)\n",
    "          } // End if\n",
    "        } // End inner for-loop\n",
    "      } // End outter for-loop\n",
    "\n",
    "Implement the above Pseudocode into a Python as a functoin `bubble_sort(arr : list)`"
   ]
  },
  {
   "cell_type": "markdown",
   "metadata": {},
   "source": [
    "## Quicksort (a standard, efficient and elegant sorting algorithm)\n",
    "### Difficulty: $\\color{orange}{Medium}$\n",
    "\n",
    "Quicksort is a sorting algorithm. It is much faster than bubble sort and is frequently used in applications (in fact, Python often uses quicksort when sorting an array). Also the C standard library has a function called `qsort`, which is its implemtation of quicksort. \n",
    "\n",
    "Quicksort is not only efficient, it's also a super elegant divide and conquer (D&C) recursive algorithm!\n",
    "\n",
    "Here is how quicksort works:\n",
    "\n",
    " 0) Evidently, an array of length $0$ or $1$ is already sorted. Indeed, the empty array [ ] is sorted and [2] is sorted.\n",
    " 1) Pick an element from the array called the `pivot`. You can for example always select the first element in the array, or the last. However, it is recommend that you pick an element `uniformly at random` in the array.\n",
    " 2) Partition the array into two sub-arrays: elements less than (or equal to) the pivot and elements greater than the pivot.\n",
    " 3) Call quick sort recursively on the two sub-arrays in the following way: `quicksort`(left_array) + [`pivot`] + `quicksort`(right_array)\n",
    "\n",
    "Write a function `quicksort(arr : list)` that for a given array `arr` returns the array (or a copy thereof) fully sorted."
   ]
  },
  {
   "cell_type": "markdown",
   "metadata": {},
   "source": [
    "## Prime factorisation of a natural number $n$\n",
    "### Difficulty: $\\color{orange}{Medium}$\n",
    "\n",
    "For this task you are given a natural number $n \\geq 1$. It is your task to then produce a list of all prime factors of $n$.\n",
    "\n",
    "Write a function `primeFactors(n : int) -> list:` that performs this task.\n",
    "\n",
    "**Examples**: \n",
    "- $n=14 \\to [2, 7]$ \n",
    "- $n = 111 \\to  [3,37]$\n",
    "- $n = 64 \\to [2,2,2,2,2,2]$\n",
    "- $n = 5 \\to [5]$\n",
    "\n",
    "Try to come up with an algorithm on your own, if you get stuck you may have a look at the algorithm.\n",
    "\n",
    "\n",
    "\n",
    "<details>\n",
    "  <summary>Algorithm (Please only check after you have been stuck for a while)</summary>\n",
    "\n",
    "  Below we give an efficient algorithm for prime factorisation. Efficiency is difficult to measure (average case vs worst case), however, the worst case is attained whenever $n=p$ is a prime number.\n",
    "  \n",
    "  Let us denote the integer by $n$.\n",
    "  \n",
    "  1. Create an empty list prime_factors = [ ]\n",
    "  2. While $n$ is divisible by $2$, append $2$ to the list and divide $n$ by 2.\n",
    "  3. After step 2, $n$ must be an odd integer (make sure to update $n$).\n",
    "  4. Start a loop from $i=3$ to $i=\\sqrt{n}$ in increments of $2. \n",
    "  5. While $i$ divides $n$, append $i$ to the list and divide $n$ by $i$.\n",
    "  6. If $n=p$ is prime and greater than 2, then $n$ can never become $1$ hence we can just append $n$ to the list in said case.\n",
    "</details>"
   ]
  },
  {
   "cell_type": "markdown",
   "metadata": {},
   "source": []
  }
 ],
 "metadata": {
  "kernelspec": {
   "display_name": "Python 3.10.2 64-bit",
   "language": "python",
   "name": "python3"
  },
  "language_info": {
   "codemirror_mode": {
    "name": "ipython",
    "version": 3
   },
   "file_extension": ".py",
   "mimetype": "text/x-python",
   "name": "python",
   "nbconvert_exporter": "python",
   "pygments_lexer": "ipython3",
   "version": "3.10.2"
  },
  "orig_nbformat": 4,
  "vscode": {
   "interpreter": {
    "hash": "ba18286d27dd3f1705df4025c31d2b7021c67fcd01f023a6f194ed0db21ec453"
   }
  }
 },
 "nbformat": 4,
 "nbformat_minor": 2
}
