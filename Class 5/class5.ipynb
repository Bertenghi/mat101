{
 "cells": [
  {
   "cell_type": "markdown",
   "metadata": {},
   "source": [
    "# Exercise class 5\n",
    "\n",
    "- Name: Marco\n",
    "- E-Mail: mberten@math.uzh.ch (<24h, else send another mail)\n",
    "- Rocket-Chat: https://hello.math.uzh.ch $\\to$ mberten\n",
    "- Github: https://github.com/Bertenghi\n",
    "  - Additional exercises on my git."
   ]
  },
  {
   "cell_type": "markdown",
   "metadata": {},
   "source": [
    "## Summary of previous class (in 2 minutes or less)\n",
    "\n",
    "- **New**: First hour: (some) theory and (challenging) old exercises. Second hour livecoding and algorithm design/discussion.\n",
    "- Searching in an *ordered* list is efficient thanks to binary search (bisection) $O(\\log_2(n))$. \n",
    "- Ordering a list is inefficient $O(n \\log_2(n))$."
   ]
  },
  {
   "cell_type": "markdown",
   "metadata": {},
   "source": [
    "## Comments about the corrections\n",
    "\n",
    "- There are many print statements\n",
    "  - That is okay, but consider removing them before submitting your solution.\n",
    "- `print` and `return` are not the same thing!"
   ]
  },
  {
   "cell_type": "code",
   "execution_count": 2,
   "metadata": {},
   "outputs": [
    {
     "name": "stdout",
     "output_type": "stream",
     "text": [
      "5\n",
      "None\n",
      "False\n"
     ]
    }
   ],
   "source": [
    "def add(a : int, b : int) -> int:\n",
    "    c = a + b\n",
    "    print(c)  # this is not the same as return\n",
    "    # This function returns None !\n",
    "\n",
    "five = add(2,3)\n",
    "print(five)\n",
    "print(five == 5)"
   ]
  },
  {
   "cell_type": "markdown",
   "metadata": {},
   "source": [
    "- Python `True`/`False` are better than `Yes`/`No` or other combinations (that might be more human readable)\n",
    "- `n/2` yields a float whereas `n//2` yields an integer (floor division)\n",
    "  - In particular there is no need for `int(n/2)`"
   ]
  },
  {
   "cell_type": "markdown",
   "metadata": {},
   "source": [
    "## Addendum"
   ]
  },
  {
   "cell_type": "code",
   "execution_count": 4,
   "metadata": {},
   "outputs": [
    {
     "data": {
      "text/plain": [
       "(525, 837799)"
      ]
     },
     "execution_count": 4,
     "metadata": {},
     "output_type": "execute_result"
    }
   ],
   "source": [
    "def collatz_memo(num : int, memo = {1:1}):\n",
    "    \"\"\"\n",
    "    Returns the length of the Collatz sequence after termination at 1.\n",
    "\n",
    "    This approach uses memoization (i.e. equipping our recursion with a brain)\n",
    "\n",
    "    This linearises the running time complexity (O(n)) but also the complexity of the auxiliary space (O(n)).\n",
    "    \"\"\"\n",
    "    if num not in memo:  # as soon as we have found our value in the memory, we can break/return\n",
    "                         # Lookup is O(size(memo))\n",
    "        if num % 2 == 0:\n",
    "            memo[num] = collatz_memo(num // 2, memo) + 1\n",
    "        else:\n",
    "            memo[num] = collatz_memo(3*num +1, memo) + 1\n",
    "    return memo[num]\n",
    "                \n",
    "max( (collatz_memo(i), i) for i in range(1,10**6) )"
   ]
  },
  {
   "cell_type": "markdown",
   "metadata": {},
   "source": [
    "## Sheet 5"
   ]
  },
  {
   "cell_type": "markdown",
   "metadata": {},
   "source": [
    "### Exercise 1\n",
    "\n",
    "a) Design and write down an algorithm which reverses a list.\n",
    "\n",
    "b) Write a function `reverse` which takes a `list` as input and returns the same `list` but with elements in reverse order. \n",
    "\n",
    "Note: If you write in your script:\n",
    "- array = [1,2,3]\n",
    "- reverse(array)\n",
    "- print(array)\n",
    "the output should be [3,2,1].\n"
   ]
  },
  {
   "cell_type": "code",
   "execution_count": 14,
   "metadata": {},
   "outputs": [],
   "source": [
    "def reverse(arr : list) -> list:\n",
    "    for i in range(len(arr)//2):\n",
    "        arr[i], arr[-i-1] = arr[-i-1], arr[i]\n",
    "    # no return required because we changed the actual list\n",
    "    # which was received as an input.\n",
    "    return arr"
   ]
  },
  {
   "cell_type": "markdown",
   "metadata": {},
   "source": [
    "### Exercise 2\n",
    "\n",
    "a) Write a function `quadratic_formula(a,b,c)` which computes the solutions to the equation\n",
    "$$ ax^2+bx+c=0 $$\n",
    "and returns them in a `list`.\n",
    "\n",
    "- Should be able to return complex solutions."
   ]
  },
  {
   "cell_type": "code",
   "execution_count": 15,
   "metadata": {},
   "outputs": [
    {
     "name": "stdout",
     "output_type": "stream",
     "text": [
      "[1.0, -1.0]\n",
      "[(6.123233995736766e-17+1j), (-6.123233995736766e-17-1j)]\n"
     ]
    }
   ],
   "source": [
    "def quadratic_formula(a : float, b : float, c : float) -> list:\n",
    "    \"\"\"\n",
    "    Returns the solutions to the quadratic equation\n",
    "        ax^2 + bx + c = 0\n",
    "\n",
    "    Returns complex solutions if necessary.\n",
    "\n",
    "    Input:\n",
    "        a: number\n",
    "        b: number\n",
    "        c: number\n",
    "\n",
    "    Output:\n",
    "        solutions: list\n",
    "    \"\"\"\n",
    "    # calculating the discriminant D = (b^2-4ac)^1/2\n",
    "    root = (b**2 - 4*a*c)**(0.5)\n",
    "\n",
    "    # calculating the denominator\n",
    "    denominator = 2*a\n",
    "\n",
    "    # the solutions are simply\n",
    "    solution_plus = (-b + root)/denominator\n",
    "    solution_minus = (-b - root)/denominator\n",
    "\n",
    "    # returning the solutions in a list\n",
    "    return [solution_plus, solution_minus]\n",
    "\n",
    "print(quadratic_formula(1, 0, -1))\n",
    "print(quadratic_formula(1, 0, 1))"
   ]
  },
  {
   "cell_type": "markdown",
   "metadata": {},
   "source": [
    "b) $\\texttt{quadratic\\_formula(a, b, {\\color{red}c=0})}$ which gives $c$ a default value of zero.\n",
    "\n",
    "We cannot do the same for $b$ because, by convention, non-default arguments cannot follow default arguments, i.e.\n",
    "\n",
    "- $\\texttt{quadratic\\_formula(a, {\\color{red}b=0}, c)}$ is not allowed."
   ]
  },
  {
   "cell_type": "markdown",
   "metadata": {},
   "source": [
    "### Exercise 3\n",
    "\n",
    "a) Define the function `while_sum(N)` which takes as input a positive `int` and sums the elements from `1 to N` using a `while` loop and returns the result.\n",
    "\n"
   ]
  },
  {
   "cell_type": "code",
   "execution_count": 16,
   "metadata": {},
   "outputs": [
    {
     "name": "stdout",
     "output_type": "stream",
     "text": [
      "125250 125250\n"
     ]
    }
   ],
   "source": [
    "def while_sum(N : int) -> int:\n",
    "    result = 0\n",
    "    k = 1\n",
    "    while k <= N:\n",
    "        result += k\n",
    "        k += 1\n",
    "    return result\n",
    "\n",
    "print(while_sum(500), 500*501//2)"
   ]
  },
  {
   "cell_type": "markdown",
   "metadata": {},
   "source": [
    "b) Define the function `for_sum(N)` which does the same as in a) but this time using a `for loop`."
   ]
  },
  {
   "cell_type": "code",
   "execution_count": 17,
   "metadata": {},
   "outputs": [
    {
     "name": "stdout",
     "output_type": "stream",
     "text": [
      "125250\n"
     ]
    }
   ],
   "source": [
    "def for_sum(N : int) -> int:\n",
    "    result = 0 \n",
    "    for i in range(1, N+1):\n",
    "        result += i\n",
    "    return result\n",
    "\n",
    "print(for_sum(500))"
   ]
  },
  {
   "cell_type": "markdown",
   "metadata": {},
   "source": [
    "c) Define the function `gauss_summation(N)` which takes as input a positive `int` and computes the sum from `1 to N` using the explicit formula (discovered by Gauss):\n",
    "\n",
    "$$ \\sum_{k=0}^N k = \\frac{N(N+1)}{2}. $$"
   ]
  },
  {
   "cell_type": "code",
   "execution_count": 18,
   "metadata": {},
   "outputs": [
    {
     "name": "stdout",
     "output_type": "stream",
     "text": [
      "125250\n"
     ]
    }
   ],
   "source": [
    "def gauss_summation(N : int) -> int:\n",
    "    return N*(N+1) // 2\n",
    "\n",
    "print(gauss_summation(500))"
   ]
  },
  {
   "cell_type": "markdown",
   "metadata": {},
   "source": [
    "d) Now use the module `time`, more specifically `time.perf_encounter_ns` to measure how long your implementations need to calculate the sum given `N = 10'000`."
   ]
  },
  {
   "cell_type": "code",
   "execution_count": 1,
   "metadata": {},
   "outputs": [
    {
     "ename": "NameError",
     "evalue": "name 'while_sum' is not defined",
     "output_type": "error",
     "traceback": [
      "\u001b[0;31m---------------------------------------------------------------------------\u001b[0m",
      "\u001b[0;31mNameError\u001b[0m                                 Traceback (most recent call last)",
      "\u001b[0;32m<ipython-input-1-09abb8ae8ec8>\u001b[0m in \u001b[0;36m<module>\u001b[0;34m\u001b[0m\n\u001b[1;32m      4\u001b[0m \u001b[0mN\u001b[0m \u001b[0;34m=\u001b[0m \u001b[0;36m10000\u001b[0m\u001b[0;34m\u001b[0m\u001b[0;34m\u001b[0m\u001b[0m\n\u001b[1;32m      5\u001b[0m \u001b[0;34m\u001b[0m\u001b[0m\n\u001b[0;32m----> 6\u001b[0;31m \u001b[0;32mfor\u001b[0m \u001b[0mfunc\u001b[0m \u001b[0;32min\u001b[0m \u001b[0;34m[\u001b[0m\u001b[0mwhile_sum\u001b[0m\u001b[0;34m,\u001b[0m \u001b[0mfor_sum\u001b[0m\u001b[0;34m,\u001b[0m \u001b[0mgauss_summation\u001b[0m\u001b[0;34m]\u001b[0m\u001b[0;34m:\u001b[0m\u001b[0;34m\u001b[0m\u001b[0;34m\u001b[0m\u001b[0m\n\u001b[0m\u001b[1;32m      7\u001b[0m     \u001b[0mstart\u001b[0m \u001b[0;34m=\u001b[0m \u001b[0mperf_counter_ns\u001b[0m\u001b[0;34m(\u001b[0m\u001b[0;34m)\u001b[0m\u001b[0;34m\u001b[0m\u001b[0;34m\u001b[0m\u001b[0m\n\u001b[1;32m      8\u001b[0m     \u001b[0mresult\u001b[0m \u001b[0;34m=\u001b[0m \u001b[0mfunc\u001b[0m\u001b[0;34m(\u001b[0m\u001b[0mN\u001b[0m\u001b[0;34m)\u001b[0m\u001b[0;34m\u001b[0m\u001b[0;34m\u001b[0m\u001b[0m\n",
      "\u001b[0;31mNameError\u001b[0m: name 'while_sum' is not defined"
     ]
    }
   ],
   "source": [
    "# importing the necessary functions\n",
    "from time import perf_counter_ns\n",
    "\n",
    "N = 10000\n",
    "    \n",
    "for func in [while_sum, for_sum, gauss_summation]:\n",
    "    start = perf_counter_ns()\n",
    "    result = func(N)\n",
    "    stop = perf_counter_ns()\n",
    "        \n",
    "    print(f\"The function {func.__name__} took {stop - start} ns to \"\n",
    "          + f\"calculate the sum from 1 to {N}, which is {result}.\\n\")"
   ]
  },
  {
   "cell_type": "markdown",
   "metadata": {},
   "source": [
    "e) Comment on your findings in d) and comparing with how long `sum(range(1, N + 1))` needs to compute the same sum, argue in which scenario you would choose which function."
   ]
  },
  {
   "cell_type": "code",
   "execution_count": 20,
   "metadata": {},
   "outputs": [
    {
     "name": "stdout",
     "output_type": "stream",
     "text": [
      "The function sum took 180300 nanoseconds to calculate the sum from 1 to 10000, which is 50005000.\n",
      "\n"
     ]
    }
   ],
   "source": [
    "start = perf_counter_ns()\n",
    "result = sum(range(1, N+1))\n",
    "stop = perf_counter_ns()\n",
    "print(f\"The function sum took {stop - start} ns to calculate the sum \"\n",
    "      + f\"from 1 to {N}, which is {result}.\\n\")"
   ]
  },
  {
   "cell_type": "code",
   "execution_count": 21,
   "metadata": {},
   "outputs": [
    {
     "name": "stdout",
     "output_type": "stream",
     "text": [
      "The function np.sum took 105900 nanoseconds to calculate the sum from 1 to 10000, which is 49995000.\n",
      "\n"
     ]
    }
   ],
   "source": [
    "import numpy as np\n",
    "\n",
    "start = perf_counter_ns()\n",
    "result = np.sum(np.arange(N))\n",
    "stop = perf_counter_ns()\n",
    "print(f\"The function np.sum took {stop - start} ns to calculate the sum \"\n",
    "      + f\"from 1 to {N}, which is {result}.\\n\")"
   ]
  },
  {
   "cell_type": "markdown",
   "metadata": {},
   "source": [
    "# Part 2 (Freestyle coding)"
   ]
  },
  {
   "cell_type": "markdown",
   "metadata": {},
   "source": [
    "## Exercise 1\n",
    "Write a function `smaller(arr : list)` which takes as an argument a `list` of integer values and returns the amount of numbers that are smaller than `arr[i]` to the right for each `i=0,1,..., len(arr)`.\n",
    "\n",
    "**Examples**: \n",
    "- [5, 4, 3, 2, 1] $\\to $ [4, 3, 2, 1, 0].\n",
    "- [1, 2, 0] $\\to$ [1, 1, 0].\n",
    "- [1, 2, 1] $\\to$ [0, 1, 0].\n",
    "- [1, 1, -1, 0, 0] $\\to$ [3, 3, 0, 0, 0].\n",
    "- [5, 4, 7, 9, 2, 4, 1, 4, 5, 6] $\\to$ [5, 2, 6, 6, 1, 1, 0, 0, 0, 0].\n",
    "\n",
    "**Bonus**: A *trivial* solution has time complexity $O(n^2)$, can you figure out a solution that is $O(n \\log (n))$? Attempt only if you want to come up with a more complex algorithm."
   ]
  },
  {
   "cell_type": "markdown",
   "metadata": {},
   "source": [
    "## Exercise 2\n",
    "\n",
    "You are given the function below, it represents a double sum. \n",
    "- Can you figure out which double sum?\n",
    "- Can you find an explicit formula for the double sum?\n",
    "\n",
    "This function runs reasonable well when the numbers are small $O(n^2)$, can you improve it?"
   ]
  },
  {
   "cell_type": "code",
   "execution_count": 22,
   "metadata": {},
   "outputs": [
    {
     "name": "stdout",
     "output_type": "stream",
     "text": [
      "63\n"
     ]
    }
   ],
   "source": [
    "def find_x(n):\n",
    "    x = 0\n",
    "    for i in range(n):\n",
    "        for j in range(2*n):\n",
    "            x += j + i\n",
    "    return x\n",
    "\n",
    "print(find_x(3))"
   ]
  },
  {
   "cell_type": "markdown",
   "metadata": {},
   "source": [
    "## Exercise 3\n",
    "\n",
    "In this exercise you are given a dataset $x = \\{x_1,x_2, \\dots , x_n\\}$ and we ask you to implement the *truncation*\n",
    "\n",
    "$$ x_i \\mathbf{1}_{\\{|x_i| \\leq b\\}} \\qquad \\text{for all } i=1, \\dots , n, $$\n",
    "\n",
    "where $b \\in \\mathbb{R}_{ \\geq 0}$ is some non-negative constant.\n",
    "\n",
    "In other words, implement a function `truncate(arr : list, b : float)` which takes as arguments a list of numbers (floats) `arr` and a non-negative float `b` and returns another list containing only the element of `arr` which are bounded in absolute value by `b`."
   ]
  },
  {
   "cell_type": "markdown",
   "metadata": {},
   "source": [
    "## Exercise 4\n",
    "\n",
    "Bubble sort is a simple sorting algorithm that repeatedly steps through the input list element by element, comparing the current element with the one after it, swapping their values if needed.\n",
    "\n",
    "The algorithm is iterated through the list until no swaps had to be performed during a full pass, meaning that the list has become fully sorted. \n",
    "\n",
    "Consult the Wikipedia page on [Bubble sort](https://en.wikipedia.org/wiki/Bubble_sort) and implement the algorithm in a function called `bubble_sort(arr : list)`"
   ]
  },
  {
   "cell_type": "markdown",
   "metadata": {},
   "source": [
    "## Exercise 5\n",
    "\n",
    "**ROT13** (rotate by 13 places) is a simple *letter substitution* cipher that replaces a letter in the (modern) English alphabet with the 13th letter after it. ROT13 is a special case of the Caesar cipher which was developed in ancient Rome. \n",
    "\n",
    "<p align=\"center\">\n",
    "  <img src=\"rot13.jpg\" />\n",
    "</p>\n",
    "\n",
    "Implement a function `rot13(message : str) -> str:` that takes as an input a message (for simplicity assume it's case insensitve) and returns the encrypted message after ROT13 is being applied to it. As the picture also clearly indicates, ROT13 is its own inverse (decryptor). \n",
    "\n",
    "**Examples**: \n",
    "\n",
    "- This is my first ROT13 excercise! $\\to$ guvf vf zl svefg ebg13 rkprepvfr! (ignore upper cases).\n",
    "\n",
    "Use your implementation to decrypt my secret message `terng wbo, jryy qbar! be nf znel cbccvaf jbhyq fnl: fhcrepnyvsentvyvfgvprkcvnyvqbpvbhf!`"
   ]
  },
  {
   "cell_type": "markdown",
   "metadata": {},
   "source": [
    "## Exercise 6\n",
    "\n",
    "Write a function `scream(message : str) -> str:` that takes as input a string `message` and returns again a message but this time each `word` in message has each of its `characters` multiplied by its current position in the `word`. It is easier to have a look at a few examples.\n",
    "\n",
    "**Example**: \n",
    "- Hello $\\to$ Heellllllloooo\n",
    "- Hello Marco! $\\to$ Heellllllloooo Maarrrccccooooo!!!!!!\n",
    "- Wow!! $\\to$ Woowww!!!!!!!!!\n",
    "- What a day! $\\to$ Whhaaatttt a daayyy!!!!"
   ]
  },
  {
   "cell_type": "code",
   "execution_count": null,
   "metadata": {},
   "outputs": [],
   "source": []
  }
 ],
 "metadata": {
  "kernelspec": {
   "display_name": "Python 3.8.10 64-bit",
   "language": "python",
   "name": "python3"
  },
  "language_info": {
   "codemirror_mode": {
    "name": "ipython",
    "version": 3
   },
   "file_extension": ".py",
   "mimetype": "text/x-python",
   "name": "python",
   "nbconvert_exporter": "python",
   "pygments_lexer": "ipython3",
   "version": "3.8.10"
  },
  "orig_nbformat": 4,
  "vscode": {
   "interpreter": {
    "hash": "916dbcbb3f70747c44a77c7bcd40155683ae19c65e1c03b4aa3499c5328201f1"
   }
  }
 },
 "nbformat": 4,
 "nbformat_minor": 2
}
