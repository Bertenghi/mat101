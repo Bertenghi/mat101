{
 "cells": [
  {
   "cell_type": "markdown",
   "metadata": {},
   "source": [
    "# Exercise class 10\n",
    "\n",
    "- Name: Marco\n",
    "- E-Mail: mberten@math.uzh.ch (<24h, else send another mail)\n",
    "- Rocket-Chat: https://hello.math.uzh.ch $\\to$ mberten\n",
    "- Github: https://github.com/Bertenghi\n",
    "  - Additional exercises on my git."
   ]
  },
  {
   "cell_type": "markdown",
   "metadata": {},
   "source": [
    "# Information\n",
    "\n",
    "- Exercise sheet 9 was the last exercise sheet\n",
    "- Starting this week, we will focus on the exam preparation\n",
    "    - $\\approx 45$ Minutes individual/assistated solving of exercises (related to the exam)\n",
    "    - $\\approx 45$ Minutes live-coding, implementation (and discussion) of solution."
   ]
  },
  {
   "cell_type": "markdown",
   "metadata": {},
   "source": [
    "## Prime factorisation of a natural number $n$\n",
    "### Difficulty: $\\color{orange}{Medium}$\n",
    "\n",
    "For this task you are given a natural number $n \\geq 1$. It is your task to then produce a list of all prime factors of $n$.\n",
    "\n",
    "Write a function `primeFactors(n : int) -> list:` that performs this task.\n",
    "\n",
    "**Examples**: \n",
    "- $n=14 \\to [2, 7]$ \n",
    "- $n = 111 \\to  [3,37]$\n",
    "- $n = 64 \\to [2,2,2,2,2,2]$\n",
    "- $n = 5 \\to [5]$\n",
    "\n",
    "Try to come up with an algorithm on your own, if you get stuck you may have a look at the algorithm.\n",
    "\n",
    "\n",
    "\n",
    "<details>\n",
    "  <summary>Algorithm (Please only check after you have been stuck for a while)</summary>\n",
    "\n",
    "  Below we give an efficient algorithm for prime factorisation. Efficiency is difficult to measure (average case vs worst case), however, the worst case is attained whenever $n=p$ is a prime number.\n",
    "  \n",
    "  Let us denote the integer by $n$.\n",
    "  \n",
    "  1. Create an empty list prime_factors = [ ]\n",
    "  2. While $n$ is divisible by $2$, append $2$ to the list and divide $n$ by 2.\n",
    "  3. After step 2, $n$ must be an odd integer (make sure to update $n$).\n",
    "  4. Start a loop from $i=3$ to $i=\\sqrt{n}$ in increments of $2$. \n",
    "  5. While $i$ divides $n$, append $i$ to the list and divide $n$ by $i$.\n",
    "  6. If $n=p$ is prime and greater than 2, then $n$ can never become $1$ hence we can just append $n$ to the list in said case.\n",
    "</details>"
   ]
  },
  {
   "cell_type": "code",
   "execution_count": 7,
   "metadata": {},
   "outputs": [
    {
     "name": "stdout",
     "output_type": "stream",
     "text": [
      "a\n",
      "12\n",
      "13\n",
      "b\n"
     ]
    }
   ],
   "source": [
    "## 10 possible solutions\n",
    "## here is one\n",
    "\n",
    "def primeFactors(n : int) -> list:\n",
    "    prime_factors = []                  # empty list\n",
    "    divisor = 2\n",
    "    while n > 2 :\n",
    "        while n % divisor == 0:         # n is divisible by divisor\n",
    "            prime_factors += [divisor]  # append to list\n",
    "            n = n // divisor            # integer division -> integer\n",
    "        divisor += 1\n",
    "    return prime_factors\n",
    "\n",
    "primeFactors(12131)"
   ]
  },
  {
   "cell_type": "markdown",
   "metadata": {},
   "source": [
    "## Statistics for data sets\n",
    "### Difficulty: $\\color{green}{Easy}$\n",
    "\n",
    "Assume you are given a dataset $x_1,x_2, \\dots , x_n$, where $n \\geq 1$, in form of a list (array, tuple etc.). You can then perform several statistics on said dataset. In this task, we will give you the mathematical formula of the statistic and ask you to implement it as a `function`:\n",
    "\n",
    "a) The (sample) `mean` of a dataset $d$ is defined as \n",
    "$$\\text{mean}(d) := \\frac{1}{n} \\sum_{i=1}^{n} x_i. $$\n",
    "\n",
    "b) The (sample) `median` of an *ordered* dataset $d$ is defined as \n",
    "\n",
    "$$ \\text{median}(d) := \\begin{cases} \\displaystyle x_{(n+1)/2}, & \\text{if $n$ is odd} \\\\ \\\\ \\dfrac{x_{(n/2)+ \\displaystyle x_{(n/2)+1}}}{2}, & \\text{if $n$ is even} \\end{cases} $$\n",
    "\n",
    "**Remark**: Make sure to sort the array!\n",
    "\n",
    "c) You are now given two datasets $d_1=[x_1,x_2, \\dots , x_n]$ and $d_2=[y_1,y_2, \\dots , y_n]$. The `covariance` between $d_1$ and $d_2$ is defined as:\n",
    "\n",
    "$$ \\text{cov}(d_1,d_2) := \\frac{1}{n} \\sum_{i=1}^n (x_i-\\text{mean}(d_1))(y_i - \\text{mean}(d_2)) $$"
   ]
  },
  {
   "cell_type": "markdown",
   "metadata": {},
   "source": [
    "## Another statistic, the mode of a data set\n",
    "### Difficulty: $\\color{orange}{Medium}$\n",
    "\n",
    "You are given again a dataset $d$, a `mode` of said dataset is defined as the most frequent value(s) in the data set. If there are multiple elements satisfying that property, any value can be returned.\n",
    "\n",
    "**Examples**:\n",
    " - $[1,2,2,3,4,7,9] \\to 2$\n",
    " - $[1,3,6,6,6,6,7,7,12,12,17] \\to 6$\n",
    " - $[1,1,2,4,4] \\to 1$ or $4$\n",
    " - $ [1,2,3,4,5] \\to$ $1$ or $2$ or,..., or $5$.\n",
    " - $ [\"Mark\", \"Marco\", \"Marco\", \"Marc\"] \\to \"Marco\"$"
   ]
  },
  {
   "cell_type": "markdown",
   "metadata": {},
   "source": [
    "## The minimum of three consecutive elements\n",
    "### Difficulty: $\\color{green}{Easy}$\n",
    "\n",
    "You are given a list $L=[L_0,L_1, \\dots , L_{n-1}]$. We view the last elements of this list as edge cases (there is nothing to left, respectively nothing to the right).\n",
    "\n",
    "Implement a function `minEnergy(L : list) -> list:` that returns the following given $L$:\n",
    "- $[\\min(L_0,L_1), \\min(L_0,L_1,L_2), \\min(L_1,L_2,L_3), \\dots , \\min(L_{n-2},L_{n-1})]$\n",
    "i.e. the function `minEnergy` returns a list of equal length as $L$ with the minimum of three *consecutive* elements respecting edge cases.\n",
    "\n",
    "**Examples**:\n",
    "- $[2,3,4,1] \\to [2, 2, 1, 1]$\n",
    "- $[1,4,9,0,2,1,0,1,3,1] \\to [1, 1, 0, 0, 0, 0, 0, 0, 1, 1]$ "
   ]
  },
  {
   "cell_type": "markdown",
   "metadata": {},
   "source": []
  }
 ],
 "metadata": {
  "kernelspec": {
   "display_name": "Python 3.8.10 64-bit",
   "language": "python",
   "name": "python3"
  },
  "language_info": {
   "codemirror_mode": {
    "name": "ipython",
    "version": 3
   },
   "file_extension": ".py",
   "mimetype": "text/x-python",
   "name": "python",
   "nbconvert_exporter": "python",
   "pygments_lexer": "ipython3",
<<<<<<< HEAD
   "version": "3.10.2 (tags/v3.10.2:a58ebcc, Jan 17 2022, 14:12:15) [MSC v.1929 64 bit (AMD64)]"
=======
   "version": "3.8.10"
>>>>>>> 72ba81232df86a422c115096ce9160ff596a3cf7
  },
  "orig_nbformat": 4,
  "vscode": {
   "interpreter": {
    "hash": "916dbcbb3f70747c44a77c7bcd40155683ae19c65e1c03b4aa3499c5328201f1"
   }
  }
 },
 "nbformat": 4,
 "nbformat_minor": 2
}
