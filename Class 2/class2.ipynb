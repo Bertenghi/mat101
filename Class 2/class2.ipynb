{
 "cells": [
  {
   "cell_type": "markdown",
   "metadata": {},
   "source": [
    "# Exercise class 1\n",
    "\n",
    "- Name: Marco\n",
    "- E-Mail: mberten@math.uzh.ch (<24h)\n",
    "- Rocket-Chat: https://hello.math.uzh.ch $\\to$ mberten\n",
    "- Github: https://github.com/Bertenghi"
   ]
  },
  {
   "cell_type": "markdown",
   "metadata": {},
   "source": [
    "## Summary of previous class (in 2 minutes or less)\n",
    "\n",
    "- Python is 0-indexed, i.e. to access the first element of a list (set, string) you use square-bracket notation [0].\n",
    "- Similarly, one can slice through elements of a list (set, string) with the notation [a:b], observe that a is included in this notation whereas b is not.\n",
    "- if, elif, else statements along with for and while loops are the most important techniques of flow-control in Python (or any programming language)."
   ]
  },
  {
   "cell_type": "markdown",
   "metadata": {},
   "source": [
    "## Today: Functions (finally!)"
   ]
  },
  {
   "cell_type": "markdown",
   "metadata": {},
   "source": [
    "### In Matheamtics\n",
    "\n",
    "In mathematics, a function from a set $X$ to a set $Y$ assigns to each element $x \\in X$ exactly one element $y \\in Y$. We commonly denote such a function $f$ by $f: X \\to Y$ and thus require that $\\forall x \\in X, \\exists ! y \\in Y : f(x)=y$. We often refer to $x \\in X$ as the *argument* of a function and $y=f(x)$ as the *image* of $x$ under the function $f$. For example:\n",
    "\n",
    "$$ \\text{sqr}: \\begin{cases} \\mathbb{Z} & \\longrightarrow \\mathbb{Z} \\\\ x & \\longmapsto x^2 \\end{cases}$$\n",
    "\n",
    "defines a function sqr from the integers to the integers that returns the square of its input. \n",
    "\n",
    "Mathematics is a very strict discipliny in the sense that with respect to the above notation one is not allowed to compute sqr($\\pi$) because $\\pi \\notin \\mathbb{Z}$ and hence sqr($\\pi$) is undefined.\n",
    "\n",
    "A function can also be *recursive*: a recursive function can be defined as a function that calls itself directly or indirectly. For example:\n",
    "\n",
    "$$ \\text{fib} : \\begin{cases} \\mathbb{N}& \\longrightarrow \\mathbb{N} \\\\ n & \\longmapsto \\text{fib}(n-1)+ \\text{fib}(n-2) \\end{cases}, \\qquad \\text{fib}(0)=0, \\ \\text{fib}(1)=1 $$\n",
    "\n",
    "is a recursive function. \n",
    "\n",
    "### In Python\n",
    "\n",
    "In Python, the story is similar although not as rigid as in mathematics. Since this is a course in programming (and not directly in abstract mathematics), from here on now when we use the word function we refer to a function in the sense of programming.\n",
    "\n",
    "Functions are reusable pieces of programs. They allow you to give a name to a block of statements, allowing you to run that block using the specified name anywhere in your program any number of times. We have already used many built-in functions such as *len* or *range*.\n",
    "\n",
    "In Python, functions are defiend using the **def** keyword. After this keyword comes an *identifier* name for the function $f$ (such as sqrt), followed by a pair of parenthesis which may enclose some names of *parameters*, and by the final colon that ends the line. In the *body* of the function follows a block of statements (code) that are part of this function."
   ]
  },
  {
   "cell_type": "code",
   "execution_count": 5,
   "metadata": {},
   "outputs": [
    {
     "name": "stdout",
     "output_type": "stream",
     "text": [
      "\n",
      "    Returns the sum of two integer numbers.\n",
      "\n",
      "        Parameters:\n",
      "            a (int)\n",
      "            b (int)\n",
      "\n",
      "        Returns:\n",
      "            a + b (int)\n",
      "    \n"
     ]
    }
   ],
   "source": [
    "def add(a : int, b : int) -> int:\n",
    "    \"\"\"\n",
    "    Returns the sum of two integer numbers.\n",
    "\n",
    "        Parameters:\n",
    "            a (int)\n",
    "            b (int)\n",
    "\n",
    "        Returns:\n",
    "            a + b (int)\n",
    "    \"\"\"\n",
    "    return a + b  # output (return)\n",
    "\n",
    "add(5,9)\n",
    "print(add.__doc__)"
   ]
  },
  {
   "cell_type": "markdown",
   "metadata": {},
   "source": [
    "The function *add* above takes as its arguments two parameters $a$ and $b$ and returns (outputs) their sum $a+b$.\n",
    "\n",
    "In Python 3 (PEP 3107) one can now specify the type of a parameter and the type return type of a function. Above this can be seen as ${\\color{orange}\\text{a : int, b : int and -> int:}}$ While this is optional it does increase readability of the code.\n",
    "\n",
    "However, here things slightly deviate from the mathematical framework. \n",
    "\n",
    "`Python does not have variables, like other languages where variables have a type and a value; it has names pointing to objects, which themselves know their type.`\n",
    "\n",
    "This sounds weird, but it's a programming concept used by Python called `duck typing` to determine whether an object can be used for a particular purpose.\n",
    "\n",
    "`Duck Test: If it looks like a duck, swims like a duck, and quacks like a duck, then it must be a duck.`\n",
    "\n",
    "In light of this, the following is allowed:"
   ]
  },
  {
   "cell_type": "code",
   "execution_count": 3,
   "metadata": {},
   "outputs": [
    {
     "data": {
      "text/plain": [
       "'hello world'"
      ]
     },
     "execution_count": 3,
     "metadata": {},
     "output_type": "execute_result"
    }
   ],
   "source": [
    "add(\"hello\", \" world\")  # evidently \"hello\" and \" world\" are both strings"
   ]
  },
  {
   "cell_type": "markdown",
   "metadata": {},
   "source": [
    "#### The return statement\n",
    "\n",
    "The return statement is used to *return* from a function, i.e. break out of the function. Typically we want to return a value (or values) from a function which can later be used again, for instance to compose functions in order to build more complex functions or functionality. \n",
    "\n",
    "Note that a return statement without a value is equivalent to return None. None is a special type of Python that represents nothingness. Every function implicitly contains a return None statement at the end unless otherwise specified. \n",
    "\n",
    "#### Docstrings\n",
    "\n",
    "Python has a nifty feature called *documentation strings* or in short *docstrings*. Docstrings are an important tool which should be used often in order to make a document a program (in particular a function) and make it easier to understand.\n",
    "\n",
    "In Python, docstrings are used with \"\"\"text here\"\"\" or '''text here''' and they allow for multiline comments.\n",
    "\n",
    " Note that Docstrings are optional, but strongly recommended. Also always remember that the person that reads your code is maybe yourself in 1 year."
   ]
  },
  {
   "cell_type": "markdown",
   "metadata": {},
   "source": []
  }
 ],
 "metadata": {
  "kernelspec": {
   "display_name": "Python 3.8.10 64-bit",
   "language": "python",
   "name": "python3"
  },
  "language_info": {
   "codemirror_mode": {
    "name": "ipython",
    "version": 3
   },
   "file_extension": ".py",
   "mimetype": "text/x-python",
   "name": "python",
   "nbconvert_exporter": "python",
   "pygments_lexer": "ipython3",
   "version": "3.8.10"
  },
  "orig_nbformat": 4,
  "vscode": {
   "interpreter": {
    "hash": "916dbcbb3f70747c44a77c7bcd40155683ae19c65e1c03b4aa3499c5328201f1"
   }
  }
 },
 "nbformat": 4,
 "nbformat_minor": 2
}
