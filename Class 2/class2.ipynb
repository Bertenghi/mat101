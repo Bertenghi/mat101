{
 "cells": [
  {
   "cell_type": "markdown",
   "metadata": {},
   "source": [
    "# Exercise class 1\n",
    "\n",
    "- Name: Marco\n",
    "- E-Mail: mberten@math.uzh.ch (<24h, else send another mail)\n",
    "- Rocket-Chat: https://hello.math.uzh.ch $\\to$ mberten\n",
    "- Github: https://github.com/Bertenghi"
   ]
  },
  {
   "cell_type": "markdown",
   "metadata": {},
   "source": [
    "## Summary of previous class (in 2 minutes or less)\n",
    "\n",
    "- Python is `0-indexed`, i.e. to access the first element of a list (set, string) you use square-bracket notation `[0]`.\n",
    "- Similarly, one can slice through elements of a list (set, string) with the notation `[a:b]`, observe that a is included in this notation whereas b is not.\n",
    "- if, elif, else statements along with for and while loops are the most important techniques of flow-control in Python (or any programming language)."
   ]
  },
  {
   "cell_type": "markdown",
   "metadata": {},
   "source": [
    "## Today: Functions (`finally!`)"
   ]
  },
  {
   "cell_type": "markdown",
   "metadata": {},
   "source": [
    "### In Mathematics\n",
    "\n",
    "In mathematics, a function from a set $X$ to a set $Y$ assigns to each element $x \\in X$ exactly one element $y \\in Y$. We commonly denote such a function $f$ by $f: X \\to Y$ and thus require that $\\forall x \\in X, \\exists ! y \\in Y : f(x)=y$. We often refer to $x \\in X$ as the *argument* of a function and $y=f(x)$ as the *image* of $x$ under the function $f$. For example:\n",
    "\n",
    "$$ \\text{sqr}: \\begin{cases} \\mathbb{Z} & \\longrightarrow \\mathbb{Z} \\\\ x & \\longmapsto x^2 \\end{cases}$$\n",
    "\n",
    "defines a function sqr from the integers to the integers that returns the square of its input. \n",
    "\n",
    "Mathematics is a very strict discipline in the sense that with respect to the above notation one is not allowed to compute sqr($\\pi$) because $\\pi \\notin \\mathbb{Z}$ and hence sqr($\\pi$) is undefined.\n",
    "\n",
    "A function can also be *recursive*: a recursive function can be defined as a function that calls itself directly or indirectly. For example:\n",
    "\n",
    "$$ \\text{fib} : \\begin{cases} \\mathbb{N}& \\longrightarrow \\mathbb{N} \\\\ n & \\longmapsto \\text{fib}(n-1)+ \\text{fib}(n-2) \\end{cases}, \\qquad \\text{fib}(0)=0, \\ \\text{fib}(1)=1 $$\n",
    "\n",
    "is a recursive function. \n",
    "\n",
    "### In Python\n",
    "\n",
    "In Python, the story is similar although not as rigid as in mathematics. Since this is a course in programming (and not directly in abstract mathematics), from here on now when we use the word function we refer to a function in the sense of programming.\n",
    "\n",
    "Functions are reusable pieces of programs. They allow you to give a name to a block of statements, allowing you to run that block using the specified name anywhere in your program any number of times. We have already used many built-in functions such as *len* or *range*.\n",
    "\n",
    "In Python, functions are defiend using the **def** keyword. After this keyword comes an *identifier* name for the function $f$ (such as sqrt), followed by a pair of parenthesis which may enclose some names of *parameters*, and by the final colon that ends the line. In the *body* of the function follows a block of statements (code) that are part of this function."
   ]
  },
  {
   "cell_type": "code",
   "execution_count": 2,
   "metadata": {},
   "outputs": [
    {
     "name": "stdout",
     "output_type": "stream",
     "text": [
      "14\n",
      "\n",
      "    Returns the sum of two integer numbers.\n",
      "\n",
      "        Parameters:\n",
      "            a (int)\n",
      "            b (int)\n",
      "\n",
      "        Returns:\n",
      "            a + b (int)\n",
      "    \n"
     ]
    }
   ],
   "source": [
    "def add(a : int, b : int) -> int:\n",
    "    \"\"\"\n",
    "    Returns the sum of two integer numbers.\n",
    "\n",
    "        Parameters:\n",
    "            a (int)\n",
    "            b (int)\n",
    "\n",
    "        Returns:\n",
    "            a + b (int)\n",
    "    \"\"\"\n",
    "    return a + b  # output (return)\n",
    "\n",
    "print(add(5,9))\n",
    "print(add.__doc__)"
   ]
  },
  {
   "cell_type": "markdown",
   "metadata": {},
   "source": [
    "The function *add* above takes as its arguments two parameters $a$ and $b$ and returns (outputs) their sum $a+b$.\n",
    "\n",
    "In Python 3 (PEP 3107) one can now specify the type of a parameter and the type return type of a function. Above this can be seen as ${\\color{orange}\\text{a : int, b : int and -> int:}}$ While this is optional it does increase readability of the code.\n",
    "\n",
    "However, here things slightly deviate from the mathematical framework. \n",
    "\n",
    "`Python does not have variables, like other languages where variables have a type and a value; it has names pointing to objects, which themselves know their type.`\n",
    "\n",
    "This sounds weird, but it's a programming concept used by Python called `duck typing` to determine whether an object can be used for a particular purpose.\n",
    "\n",
    "`Duck Test: If it looks like a duck, swims like a duck, and quacks like a duck, then it must be a duck.`\n",
    "\n",
    "In light of this, the following is allowed:"
   ]
  },
  {
   "cell_type": "code",
   "execution_count": 5,
   "metadata": {},
   "outputs": [
    {
     "data": {
      "text/plain": [
       "'hello world'"
      ]
     },
     "execution_count": 5,
     "metadata": {},
     "output_type": "execute_result"
    }
   ],
   "source": [
    "add(\"hello\", \" world\")  # evidently \"hello\" and \" world\" are both strings"
   ]
  },
  {
   "cell_type": "markdown",
   "metadata": {},
   "source": [
    "#### The return statement\n",
    "\n",
    "The return statement is used to *return* from a function, i.e. break out of the function. Typically we want to return a value (or values) from a function which can later be used again, for instance to compose functions in order to build more complex functions or functionality. \n",
    "\n",
    "Note that a return statement without a value is equivalent to return None. None is a special type of Python that represents nothingness. Every function implicitly contains a return None statement at the end unless otherwise specified. \n",
    "\n",
    "#### Docstrings\n",
    "\n",
    "Python has a nifty feature called *documentation strings* or in short *docstrings*. Docstrings are an important tool which should be used often in order to make a document a program (in particular a function) and make it easier to understand.\n",
    "\n",
    "In Python, docstrings are used with `\"\"\"text here\"\"\"` or `'''text here'''` and they allow for multiline comments.\n",
    "\n",
    " Note that `docstrings are optional, but strongly recommended`. Also always remember that the person that reads your code is maybe yourself in 1 year."
   ]
  },
  {
   "cell_type": "markdown",
   "metadata": {},
   "source": [
    "## Sheet 2"
   ]
  },
  {
   "cell_type": "markdown",
   "metadata": {},
   "source": [
    "### Exercise 1\n",
    "\n",
    "a) The *greatest common divisor* (gcd) of two itnegers $a$ and $b$ is defined as the largest positive integers that divides both $a$ and $b$. \n",
    "\n",
    "- gcd(a,0)=gcd(0,a)=|a|\n",
    "- gcd(0,0):= 0.\n",
    "\n",
    "Write an algorithm such that for given integers $a,b$ it returns the gcd of $a$ and $b$.\n",
    "\n",
    "<details>\n",
    "  <summary>Solution</summary>\n",
    "  \n",
    "1. If $b=0$, then return $|a|$;\n",
    "2. Else, assign $a$ the value of $b$ and $b$ the value $a\\%b$ and go to step 1.\n",
    "\n",
    "</details>"
   ]
  },
  {
   "cell_type": "markdown",
   "metadata": {},
   "source": [
    "b) Using an approriate method of flow-control, implement your algorithm of part a) in a script."
   ]
  },
  {
   "cell_type": "code",
   "execution_count": 3,
   "metadata": {},
   "outputs": [
    {
     "name": "stdout",
     "output_type": "stream",
     "text": [
      "3\n"
     ]
    }
   ],
   "source": [
    "## Below is a script that returns the gcd of a,b.\n",
    "\n",
    "a, b = 15, 12  # the given integers (change manually for other tests)\n",
    "\n",
    "while b:  # if b == 0 (i.e. False as a Bool) -> terminate while loop\n",
    "    a , b = b , a % b  \n",
    "greatestCommonDivisor = abs(a)\n",
    "print(greatestCommonDivisor)"
   ]
  },
  {
   "cell_type": "code",
   "execution_count": 32,
   "metadata": {},
   "outputs": [
    {
     "data": {
      "text/plain": [
       "3"
      ]
     },
     "execution_count": 32,
     "metadata": {},
     "output_type": "execute_result"
    }
   ],
   "source": [
    "def gcd(a : int , b : int) -> int:\n",
    "    while b !=0:  # If b is not zero\n",
    "        a, b = b , a % b\n",
    "    return abs(a)\n",
    "\n",
    "gcd(234,21)    "
   ]
  },
  {
   "cell_type": "code",
   "execution_count": 31,
   "metadata": {},
   "outputs": [
    {
     "data": {
      "text/plain": [
       "3"
      ]
     },
     "execution_count": 31,
     "metadata": {},
     "output_type": "execute_result"
    }
   ],
   "source": [
    "def gcd_rec(a, b):\n",
    "    if b == 0:  # base case\n",
    "        return abs(a)\n",
    "    else:\n",
    "        return gcd_rec(b, a % b)\n",
    "\n",
    "gcd_rec(234, 21)"
   ]
  },
  {
   "cell_type": "code",
   "execution_count": 18,
   "metadata": {},
   "outputs": [
    {
     "name": "stdout",
     "output_type": "stream",
     "text": [
      "19\n"
     ]
    },
    {
     "data": {
      "text/plain": [
       "(1, 45)"
      ]
     },
     "execution_count": 18,
     "metadata": {},
     "output_type": "execute_result"
    }
   ],
   "source": [
    "def gcd(a : int, b : int) -> int:\n",
    "    n = 1  # runtime: O(log(b))\n",
    "    while b:\n",
    "        a, b = b, a % b\n",
    "        n += 1\n",
    "    return abs(a), n\n",
    "b = 19\n",
    "print(b)\n",
    "gcd(1423991322767327662123, 9915455421265465231233213)"
   ]
  },
  {
   "cell_type": "code",
   "execution_count": 35,
   "metadata": {},
   "outputs": [
    {
     "data": {
      "text/plain": [
       "21"
      ]
     },
     "execution_count": 35,
     "metadata": {},
     "output_type": "execute_result"
    }
   ],
   "source": [
    "def gcd_rec(a : int, b : int) -> int:\n",
    "    if b == 0:  # base case\n",
    "        return abs(a)\n",
    "    else:\n",
    "        return gcd(b, a % b)\n",
    "\n",
    "gcd(945, 231)"
   ]
  },
  {
   "cell_type": "markdown",
   "metadata": {},
   "source": [
    "<details>\n",
    "  <summary>Excursus: Runtime of gcd (time complexity)</summary>\n",
    "\n",
    "The algorithm we have implemented is a modernised version of Euclid's algorithm (commonly refered to as the Euclidean algorithm in order to compute the gcd). There is a (far) less efficient version of this algorithm which works via subtraction as opposed to division. \n",
    "\n",
    "We want to investigate here the time complexity of the implemented gcd.\n",
    "\n",
    "**Lemma**: Assume $a > b \\geq 0$ and suppose that the algorithm gcd($a$,$b$) requires $n \\geq 1$ steps to terminate (i.e. $n$-steps to turn $b$ into a zero). Then $a \\geq f(n+2)$ and $b \\geq f(n+1)$ where $f(n)$ denotes the $n$-th term in the Fibonacci series ($0,1,1,2,3,5,8, \\dots$).  \n",
    "\n",
    "**Proof**: We proceed by induction over $n \\in \\mathbb{N}$. \n",
    "\n",
    "- *(Base case)* Assume that $n=1$, i.e. we require one steps to turn $b$ into zero. This means that a % b is zero (no remainder) and the smallest numbers that satisfy this are $a=2$ and $b=1$. Thus $a=2=f(3)$ und $b=1=f(2)$.\n",
    "\n",
    "- *(Induction step)* Assume now that the statements the statements holds for a fixed but arbitrary $n-1 \\in \\mathbb{N}$ and we want to show that it follows that the statements holds for $n$ as well. \n",
    "\n",
    "Since we call (recursively) from gcd($a$,$b$) the recursion gcd($b$, $a \\% b$) and the latter takes by assumption $n-1$ steps (for which our induction hypothesis holds) it follows that:\n",
    "  - $b \\geq f(n-1+2)= f(n+1)$ and\n",
    "  - $a \\% b \\geq f(n-1+1)=f(n)$.\n",
    "\n",
    "But since\n",
    "\n",
    "$$ a = \\left\\lfloor \\frac{a}{b} \\right\\rfloor \\times b + a \\% b $$\n",
    "\n",
    "and $a/b \\geq 1$ (as $a \\geq b$) it follows that \n",
    "\n",
    "$$ a \\geq b + a \\% b \\geq f(n+1)+f(n) = f(n+2) $$\n",
    "\n",
    "which concludes the proof by the principle of complete induction over $n \\in \\mathbb{N}$ $\\square$.\n",
    "\n",
    "**Corollary**: It follows that $n = O(\\log_\\Phi( \\min(a,b)))$, where $\\Phi = (1 + \\sqrt{5})/2$ is the golden ratio.\n",
    "\n",
    "**Remark**: For $f: I \\subset \\mathbb{R} \\to \\mathbb{R}$ and $g: J \\subset \\mathbb{R} \\to \\mathbb{R}_{>0}$ we write $f(x)=O(g(x))$ as $x \\to \\infty$ if and only if there exists $M>0$ and $x_0 \\in \\mathbb{R}$ such that\n",
    "\n",
    "$$|f(x)| \\leq Mg(x), \\qquad \\forall x \\geq x_0. $$\n",
    "\n",
    "**Proof of Corollary**: It is an easy exercise (good practice!) to establish **Binet's formula** for Fibonacci numbers, i.e.\n",
    "\n",
    "$$f(n) = \\frac{ \\Phi^n-(- \\Phi)^{-n}}{\\sqrt{5}},$$\n",
    "\n",
    "it follows that $f(n)=O( \\Phi^n )$. It is further easy by induction to argue that we the following inequality holds for all $n \\in \\mathbb{N}_{ \\geq 1}$:\n",
    "\n",
    "$$ \\Phi^{n-1} \\leq  f(n+1).$$\n",
    "\n",
    "But we have already shown that\n",
    "\n",
    "$$ b \\geq f(n+1) \\geq \\Phi^{n-1} \\implies n \\leq \\log_\\phi(b) +1.$$\n",
    "\n",
    "We recall that $b = \\min(a,b)$ and conclude the proof.\n",
    "\n",
    "</details>"
   ]
  },
  {
   "cell_type": "markdown",
   "metadata": {},
   "source": [
    "c) The *least common multiple* (lcm) of two integers $a$ and $b$ is the smallest positive integer that is divisible by both $a$ and $b$.\n",
    "\n",
    "- Here we also define lcm(a,0)=lcm(0,a)=0 for all integers $a$.\n",
    "\n",
    "Write a script that gives the lcm of two integers $a$ and $b$."
   ]
  },
  {
   "cell_type": "code",
   "execution_count": 10,
   "metadata": {},
   "outputs": [
    {
     "data": {
      "text/plain": [
       "346380"
      ]
     },
     "execution_count": 10,
     "metadata": {},
     "output_type": "execute_result"
    }
   ],
   "source": [
    "def lcm(a : int, b : int) -> int:\n",
    "    return abs(a*b) // gcd(a,b)\n",
    "\n",
    "lcm(15,23092)"
   ]
  },
  {
   "cell_type": "markdown",
   "metadata": {},
   "source": [
    "### Exercise 2\n",
    "\n",
    "In this exercise you are given a list $L$  (possibly empty, i.e. $L$ = [ ]) and a target  value $t$. You can assume that $t$ is either an integer or a string. Write a script that gives the `first` index of $L$ where the value $t$ occurs,  if the target value $t$ does not occur in $L$ the script should give None."
   ]
  },
  {
   "cell_type": "code",
   "execution_count": 4,
   "metadata": {},
   "outputs": [
    {
     "name": "stdout",
     "output_type": "stream",
     "text": [
      "None\n"
     ]
    }
   ],
   "source": [
    "## Occurence Script\n",
    "\n",
    "arr = [2,3,2,4]\n",
    "target = 4\n",
    "\n",
    "if len(arr):\n",
    "    idx = 0\n",
    "else:\n",
    "    idx = None\n",
    "\n",
    "while len(arr) and (target != arr[idx]):\n",
    "    idx += 1\n",
    "    if idx == len(arr):\n",
    "        idx = None\n",
    "        break\n",
    "\n",
    "## Occurence function below:\n",
    "\n",
    "def occursIn(arr : list, target):\n",
    "    if len(arr):\n",
    "        idx = 0\n",
    "    else:\n",
    "        return None\n",
    "    while (target != arr[idx]):\n",
    "        idx += 1\n",
    "        if idx == len(arr):\n",
    "            return None\n",
    "    return idx\n",
    "\n",
    "print(occursIn([3], 2))"
   ]
  },
  {
   "cell_type": "markdown",
   "metadata": {},
   "source": [
    "### Exercise 3\n",
    "\n",
    "You are attending the MAT101 Programming exam and you are wondering if you have already solved enough exercises to achieve a grade that is satisfactory for you. You have a good idea on how many points $s=$score you have scored so far and you know the following:\n",
    "\n",
    "- $55 < s \\leq 60 \\implies$ Grade: 6.0\n",
    "- $50 < s \\leq 55 \\implies$ Grade: 5.5\n",
    "- $45 < s \\leq 50 \\implies$ Grade: 5.0\n",
    "- $40 < s \\leq 45 \\implies$ Grade: 4.5\n",
    "- $35 < s \\leq 40 \\implies$ Grade: 4.0\n",
    "- $0 \\leq s \\leq 35 \\implies$ Grade: Failed attempt\n",
    "\n",
    "Write a script that given your score (possibly as a float) gives your grade according to teh list above. In case you haven't passed the exam, return a string Failed attempt. \n",
    "\n",
    "Your script should also be able to handle an invalid input such as $s=-13$ or $s=100$."
   ]
  },
  {
   "cell_type": "code",
   "execution_count": 27,
   "metadata": {},
   "outputs": [
    {
     "name": "stdout",
     "output_type": "stream",
     "text": [
      "4.0\n"
     ]
    }
   ],
   "source": [
    "score = 40  # given score.\n",
    "\n",
    "if 55 < score <= 60:\n",
    "    grade = 6.0\n",
    "elif 50 < score <= 55: \n",
    "    grade = 5.5\n",
    "elif 45 < score <= 50:\n",
    "    grade = 5.0\n",
    "elif 40 < score <= 45:\n",
    "    grade = 4.5\n",
    "elif 34 < score <= 40:\n",
    "    grade = 4.0\n",
    "elif 0 <= score <= 35:\n",
    "    grade = \"Failed attempt\"\n",
    "else:\n",
    "    grade = \"Invalid input\"\n",
    "print(grade)"
   ]
  },
  {
   "cell_type": "markdown",
   "metadata": {},
   "source": [
    "### Exercise 4\n",
    "\n",
    "In number theory, `Euler's totient function` $\\varphi$ counts the positive integers up to a given integer that are coprime to $n$. In other words, it is the number of integers $k$ in the range $1 \\leq k \\leq n$ for which the greatest common divisor gcd($n,k$) is equal to $1$.\n",
    "\n",
    "The goal is here to implement Euler's totient function."
   ]
  },
  {
   "cell_type": "code",
   "execution_count": 33,
   "metadata": {},
   "outputs": [
    {
     "data": {
      "text/plain": [
       "750"
      ]
     },
     "execution_count": 33,
     "metadata": {},
     "output_type": "execute_result"
    }
   ],
   "source": [
    "def eulerPhi(n : int) -> int:\n",
    "    return sum(1 for i in range(1, n+1) if gcd(i,n) == 1)\n",
    "\n",
    "eulerPhi(1502)"
   ]
  },
  {
   "cell_type": "code",
   "execution_count": 80,
   "metadata": {},
   "outputs": [
    {
     "data": {
      "text/plain": [
       "750"
      ]
     },
     "execution_count": 80,
     "metadata": {},
     "output_type": "execute_result"
    }
   ],
   "source": [
    "def eulerPhiSum(n : int) -> int:\n",
    "    sum = 0  # initialize an \"empty\" sum\n",
    "    for i in range(1, n+1):\n",
    "        if gcd(i,n) == 1:\n",
    "            sum += 1\n",
    "    return sum\n",
    "\n",
    "eulerPhiSum(1502)"
   ]
  }
 ],
 "metadata": {
  "kernelspec": {
   "display_name": "Python 3.8.10 64-bit",
   "language": "python",
   "name": "python3"
  },
  "language_info": {
   "codemirror_mode": {
    "name": "ipython",
    "version": 3
   },
   "file_extension": ".py",
   "mimetype": "text/x-python",
   "name": "python",
   "nbconvert_exporter": "python",
   "pygments_lexer": "ipython3",
   "version": "3.8.10"
  },
  "orig_nbformat": 4,
  "vscode": {
   "interpreter": {
    "hash": "916dbcbb3f70747c44a77c7bcd40155683ae19c65e1c03b4aa3499c5328201f1"
   }
  }
 },
 "nbformat": 4,
 "nbformat_minor": 2
}
