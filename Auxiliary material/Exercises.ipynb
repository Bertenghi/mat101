{
 "cells": [
  {
   "cell_type": "markdown",
   "metadata": {},
   "source": [
    "# Bonus Exercises\n",
    "\n",
    "This is a collection of *(non-mandatory)* `bonus exercises`. I recommend trying a selection of these exercises during the individual coding part of the exercise classes or to prepare for the exam.\n",
    "\n",
    "- No model solutions will be published\n",
    "\n",
    "However, you can ask me anytime for hints or submit me your solution for discussion at mberten@math.uzh.ch"
   ]
  },
  {
   "cell_type": "markdown",
   "metadata": {},
   "source": [
    "## Count smaller elements to the right of list\n",
    "Write a function `smaller(arr : list)` which takes as an argument a `list` of integer values and returns the amount of numbers that are smaller than `arr[i]` to the right for each `i=0,1,..., len(arr)`.\n",
    "\n",
    "**Examples**: \n",
    "- [5, 4, 3, 2, 1] $\\to $ [4, 3, 2, 1, 0].\n",
    "- [1, 2, 0] $\\to$ [1, 1, 0].\n",
    "- [1, 2, 1] $\\to$ [0, 1, 0].\n",
    "- [1, 1, -1, 0, 0] $\\to$ [3, 3, 0, 0, 0].\n",
    "- [5, 4, 7, 9, 2, 4, 1, 4, 5, 6] $\\to$ [5, 2, 6, 6, 1, 1, 0, 0, 0, 0].\n",
    "\n",
    "**Bonus**: A *trivial* solution has time complexity $O(n^2)$, can you figure out a solution that is $O(n \\log (n))$? \n",
    "- Attempt only if you want to come up with a more complex algorithm."
   ]
  },
  {
   "cell_type": "markdown",
   "metadata": {},
   "source": [
    "## Given Python code, find the formula\n",
    "\n",
    "You are given the function below, it represents a double sum. \n",
    "- Can you figure out which double sum?\n",
    "- Can you find an explicit formula for the double sum?\n",
    "\n",
    "This function runs reasonable well when the numbers are small $O(n^2)$, can you improve it?"
   ]
  },
  {
   "cell_type": "code",
   "execution_count": 22,
   "metadata": {},
   "outputs": [
    {
     "name": "stdout",
     "output_type": "stream",
     "text": [
      "63\n"
     ]
    }
   ],
   "source": [
    "def find_x(n):\n",
    "    x = 0\n",
    "    for i in range(n):\n",
    "        for j in range(2*n):\n",
    "            x += j + i\n",
    "    return x\n",
    "\n",
    "print(find_x(3))"
   ]
  },
  {
   "cell_type": "markdown",
   "metadata": {},
   "source": [
    "## Truncated list\n",
    "\n",
    "In this exercise you are given a dataset $x = \\{x_1,x_2, \\dots , x_n\\}$ and we ask you to implement the *truncation*\n",
    "\n",
    "$$ x_i \\mathbf{1}_{\\{|x_i| \\leq b\\}} \\qquad \\text{for all } i=1, \\dots , n, $$\n",
    "\n",
    "where $b \\in \\mathbb{R}_{ \\geq 0}$ is some non-negative constant.\n",
    "\n",
    "In other words, implement a function `truncate(arr : list, b : float)` which takes as arguments a list of numbers (floats) `arr` and a non-negative float `b` and returns another list containing only the element of `arr` which are bounded in absolute value by `b`."
   ]
  },
  {
   "cell_type": "markdown",
   "metadata": {},
   "source": [
    "## Bubble sort (a trivial and inefficient sorting algorithm)\n",
    "\n",
    "Bubble sort is a simple sorting algorithm that repeatedly steps through the input list element by element, comparing the current element with the one after it, swapping their values if needed.\n",
    "\n",
    "The algorithm is iterated through the list until no swaps had to be performed during a full pass, meaning that the list has become fully sorted. \n",
    "\n",
    "Consult the Wikipedia page on [Bubble sort](https://en.wikipedia.org/wiki/Bubble_sort) and implement the algorithm in a function called `bubble_sort(arr : list)`"
   ]
  },
  {
   "cell_type": "markdown",
   "metadata": {},
   "source": [
    "## ROT13 de- and encryption\n",
    "\n",
    "**ROT13** (rotate by 13 places) is a simple *letter substitution* cipher that replaces a letter in the (modern) English alphabet with the 13th letter after it. ROT13 is a special case of the Caesar cipher which was developed in ancient Rome. \n",
    "\n",
    "<p align=\"center\">\n",
    "  <img src=\"rot13.jpg\" />\n",
    "</p>\n",
    "\n",
    "Implement a function `rot13(message : str) -> str:` that takes as an input a message (for simplicity assume it's case insensitve) and returns the encrypted message after ROT13 is being applied to it. As the picture also clearly indicates, ROT13 is its own inverse (decryptor). \n",
    "\n",
    "**Examples**: \n",
    "\n",
    "- This is my first ROT13 excercise! $\\to$ guvf vf zl svefg ebg13 rkprepvfr! (ignore upper cases).\n",
    "\n",
    "Use your implementation to decrypt my secret message `terng wbo, jryy qbar! be nf znel cbccvaf jbhyq fnl: fhcrepnyvsentvyvfgvprkcvnyvqbpvbhf!`"
   ]
  },
  {
   "cell_type": "markdown",
   "metadata": {},
   "source": [
    "## Elongating strings (screaming)\n",
    "\n",
    "Write a function `scream(message : str) -> str:` that takes as input a string `message` and returns again a message but this time each `word` in message has each of its `characters` multiplied by its current position in the `word`. It is easier to have a look at a few examples.\n",
    "\n",
    "**Examples**: \n",
    "- Hello $\\to$ Heelllllllooooo\n",
    "- Hello Marco! $\\to$ Heelllllllooooo Maarrrccccooooo!!!!!!\n",
    "- Wow!! $\\to$ Woowww!!!!!!!!!\n",
    "- What a day! $\\to$ Whhaaatttt a daayyy!!!!"
   ]
  },
  {
   "cell_type": "markdown",
   "metadata": {},
   "source": [
    "## Pangram\n",
    "\n",
    "A `pangram` or `holoalphabetic sentence` is a sentence using every letter of the (in our case) English alphabet *at least* once. Pangrams are often used to display typefaces, test equipment, and develop skills in handwriting, calligraphy, and keyboarding.\n",
    "\n",
    "**Examples**:\n",
    "- The quick brown fox jumps over the lazy dog $\\to$ True\n",
    "- Obviously not a pangram $\\to$ False\n",
    "- 1223823498abcdefghijklmmnopqrstuvwyzxz!@ $\\to$ True\n",
    "\n",
    "Write a function `isPangram(phrase : string) -> bool:` that tests whether a given phrase is a pangram and returns True or False respectively. Your sentence may contain `special characters` (such as , , ;, !, @, 129318, etc.) but you can ignore these characters and only take into account valid letters from the English alphabet, i.e. `a-z, A-Z`."
   ]
  },
  {
   "cell_type": "markdown",
   "metadata": {},
   "source": [
    "## Pair with target sum\n",
    "\n",
    "Given a list of integers and a single sum value (target), return the first two values (parse from left) in order of appreance that add up to form the (target) sum.\n",
    "\n",
    "To keep things simple, you can assume that if such a pair exists, then it is unique.\n",
    "\n",
    "Call your function `sum_pairs(arr : list, target : int) -> list`.\n",
    "\n",
    "**Examples**:\n",
    "- sum_pairs([11, 3, 7, 5],         10) = [3,7]\n",
    "- sum_pairs([0, 0, -2, 3], 2) = None"
   ]
  },
  {
   "cell_type": "markdown",
   "metadata": {},
   "source": []
  }
 ],
 "metadata": {
  "kernelspec": {
   "display_name": "Python 3.11.0 64-bit",
   "language": "python",
   "name": "python3"
  },
  "language_info": {
   "codemirror_mode": {
    "name": "ipython",
    "version": 3
   },
   "file_extension": ".py",
   "mimetype": "text/x-python",
   "name": "python",
   "nbconvert_exporter": "python",
   "pygments_lexer": "ipython3",
   "version": "3.11.0"
  },
  "orig_nbformat": 4,
  "vscode": {
   "interpreter": {
    "hash": "e0460f6db6993a86a65738508dba0aca00af9523ba4143ef22f5162384401bb1"
   }
  }
 },
 "nbformat": 4,
 "nbformat_minor": 2
}
