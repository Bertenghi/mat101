{
 "cells": [
  {
   "attachments": {},
   "cell_type": "markdown",
   "metadata": {},
   "source": [
    "# Exercise class 12\n",
    "\n",
    "- Name: Marco\n",
    "- E-Mail: mberten@math.uzh.ch (<24h, else send another mail)\n",
    "- Rocket-Chat: https://hello.math.uzh.ch $\\to$ mberten\n",
    "- Github: https://github.com/Bertenghi\n",
    "  - Additional exercises on my git."
   ]
  },
  {
   "cell_type": "markdown",
   "metadata": {},
   "source": [
    "# Information about the exam\n",
    "\n",
    "- **Duration**: 3 hours\n",
    "- **Open book**: You can use the lecture notes/slides\n",
    "- **Open internet**: Without external communications (i.e. no WhatsApp etc.)\n",
    "- **Content**: Similar to the exercise sheets/classes.\n",
    "    - All the content of the course is suitable for the exam\n",
    "- **Equipment**: You can bring and use your own laptop.\n",
    "\n"
   ]
  },
  {
   "attachments": {},
   "cell_type": "markdown",
   "metadata": {},
   "source": [
    "# Overview\n",
    "## Data Structures\n",
    "### Numbers\n",
    "Python natively supports the following number systems:\n",
    " - Integers, e.g. `a=5`\n",
    " - Floats, e.g. `a=5.0`\n",
    "    - Careful: Don't use floats as indices for lists.\n",
    " - Complex valued, e.g. `a = 2 + 3j`\n",
    "\n",
    "### Standard operations on numbers\n",
    "We focus on integers and floats here. They suppor basic mathematics operations:\n",
    "- Divison via `/` $\\to$ yields a float\n",
    "- Integer division via `//` $\\to$ yields an integer\n",
    "- Multiplication via `*`\n",
    "- Exponentiation via `**`\n",
    "- Division with remainder (i.e. modulo) via `%`\n",
    "   - Commonly used to see if a given number $b$ divides another given number $a$.\n",
    "\n",
    "All mathematical operations are important, but arguably the modulo operation has some very important applications. See the algorithm for the `GCD` of two numbers:"
   ]
  },
  {
   "cell_type": "code",
   "execution_count": null,
   "metadata": {},
   "outputs": [],
   "source": [
    "def gcd(a : int , b : int) -> int:\n",
    "    \"\"\"\n",
    "    Computes the GCD (greatest common divisor) of two integers a and b.\n",
    "        Input: integers a,b.\n",
    "        Output: gcd of a and b.\n",
    "    \"\"\"\n",
    "    while b:  # If b is not zero\n",
    "        a, b = b , a % b\n",
    "    return abs(a)"
   ]
  },
  {
   "attachments": {},
   "cell_type": "markdown",
   "metadata": {},
   "source": [
    "### Booleans\n",
    "\n",
    "Booleans can only take two values `True` or `False`. They adhere to mathematical logic via logical operations such as `and` or `or`. "
   ]
  },
  {
   "attachments": {},
   "cell_type": "markdown",
   "metadata": {},
   "source": [
    "### Lists / Arrays\n",
    "\n",
    "In Python the terms `list` and `array` can be used interchangeably. However, it's important to note that a `list` is not the same data structure as a numpy array!\n",
    "\n",
    "___\n",
    "\n",
    "*Def*: A list is a linear collection of data values that are accessible at numbered indices, starting at index $0$. \n",
    "___\n",
    "\n",
    "Lists are motivated by the real life example of lists. In Python a list can look like `arr = [2, 3, \"b\", 5+3j]`.\n",
    "\n",
    "Lists are:\n",
    "\n",
    "- Mutable (i.e. they can be changed): `arr[0] = 1` yields `[1, 3, \"b\", 5+3j]`.\n",
    "- Iterable (i.e. you can loop over their values)\n",
    "- Indexable (i.e. elements can be accessed via index starting from $0$).\n",
    "- Heterogeneous (i.e. can hold more than one data type)\n",
    "\n",
    "### Standard operations on lists\n",
    "\n",
    "- **Accessing** a value at a given index $i$: `arr[i]`\n",
    "    - Here $i \\in \\{0,1, \\dots , \\text{len(arr)}-1\\}$\n",
    "- **Slicing** `arr[ind1 : ind2 : step]` isolates the elements of the array `arr` from `ind1` (included) to `ind2` (excluded) with step size `step`.\n",
    "    - When `ind1` is omitted, then the elements are selected from the first position on, i.e. `ind1=0` is assumed.\n",
    "    - When `ind2` is ommited, then the elements starting from `ind1` until the end of the array are selected.\n",
    "    - When `step` is ommited, it's assumed to be $1$.\n",
    "- **Updating** a value at a given index $i$: `arr[i] = 5`\n",
    "- **Appending** a value at the **end** of the list: `arr += [value]` or `arr.append(value)`.\n",
    "    - One can also **insert** a value at the beginning of the list, however this is typically not recommended (for theoretical reasons): `arr = [value] + [arr]` \n",
    "- **Removing** (Popping) a value at the **end** of the list: `arr.pop()`\n",
    "    - One can also **pop** a value anywhere in the index (again not recommend for theoretical reasons) via `arr.pop(i)` where $i$ is an index $i \\in \\{0,1, \\dots , \\text{len(arr)}-1\\}$.\n",
    "- **Searching** for a specific element in array: `value in arr` yields a Boolean `True/False`."
   ]
  },
  {
   "attachments": {},
   "cell_type": "markdown",
   "metadata": {},
   "source": [
    "### Tuples\n",
    "Like lists, initiated as `tuple = (5,3)` but\n",
    "- tuples are **immutable** (i.e. once created, they cannot be changed.)"
   ]
  },
  {
   "attachments": {},
   "cell_type": "markdown",
   "metadata": {},
   "source": [
    "### Strings\n",
    "\n",
    "Strings are used to store text characters, for example `text = \"Hello world\"` is a string. \n",
    "\n",
    "- Strings are **immutable**: once created the specific elements cannot be modified, further no new element can be added and no existing element can be removed.\n",
    "- Can be **concatenated** via `\"hello\" + \" world\"` yields `\"hello world\"`.\n",
    "- Iterable (can be looped over say in a for loop).\n",
    "- Indexable (via $0$-indexing)\n",
    "- Sliceable\n",
    "- Searching `\"a\" in \"abcd\"` will yield `True`."
   ]
  },
  {
   "attachments": {},
   "cell_type": "markdown",
   "metadata": {},
   "source": [
    "### Numpy arrays\n",
    "\n",
    "In order to create Numpy arrays (Numpy stands for Numerical Python) we need to import Numpy first.\n",
    "\n",
    "- Import numpy as np\n",
    "\n",
    "We can then initialize a numpy array via `arr = np.array([1, 2, 3, 9, 15])`.  Numpy arrays are like lists, however they are:\n",
    "- Homogeneous (i.e. can only hold one data type)\n",
    "- Provide more mathematical functionality (linear algebra).\n",
    "- Natural structure when working with Matrices."
   ]
  },
  {
   "attachments": {},
   "cell_type": "markdown",
   "metadata": {},
   "source": [
    "### Dictionaries\n",
    "\n",
    "A dictionary is an advance data structure in Python. It is the only data structure that natively allows us to access values differently than using indices. A dictionary stores key/value pairs by mapping the keys (via a hashing function) to a value.\n",
    "\n",
    "In Python a dictionary can be initialized as `freq = {key : value}`. As key, we can use anything and similarily for values, the only restriction we have is that each key must map to an unique value.\n",
    "\n",
    "**Example**: `freq = {\"a\" : 2, \"b\" : 5}`, then `freq[\"a\"]` yields `2` whereas `freq[\"b\"]` yields `5`. \n",
    "\n",
    "### Standard operations on dictionaries\n",
    "\n",
    "- Inserting a key/value pair: via `freq[something]=whatever`.\n",
    "- Looking up a key: via key in `freq`.\n",
    "- Looping over keys is immediate: for key in `freq`.\n",
    "- A list of all keys: `freq.keys()`\n",
    "- A list of all values: `freq.values()`\n",
    "\n",
    "Careful, in dictionaries it is easy to go from keys to values but in order to go from values to keys, more work needs to be done.\n",
    "\n",
    "## ToDo\n",
    "More on functions, loops, range, enumerate, zip. "
   ]
  },
  {
   "attachments": {},
   "cell_type": "markdown",
   "metadata": {},
   "source": [
    "# Exercises\n",
    "## Valid subsequence"
   ]
  },
  {
   "cell_type": "markdown",
   "metadata": {},
   "source": []
  }
 ],
 "metadata": {
  "kernelspec": {
   "display_name": "Python 3",
   "language": "python",
   "name": "python3"
  },
  "language_info": {
   "codemirror_mode": {
    "name": "ipython",
    "version": 3
   },
   "file_extension": ".py",
   "mimetype": "text/x-python",
   "name": "python",
   "nbconvert_exporter": "python",
   "pygments_lexer": "ipython3",
   "version": "3.11.0 (main, Oct 24 2022, 18:26:48) [MSC v.1933 64 bit (AMD64)]"
  },
  "orig_nbformat": 4,
  "vscode": {
   "interpreter": {
    "hash": "e0460f6db6993a86a65738508dba0aca00af9523ba4143ef22f5162384401bb1"
   }
  }
 },
 "nbformat": 4,
 "nbformat_minor": 2
}
