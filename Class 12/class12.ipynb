{
 "cells": [
  {
   "attachments": {},
   "cell_type": "markdown",
   "metadata": {},
   "source": [
    "# Exercise class 12\n",
    "\n",
    "- Name: Marco\n",
    "- E-Mail: mberten@math.uzh.ch (<24h, else send another mail)\n",
    "- Rocket-Chat: https://hello.math.uzh.ch $\\to$ mberten\n",
    "- Github: https://github.com/Bertenghi\n",
    "  - Additional exercises on my git."
   ]
  },
  {
   "attachments": {},
   "cell_type": "markdown",
   "metadata": {},
   "source": [
    "# Information about the exam\n",
    "\n",
    "- **Duration**: 3 hours\n",
    "- **Open book**: You can use the lecture notes/slides\n",
    "- **Open internet**: Without external communications (i.e. no WhatsApp etc.)\n",
    "- **Content**: Similar to the exercise sheets/classes.\n",
    "    - All the content of the course is suitable for the exam\n",
    "- **Equipment**: You can use your own laptop.\n",
    "\n"
   ]
  },
  {
   "attachments": {},
   "cell_type": "markdown",
   "metadata": {},
   "source": [
    "# Overview\n",
    "## Data Structures\n",
    "### Numbers\n",
    "Python natively supports the following number systems:\n",
    " - Integers, e.g. `a = 5`\n",
    " - Floats, e.g. `a = 5.0`\n",
    "    - Careful: Don't use floats as indices for lists.\n",
    " - Complex valued, e.g. `a = 2 + 3j`\n",
    "\n",
    "### Standard operations on numbers\n",
    "We focus on integers and floats here. They suppor basic mathematics operations:\n",
    "- Divison via `/` $\\to$ yields a float\n",
    "   - e.g. 5 `/` 2 = 2.5 but also 2 `/` 1 = 2.0.\n",
    "- Integer (floor) division via `//` $\\to$ yields an integer\n",
    "   - e.g. 5 `//` 2 = 2.\n",
    "- Multiplication via `*`\n",
    "- Exponentiation via `**`\n",
    "- Division with remainder (i.e. modulo) via `%`\n",
    "   - Commonly used to see if a given number $b$ divides another given number $a$.\n",
    "\n",
    "All mathematical operations are important, but arguably the modulo operation has some very important applications. See the algorithm for the `GCD` of two numbers:"
   ]
  },
  {
   "cell_type": "code",
   "execution_count": null,
   "metadata": {},
   "outputs": [],
   "source": [
    "def gcd(a : int , b : int) -> int:\n",
    "    \"\"\"\n",
    "    Computes the GCD (greatest common divisor) of two integers a and b.\n",
    "        Input: integers a,b.\n",
    "        Output: gcd of a and b.\n",
    "    \"\"\"\n",
    "    while b:  # If b is not zero\n",
    "        a, b = b , a % b\n",
    "    return abs(a)"
   ]
  },
  {
   "attachments": {},
   "cell_type": "markdown",
   "metadata": {},
   "source": [
    "### Booleans\n",
    "\n",
    "Booleans can only take two values `True` or `False`. They adhere to mathematical logic via logical operations such as `and` or `or`. "
   ]
  },
  {
   "attachments": {},
   "cell_type": "markdown",
   "metadata": {},
   "source": [
    "### Lists / Arrays\n",
    "\n",
    "In Python the terms `list` and `array` can be used interchangeably. However, it's important to note that a `list` is not the same data structure as a numpy array!\n",
    "\n",
    "___\n",
    "\n",
    "*Def*: A list is a linear collection of data values that are accessible at numbered indices, starting at index $0$. \n",
    "___\n",
    "\n",
    "Lists are motivated by the real life example of lists. In Python a list can look like `arr = [2, 3, \"b\", 5+3j]`.\n",
    "\n",
    "Lists are:\n",
    "\n",
    "- Mutable (i.e. they can be changed): `arr[0] = 1` yields `[1, 3, \"b\", 5+3j]`.\n",
    "- Iterable (i.e. you can loop over their values)\n",
    "- Indexable (i.e. elements can be accessed via index starting from $0$).\n",
    "- Heterogeneous (i.e. can hold more than one data type)\n",
    "\n",
    "### Standard operations on lists\n",
    "\n",
    "- **Accessing** a value at a given index $i$: `arr[i]`\n",
    "    - Here $i \\in \\{0,1, \\dots , \\text{len(arr)}-1\\}$\n",
    "- **Slicing** `arr[ind1 : ind2 : step]` isolates the elements of the array `arr` from `ind1` (included) to `ind2` (excluded) with step size `step`.\n",
    "    - When `ind1` is omitted, then the elements are selected from the first position on, i.e. `ind1=0` is assumed.\n",
    "    - When `ind2` is ommited, then the elements starting from `ind1` until the end of the array are selected.\n",
    "    - When `step` is ommited, it's assumed to be $1$.\n",
    "- **Updating** a value at a given index $i$: `arr[i] = 5`\n",
    "- **Appending** a value at the **end** of the list: `arr += [value]` or `arr.append(value)`.\n",
    "    - One can also **insert** a value at the beginning of the list, however this is typically not recommended (for theoretical reasons): `arr = [value] + [arr]` \n",
    "- **Removing** (Popping) a value at the **end** of the list: `arr.pop()`\n",
    "    - One can also **pop** a value anywhere in the index (again not recommend for theoretical reasons) via `arr.pop(i)` where $i$ is an index $i \\in \\{0,1, \\dots , \\text{len(arr)}-1\\}$.\n",
    "- **Searching** for a specific element in array: `value in arr` yields a Boolean `True/False`."
   ]
  },
  {
   "attachments": {},
   "cell_type": "markdown",
   "metadata": {},
   "source": [
    "### Tuples\n",
    "Like lists, initiated as `tuple = (5,3)` but\n",
    "- tuples are **immutable** (i.e. once created, they cannot be changed.)"
   ]
  },
  {
   "attachments": {},
   "cell_type": "markdown",
   "metadata": {},
   "source": [
    "### Strings\n",
    "\n",
    "Strings are used to store text characters, for example `text = \"Hello world\"` is a string. \n",
    "\n",
    "- Strings are **immutable**: once created the specific elements cannot be modified, further no new element can be added and no existing element can be removed.\n",
    "- Can be **concatenated** via `\"hello\" + \" world\"` yields `\"hello world\"`.\n",
    "- Iterable (can be looped over say in a for loop).\n",
    "- Indexable (via $0$-indexing)\n",
    "- Sliceable\n",
    "- Searching `\"a\" in \"abcd\"` will yield `True`."
   ]
  },
  {
   "attachments": {},
   "cell_type": "markdown",
   "metadata": {},
   "source": [
    "### Numpy arrays\n",
    "\n",
    "In order to create Numpy arrays (Numpy stands for Numerical Python) we need to import Numpy first.\n",
    "\n",
    "- Import numpy as np\n",
    "\n",
    "We can then initialize a numpy array via `arr = np.array([1, 2, 3, 9, 15])`.  Numpy arrays are like lists, however they are:\n",
    "- Homogeneous (i.e. can only hold one data type)\n",
    "- Provide more mathematical functionality (linear algebra).\n",
    "- Natural structure when working with Matrices."
   ]
  },
  {
   "attachments": {},
   "cell_type": "markdown",
   "metadata": {},
   "source": [
    "### Dictionaries\n",
    "\n",
    "A dictionary is an advance data structure in Python. It is the only data structure that natively allows us to access values differently than using indices. A dictionary stores key/value pairs by mapping the keys (via a hashing function) to a value.\n",
    "\n",
    "In Python a dictionary can be initialized as `freq = {key : value}`. As key, we can use any `imutable` data structure and as values we can any data structure, the only restriction we have is that each key must map to an unique value.\n",
    "\n",
    "**Example**: `freq = {\"a\" : 2, \"b\" : 5}`, then `freq[\"a\"]` yields `2` whereas `freq[\"b\"]` yields `5`. \n",
    "\n",
    "### Standard operations on dictionaries\n",
    "\n",
    "- Inserting a key/value pair: via `freq[something]=whatever`.\n",
    "    - Can also be used to overwrite key/value pairs.\n",
    "- Looking up a key: via key in `freq`.\n",
    "- Looping over keys is immediate: for key in `freq`.\n",
    "- A list of all keys: `freq.keys()`\n",
    "- A list of all values: `freq.values()`\n",
    "\n",
    "Careful, in dictionaries it is easy to go from keys to values but in order to go from values to keys, more work needs to be done.\n",
    "\n",
    "## Functions\n",
    "In Python, a function is a block of code that performs a specific task and may or may not `return` a value (however, in 99% we want you to return a value). Functions help to organize and reuse code, making it also easier to read and maintain.\n",
    "\n",
    "To define a function in Python, you use the `def` keyword followed by the function name, a set of parenthesis, and a colon. The code block with the function is indented.\n",
    "\n",
    "Optional arguments, also known as default arguments, are positional arguments. As the name suggests, positional arguments are values that are passed into a function based on the order in which the parameters were listed during the function definition. They allow you to specify a default value for a function parameter. If a value is not provided for the parameter when the function is called, the default will be used. You can specify a default value for a parameter by using the assignment operation (=) in the function definition.\n",
    "\n",
    "For example:\n",
    "\n",
    "    def greet(name, greeting = \"Hello\"):\n",
    "        return f\"{greeting} name\"\n",
    "\n",
    "`Keyword arguments` (or named arguments) are values that, when passed into a function, are identifiable by specific parameter names.\n",
    "\n",
    "    Keyword arguments can be compared to dictionaries in the sense that they map a value to a keyword.\n",
    "\n",
    " This can make the function call more readable and easier to understand, especially when the function has multiple arguments.\n",
    "\n",
    "You can use both optional arguments and keyword arguments in the same function. However, it's important to note that if you use both, the optional arguments `must come before` the keyword arguments in the function definition.\n",
    "\n",
    "### Recursive Functions\n",
    "\n",
    "A `recursive function` is a function that calls itself as part of its execution. It typically includes a `base case`, which is the condition that specifies when the recursion should stop, and a `recursive case`, which is the logic that allows the function to call itself with a modified set of arguments. \n",
    "\n",
    "Recursive functions are also useful (as a problem solving technique) for solving problems that can be expressed in terms of smaller subproblems, such as calculating factorials, generating permutations, traversing tree structures etc. \n",
    "\n",
    "However, recursive functions are typically computationally expensive and can cause a stack overflow if the recursion goes too deep. "
   ]
  },
  {
   "attachments": {},
   "cell_type": "markdown",
   "metadata": {},
   "source": [
    "## Loops\n",
    "\n",
    "In Python for and/or while loops are the most common way to organise flow control.\n",
    "\n",
    "### While-Loop\n",
    "\n",
    "In a `while` loop we iterate until a condition is no longer met. One can also interpret it in Python as `While True: Do something`. In particular, same as for recursion, we need an exit strategy for a while loop (otherwise we create an infinite loop).\n",
    "\n",
    " Common applications are:\n",
    "- Iterate until a certain precision (say for convergence of an arithmetic sequence or series) is met.\n",
    "- Find the `first` element such that a certain condition is met.\n",
    "\n",
    "It is recommended to use a while loop in the above scenarios or whenever we don't know a priori for how long we need to iterate.\n",
    "\n",
    "### For-Loop\n",
    "\n",
    "In a `for` loop we iterate a `predefined` number of times. The number of iterations we make is controlled by the specific `iterable` we choose. \n",
    "\n",
    "- Naively: An `iterable` is *anything* we can iterate over.\n",
    "\n",
    "For loops are best used when we know ahead of time what we want to iterate over or how often we need to iterate. \n",
    "\n",
    "Common applications are:\n",
    "- Iterating over the elements of a given list\n",
    "\n",
    "Below are some important special functions (they create iterables aka iterators) to know when to use:\n",
    "- `range`: for i in range($n$)\n",
    "    - $i$ takes (iteratively) the values $0,1,2, \\dots , n-1$. \n",
    "    - Can also specify start value and step size, i.e. `range(m, n, stepsize)` where $m \\leq n$ creates an iterable $m,m+s,m+2s, \\dots ,n$ where $s$ denotes the stepsize.\n",
    "- `enumerate`: for i, element in enumerate(arr) for a given array arr\n",
    "    - provides both the index and the element simultaneously, i.e. i goes from $0$ to len(arr)-1 and element takes iteratively all the values of the array.\n",
    "- `zip`: given two or more lists, zip creates an iterable for which we can iterate over its elements simultaneously."
   ]
  },
  {
   "attachments": {},
   "cell_type": "markdown",
   "metadata": {},
   "source": [
    "## Matplotlib\n",
    "\n",
    "We use the package `matplotlib` in order to plot functions and/or visualise results. Typically we use `matplotlib` together with `numpy` because they harmonize really well together.\n",
    "\n",
    "    import numpy as np\n",
    "    import matplotlib.pyplot as plt\n",
    "\n",
    "One of the main applications of matplotlib is to plot functions. \n",
    "\n",
    "Given a function $f: X \\to Y$, the `graph of the function` is by definition the set \n",
    "$$G(f):= \\{(x,f(x)) : x \\in X\\} \\subset X \\times Y.$$\n",
    "\n",
    "We use this definition also in order to produce plots of functions with matplotlib.\n",
    "\n",
    "However, there is a small caveat. Namely, say $X=D=\\{1,2,3\\}$, then of course the graph of $f$ is just $\\{(1,f(1)), (2,f(2)), (3,f(3))\\}$. However, what if $X=I = [0,1] \\subset \\mathbb{R}$. Then $I$ has infinitely many points/values and naturally we cannot expect Python to store infinitely many values for us. What we do in such a case is *approximate* or *discretize* $I$ by a set of equidistanced points in $I$. In other words, instead of $I$ we work with $I_n=\\{0=t_0, t_1, t_2, \\dots , t_{n-1} =1\\}$ where $t_0 < t_1 < t_2 < \\dots t_{n-1}$ are such that $\\Delta t := t_{N}-t_{N-1}$ for all $N =0,1, \\dots , {n-1}$.  This can be achieved by\n",
    "\n",
    "    np.linspace(0,1,100)\n",
    "\n",
    "which creates $100$ equidistanced points starting from $0$ to $1$.\n",
    "\n",
    "**Important**: The main purpose of a plot is to explain, hence every plot should have:\n",
    "- Title\n",
    "- Axes labels\n",
    "- Colors (especially if more than 1 function is plotted)\n",
    "- Legend (especially if more than 1 function is plotted)\n",
    "- Possibly markers\n",
    "\n",
    "Below we give an example of how to plot the function $\\exp: [-1,3] \\to \\mathbb{R}$."
   ]
  },
  {
   "cell_type": "code",
   "execution_count": 7,
   "metadata": {},
   "outputs": [
    {
     "data": {
      "image/png": "[encoded data removed]",
      "text/plain": [
       "<Figure size 432x288 with 1 Axes>"
      ]
     },
     "metadata": {
      "needs_background": "light"
     },
     "output_type": "display_data"
    }
   ],
   "source": [
    "import numpy as np\n",
    "import matplotlib.pyplot as plt\n",
    "\n",
    "x = np.linspace(-1,3,20)        # creating 20 equidistanced points between -1 and 3 (both included)\n",
    "plt.plot(x, np.exp(x), label = \"$e^x$\")\n",
    "plt.xlabel(\"x\")\n",
    "plt.ylabel(\"y=f(x)\")\n",
    "plt.title(\"The exponential function $e^x$\")\n",
    "plt.legend()\n",
    "plt.show()"
   ]
  },
  {
   "attachments": {},
   "cell_type": "markdown",
   "metadata": {},
   "source": [
    "It is also important to note that numpy works very well with vectors. This is to say that most numpy functions (such as exp, cos, sin etc.) can be directly applied to a vector (array) and in turn also yields an array. This is a necessary requirement for plotting, because we need as many data points for the $x$-axis as for the $y=f(x)$-axis. To be more precise, consider the numpy array `arr = np.array([1,2,3])` then `np.exp(arr)` yields (another numpy array) "
   ]
  },
  {
   "cell_type": "code",
   "execution_count": 9,
   "metadata": {},
   "outputs": [
    {
     "data": {
      "text/plain": [
       "array([ 2.71828183,  7.3890561 , 20.08553692])"
      ]
     },
     "execution_count": 9,
     "metadata": {},
     "output_type": "execute_result"
    }
   ],
   "source": [
    "arr = np.array([1,2,3])\n",
    "np.exp(arr)"
   ]
  },
  {
   "attachments": {},
   "cell_type": "markdown",
   "metadata": {},
   "source": [
    "i.e. it yields the numpy array $[e^1, e^2, e^3]$ and indeed, matplotlib can therefore produce a meaningful plot because we have a 1-to-1 relationship between the $x$-axis data and the $y$-axis data.\n",
    "\n",
    "In case you work with your own function that is not apriori vectorized by nature, then you need to create an appropriate vector by yourself by using a loop and/or the `map` function."
   ]
  },
  {
   "attachments": {},
   "cell_type": "markdown",
   "metadata": {},
   "source": [
    "# Important Exercises\n",
    "\n",
    "The following are important exercises (or complete sheets) that are relevant for the exam.\n",
    "\n",
    "**Disclaimer**: I am not saying that any of these exercises come directly as stated below in the exam, as a matter of fact I don't know what the exam is going to look like. With relevant I mean that they aid as a good preparation for the exam.\n",
    "\n",
    "- Practical exercise session 0 (Lorenzo, everything)\n",
    "- Practical exercise session 1 (Lorenzo, everything)\n",
    "- Homework 2\n",
    "    - Exercise 1 `GCD`\n",
    "    - Exercise 4 `Euler Totient Function`\n",
    "- Homework 4\n",
    "    - Exercise 1 `Binary search`\n",
    "    - Exercise 2 `Collatz sequence`\n",
    "    - Exercise 4 `Convergence of sum to pi`\n",
    "- Homework 6 \n",
    "    - Exercise 1 `Fibonacci: recursive and iterative`\n",
    "- Homework 7\n",
    "    - Everything, you should be comfortable with using basic numpy operations for vectors and matrices.\n",
    "- Homework 8\n",
    "    - Exercise 3 `Sieve of Eratosthenes`\n",
    "- Homework 9\n",
    "    - Everything, you should be comfortable making simple plots."
   ]
  },
  {
   "attachments": {},
   "cell_type": "markdown",
   "metadata": {},
   "source": [
    "# Exercises\n",
    "\n",
    "## Find minimum and its position in array\n",
    "### Difficulty: $\\color{green}{Easy}$\n",
    "\n",
    "You are given an array of integers (or possibly floats). Write a function `minPosition(arr : list)` that returns as it output a list [`idx`, `m`] where `m` is the minimal value of the array and `idx` is its associated index in the list. If the minimal value is `not unique` then return the last pair.\n",
    "\n",
    "**Examples**:\n",
    "- [-1, 0, 1, 2, 3] should return [0, -1]\n",
    "- [8, 3, 1, 9, 3, -1, 2] should return [5, -1]\n",
    "- [2, -1, -1, 3, -1] should return [4, -1]\n",
    "- [2, 2, 1, 0, 0, 0, 9] should return [5, 0]\n",
    "\n",
    "## Valid subsequence\n",
    "### Difficulty: $\\color{orange}{Medium}$\n",
    "\n",
    "Given two non-empty arrays of integers, write a function `isValidSubseq(array, sequence)` that determines whether the second array is a subsequence of the first one. \n",
    "\n",
    "**Def**: In mathematics, a **subsequence** of a given sequence is a sequence that can be derived from the given sequence by deleting some or no elements without changing the order of the remaining elements. \n",
    "\n",
    "**Examples**:\n",
    "- [1, 3, 4] is a subsequence of [1, 2, 3, 4] hence return `True`\n",
    "- [2, 4] is a subsequence of [1, 2, 3, 4] hence return `True`\n",
    "- [1], [2], [3], [4] are all valid subsequences of [1, 2, 3, 4] hence return `True` in each case\n",
    "- [1, 2, 3, 4] is a valid subsequence of [1, 2, 3, 4] hence return `True`\n",
    "- [3, 1, 4] is not a subsequence of [1, 2, 3, 4]hence return `False`\n",
    "- [1, 6, -1, 10] is a subsequence of [5, 1, 22, 25, 6, -1, 8, 10] hence return `True`\n"
   ]
  },
  {
   "attachments": {},
   "cell_type": "markdown",
   "metadata": {},
   "source": [
    "## Explicit Euler method\n",
    "### Difficulty $\\color{red}{Hard}$\n",
    "\n",
    "For details, please see Practical exercise session sheet 1."
   ]
  },
  {
   "cell_type": "code",
   "execution_count": 11,
   "metadata": {},
   "outputs": [],
   "source": [
    "## Solution for part 0)\n",
    "\n",
    "def explicit_euler(f, a : float, b : float, ya : float, N : int):\n",
    "    \"\"\" \n",
    "    Implementation of the explicit Euler method to approximate solutions of ODEs.\n",
    "\n",
    "    Input:\n",
    "        - f = f(t, y(t)) function\n",
    "        - a, b: edge cases of interval [a, b]\n",
    "        - ya initial condition y[0]=ya\n",
    "        - N number of approximations\n",
    "    Output:\n",
    "        - t: equispaced vector where the approximations happen\n",
    "        - y: approximation vector on t.\n",
    "    \"\"\"\n",
    "    t = np.linspace(a, b, N + 1)    # N + 1 equispaced values between a and b\n",
    "    dt = t[1]-t[0]                  # this is a constant\n",
    "    y = np.zeros(len(t))            # approximation vector, initialized as zeros.\n",
    "    y[0] = ya                       # initial condition\n",
    "\n",
    "    for ind in range(len(y)-1):\n",
    "        y[ind +1] = y[ind] + dt*f( t[ind], y[ind])  # Euler's formula\n",
    "\n",
    "    return t, y"
   ]
  },
  {
   "attachments": {},
   "cell_type": "markdown",
   "metadata": {},
   "source": [
    "For part 1) observe that we are given \n",
    "\n",
    "$$ \\begin{cases} y'(t) = y, \\quad t \\in [0,5] \\\\ y(0) =1 \\end{cases} $$\n",
    "\n",
    "In turn this means $a=0, b=5$ and $y_a=1$. Further, since $y'(t)=f(t,y(t))$ which simplifies to $f(t,y(t))=y$ for our function $f$, or in other words we have $f(t, y)=y$ for all $t \\in [0,5]$."
   ]
  },
  {
   "cell_type": "code",
   "execution_count": 19,
   "metadata": {},
   "outputs": [
    {
     "data": {
      "image/png": "[encoded data removed]",
      "text/plain": [
       "<Figure size 432x288 with 1 Axes>"
      ]
     },
     "metadata": {
      "needs_background": "light"
     },
     "output_type": "display_data"
    }
   ],
   "source": [
    "## Solution for part 1)\n",
    "\n",
    "## Simplified function, see above.\n",
    "\n",
    "def f(t, y):\n",
    "    return y\n",
    "\n",
    "## Plotting below\n",
    "\n",
    "t1, y1 = explicit_euler(f, 0, 5, 1, 20)\n",
    "t2, y2 = explicit_euler(f, 0, 5, 1, 40)\n",
    "t3, y3 = explicit_euler(f, 0, 5, 1, 100)\n",
    "\n",
    "#2) We produce the plot\n",
    "plt.figure(1) # Open a new figure\n",
    "plt.plot(t1, y1, color=\"b\", linestyle=\"-.\", label=\"$y_{20}$\")\n",
    "plt.plot(t2, y2, color=\"r\", linestyle=\"--\", label=\"$y_{40}$\")\n",
    "plt.plot(t3, y3, color=\"g\", linestyle=\":\", label=\"$y_{100}$\")\n",
    "plt.plot(t3,np.exp(t3), color=\"m\", linestyle=\"-\", label=\"$e^x$\")    # exact\n",
    "plt.legend()\n",
    "plt.title(\"Explicit Euler method for ODEs\")\n",
    "plt.xlabel(\"x\")\n",
    "plt.ylabel(\"y\")\n",
    "plt.grid()\n",
    "plt.show()"
   ]
  },
  {
   "attachments": {},
   "cell_type": "markdown",
   "metadata": {},
   "source": [
    "Finally in part 2) we want to extract our data."
   ]
  },
  {
   "cell_type": "code",
   "execution_count": 23,
   "metadata": {},
   "outputs": [],
   "source": [
    "#################################################\n",
    "#0.2) Saving in files\n",
    "#INPUTS: Results of the previous points\n",
    "#OUTPUT: Files\n",
    "\n",
    "fid=open(\"y20.dat\",'w')             # create a new file\n",
    "fid.write(\"x_i, y_i\\n\")   # header\n",
    "for indn in range(len(t1)):\n",
    "    st = f\"{t1[indn]}, {y1[indn]}\\n\"\n",
    "    fid.write(st)\n",
    "fid.close()                         # closing is good practice\n",
    "\n",
    "fid=open(\"y40.dat\",'w')\n",
    "fid.write(\"     x_i,      y_i\\n\")\n",
    "for indn in range(len(t2)):\n",
    "    st=format(t2[indn],\"8.4f\")+\", \"+format(y2[indn],\"8.4f\")+\"\\n\"\n",
    "    fid.write(st)\n",
    "fid.close()\n",
    "\n",
    "fid=open(\"y100.dat\",'w')\n",
    "fid.write(\"     x_i,      y_i\\n\")\n",
    "for indn in range(len(t3)):\n",
    "    st=format(t3[indn],\"8.4f\")+\", \"+format(y3[indn],\"8.4f\")+\"\\n\"\n",
    "    fid.write(st)\n",
    "fid.close()"
   ]
  },
  {
   "cell_type": "code",
   "execution_count": null,
   "metadata": {},
   "outputs": [],
   "source": []
  }
 ],
 "metadata": {
  "kernelspec": {
   "display_name": "Python 3",
   "language": "python",
   "name": "python3"
  },
  "language_info": {
   "codemirror_mode": {
    "name": "ipython",
    "version": 3
   },
   "file_extension": ".py",
   "mimetype": "text/x-python",
   "name": "python",
   "nbconvert_exporter": "python",
   "pygments_lexer": "ipython3",
   "version": "3.10.2"
  },
  "orig_nbformat": 4,
  "vscode": {
   "interpreter": {
    "hash": "ba18286d27dd3f1705df4025c31d2b7021c67fcd01f023a6f194ed0db21ec453"
   }
  }
 },
 "nbformat": 4,
 "nbformat_minor": 2
}
