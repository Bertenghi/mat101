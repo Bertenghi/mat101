{
 "cells": [
  {
   "cell_type": "markdown",
   "metadata": {},
   "source": [
    "# Exercise class 0\n",
    "\n",
    "- Name: Marco\n",
    "- E-Mail: mberten@math.uzh.ch (<24h)\n",
    "- Rocket-Chat: https://hello.math.uzh.ch -> mberten"
   ]
  },
  {
   "cell_type": "markdown",
   "metadata": {},
   "source": [
    "## Representation of numbers in the computer"
   ]
  },
  {
   "cell_type": "markdown",
   "metadata": {
    "vscode": {
     "languageId": "python"
    }
   },
   "source": [
    "----\n",
    "\n",
    "**Theorem**: If $\\beta \\in \\mathbb{N}$ with $\\beta>1$, then any real number $x \\in \\mathbb{R}$ can be represented in base $\\beta$ in the following way:\n",
    "\n",
    "$$ x= (-1)^s \\beta^e \\sum_{i=1}^\\infty a_i \\beta^{-i}$$\n",
    "\n",
    "where \n",
    "\n",
    "- $s \\in \\{0,1\\}$ is the **sign**\n",
    "- $e \\in \\mathbb{Z}$ is the **exponent**\n",
    "- $a_i \\in \\{0,1, \\dots , \\beta-1\\}$ are the **digits** and form the **mantissa** of the number in basis $\\beta$. We assume $a_1 \\neq 0$ unless $x=0$ in order to make the representation unique (**normalisation**).\n",
    "\n",
    "----"
   ]
  },
  {
   "cell_type": "markdown",
   "metadata": {},
   "source": [
    "### Example $\\beta = 2$"
   ]
  },
  {
   "cell_type": "markdown",
   "metadata": {},
   "source": [
    "Computers communicate only through zeros and ones *(machine language)*, numbers inside the computer are represented in base $\\beta =2$."
   ]
  },
  {
   "cell_type": "markdown",
   "metadata": {},
   "source": [
    "<details>\n",
    "  <summary>Bender's nightmare</summary>\n",
    "<div align=\"center\">\n",
    "  <a href=\"https://www.youtube.com/watch?v=MOn_ySghN2Y\"><img src=\"https://img.youtube.com/vi/MOn_ySghN2Y/0.jpg\" alt=\"Bender's dream\"></a>\n",
    "</div>\n",
    "</details>"
   ]
  },
  {
   "cell_type": "markdown",
   "metadata": {},
   "source": [
    "For $\\beta = 2$ we have \n",
    "\n",
    "$$ x = (-1)^s 2^e \\sum_{i=1}^\\infty a_i 2^{-i}$$ \n",
    "\n",
    "where $a_i \\in \\{0,1\\}$ are the **digits** with assumption that $a_1 \\neq 0$ unless $x=0$ (recall that the digits form the so-called **mantisssa**). \n",
    "\n",
    "Let us look at a few concrete examples, we start by investigating (non-negative) integers. Evidently, the sign is easy to understand (for negative numbers we choose $s=1$ whereas for positive numbers we choose $s=0$) so for the sake of presentation the sign is implicit in the examples below:\n",
    "\n",
    "\n",
    "\n",
    "\n",
    "- $0 =  2^1 (0\\times 2^{-1} )= (0)_2$ with $a_1=0$ by convention because $x=0$\n",
    "- $1 = 2^{0}=  2^1 (1 \\times 2^{-1}) =(1)_2$ with $a_1 \\neq 0$ by convention because $x \\neq 0$\n",
    "- $2 = 2^1 =  2^2 (1 \\times 2^{-1} + 0 \\times 2^{-2})=(10)_2$\n",
    "- $3 = 2^1 + 2^0 =  2^2 (1 \\times 2^{-1} + 0 \\times 2^{-2}) +  2^1 (1 \\times 2^{-1}) = 2^2(1 \\times 2^{-1} + 1 \\times 2^1)=(11)_2 = (10)_2+(1)_2$ \n",
    "- $4 = 2^2 = 2^3(1 \\times 2^{-1} + 0 \\times 2^{-2} + 0 \\times 2^{-3}) = (100)_2$\n",
    "- $5= 4 + 1 = 2^2 + 2^0 = 2^3(2^{-1}+ 2^{-3}) = 2^3( 1 \\times 2^{-1} + 0 \\times 2^{-2} + 1 \\times 2^{-3})=(101)_2 = (100)_2 + (1)_2$  \n",
    "- $6 = 4 + 2 = (100)_2 + (10)_2 = (110)_2$\n",
    "- $\\vdots$\n",
    "- $15 = 2^3 + 2^2 + 2^1 + 2^0 = 2^4(1 \\times 2^{-1} + 1 \\times 2^{-2} + 1 \\times 2^{-3} + 1 \\times 2^{-4})=(1111)_2$\n",
    "- $\\vdots$\n",
    "- $2^n = 2^{n+1}(1 \\times 2^{-1} + \\underbrace{0 \\times 2^{-2} + \\dots + 0 \\times 2^{-(n)}+ 0 \\times 2^{-(n+1)}}_{n-\\text{times}}) = (1\\underbrace{0\\dots0}_{n-\\text{times}})_2$ \n",
    "- $\\vdots$\n",
    "- $17 = 16 + 1 = 2^4 + 2^0 = (10000)_2 + (1)_2 = (10001)_2$\n",
    "\n",
    "<details>\n",
    "  <summary>Counting to 1023</summary>\n",
    "<p align=\"center\">\n",
    "  <img src=\"countingmeme.png\" width=30%/>\n",
    "  <img src=\"digits.png\" width = 30% height = \"325px\"/>\n",
    "</p>\n",
    "</details>\n"
   ]
  },
  {
   "cell_type": "code",
   "execution_count": 6,
   "metadata": {},
   "outputs": [
    {
     "data": {
      "text/plain": [
       "'1 + 2 + 4 + 8 + 16 + 32 + 64 + 128 + 256 + 512 = 1023'"
      ]
     },
     "execution_count": 6,
     "metadata": {},
     "output_type": "execute_result"
    }
   ],
   "source": [
    "\" + \".join(str(2**i) for i in range(0,10)) + \" = \" + str(sum(2**i for i in range(0,10)))  # Great Scott Marty! The equation checks out!"
   ]
  },
  {
   "cell_type": "markdown",
   "metadata": {},
   "source": [
    "<details>\n",
    "  <summary>Mindblowing</summary>\n",
    "\n",
    "  <p align=\"center\">\n",
    "  <img src=\"mind-blown.gif\"/>\n",
    "</p>\n",
    "  \n",
    "</details>"
   ]
  },
  {
   "cell_type": "markdown",
   "metadata": {},
   "source": [
    "Python also has a built-in function for converting integers (as in the examples above) to their binary representations."
   ]
  },
  {
   "cell_type": "code",
   "execution_count": 7,
   "metadata": {},
   "outputs": [
    {
     "data": {
      "text/plain": [
       "'0b10011'"
      ]
     },
     "execution_count": 7,
     "metadata": {},
     "output_type": "execute_result"
    }
   ],
   "source": [
    "bin(19)  # converts an integer to its binary representation"
   ]
  },
  {
   "cell_type": "code",
   "execution_count": 3,
   "metadata": {},
   "outputs": [],
   "source": [
    "def base(n: int, b: int = 2) -> list:\n",
    "    digits = []\n",
    "    while n > 0:\n",
    "        digits.insert(0, n % b)  # insert n % b at first position \n",
    "        n = n // b\n",
    "    return digits\n"
   ]
  },
  {
   "cell_type": "code",
   "execution_count": 9,
   "metadata": {},
   "outputs": [
    {
     "data": {
      "text/plain": [
       "[1, 1, 0, 1, 2, 2, 0]"
      ]
     },
     "execution_count": 9,
     "metadata": {},
     "output_type": "execute_result"
    }
   ],
   "source": [
    "base(1023, 3)"
   ]
  },
  {
   "cell_type": "markdown",
   "metadata": {},
   "source": [
    "As we can see, numbers $a \\in \\mathbb{Z}$ are easy to translate into the binary system. Python can store (almost arbitrarly) small/large integers exactly, the only restriction we face is computer memory. "
   ]
  },
  {
   "cell_type": "code",
   "execution_count": 11,
   "metadata": {},
   "outputs": [
    {
     "data": {
      "text/plain": [
       "63835571435781571333810663812349884264126036860141055134346799256388277058108582377460259189526459249436999711371752122427538304506338568671121572911832340308087436997206729521724803100526976715228525979790879847050665870834220836418632165819246091393034919166754152872981392234299998866909537071379279461741224554607132463834291129269471536303570902153021305096135797446401235420438223826959591208187388053190474242901233847585246911837277087995617797990564229961457321472289308792927775092137446168276101219998522238533093667420761064884492603223604928609865964050721171884750896777708536908316573491680787488614402582793480408103964409708014253460042590125790168077661255782648415513651581892729901365061546454109495246318413511941936825503337778871202638466026847665383307981844189992654039909446335618419525559751971576598997306587987603656529220921860886427071621989673471139340501718391212861420473144886073032425027405933084259029324944772645867191793431772587076704980060884382100606812704096923049325900461668845905399050040803711272050676393126945596520944424960405330876523586404310703032543786518406458064937334298460500840734871306234331119510403685074506454758983180215124224669173104782264984944691102002247344297713289256933728642338653787780807636361071493199491490479010955593759706078969622668448843345943380449995328080005593902141770063351338235983468698049236866136516723717861141024310831567538347786570672969750264497420487346892779020371269383396096892861293313232384363115795024317364507120014285690768848329793922619827479066311108006137072008447963591263754983252344583247147974837999576304467232444839174821245840546587724085591383036426983826706918520941630087358738760735129800485659452741909244348159330692496250740796740471232796674"
      ]
     },
     "execution_count": 11,
     "metadata": {},
     "output_type": "execute_result"
    }
   ],
   "source": [
    "def fib(n):\n",
    "    a , b = 0 , 1\n",
    "    for _ in range(1,n+1):\n",
    "        b, a = a, a + b\n",
    "    return b\n",
    "\n",
    "fib(8452)"
   ]
  },
  {
   "cell_type": "markdown",
   "metadata": {},
   "source": [
    "The story is slightly different when we look at rational numbers (or even irrational numbers such as $\\pi, e, \\sqrt{2}$)\n",
    "\n",
    "Let us next look at some examples where the number is a rational number and not an integer.\n",
    "\n",
    "- $0.5 = 2^{-1}= 2^{0}({1} \\times 2^{-1}) =(0.1)_2$\n",
    "- $0.25 = 2^{-2}=2^{-1}(1 \\times 2^{-1} )=(0.01)_2$\n",
    "- $ 1/256=2^{-8} = 2^{-7}(1 \\times 2^{-1})=(0.00000001)_2$\n",
    "- $3/4 = 0.75 = 0.5 + 0.25 = (0.11)_2$\n",
    "- $15.5= 2^3 + 2^2 + 2^1 + 2^0 + 2^{-1} = 2^4(1 \\times 2^{-1} + 1 \\times 2^{-2} + 1 \\times 2^{-3} + 1 \\times 2^{-4} + 1 \\times 2^{-5}) = (1111.1)_2$\n",
    "\n",
    "We observe that only fractions with a denominator which is a power of two can be finitely represented in binary form. \n",
    "\n",
    "- $1/3 = 0.\\overline{3}=(0.\\overline{01})_2$ (Python cannot store this precisely, because there are infinitely many digits)"
   ]
  },
  {
   "cell_type": "markdown",
   "metadata": {},
   "source": [
    "## Floating-point representation in base 2"
   ]
  },
  {
   "cell_type": "markdown",
   "metadata": {},
   "source": [
    "When we program, we have only **limited memory** at our disposal and thus we **cannot store infinitely many digits**. Therefore we have to **truncate** the mantissa after the first $t$ significant digits and our exponent is bounded too, i.e. $L \\leq e \\leq U$. \n",
    "\n",
    "Hence any real number $x \\in \\mathbb{R}$ is $\\color{red}\\text{approximated}$ inside the computer by \n",
    "\n",
    "$$x_s=(-1)^s 2^e \\sum_{i=1}^t a_i 2^{-i} \\approx x$$\n",
    "\n",
    "where \n",
    "\n",
    "- $s \\in \\{0,1\\}$ is the **sign**\n",
    "- $ e \\in [L,U]$ is the **exponent**\n",
    "- $a_1,a_2, \\dots, a_t \\in \\{0,1\\}$ are the **significant digits** and form the **mantissa** of the number in floating point representation. Again, we assume $a_1 \\neq 0$ unless $x=0$.\n",
    "\n",
    "We then indicate by $\\mathbb{F}(\\beta=2, t, L, U)$ the set of representable numbers $x_s$ (as above) in the context of a general floating-point representation.\n",
    "\n",
    "- The maximum (i.e. largest) representable finite float is given by:\n",
    "\n",
    "$$ x_{\\max} = (-1)^0 2^U \\sum_{i=1}^t 2^{-i}= 2^U(1-2^{-t})$$\n",
    "\n",
    "- The minimum (i.e. smallest) representable positive (normalized) float (different from $0$) is given by:\n",
    "\n",
    "$$ 0 \\neq x_{\\min} = (-1)^0 2^L (1 \\times 2^{-1} + 0 \\times 2^{-2} + \\dots + 0 \\times 2^{-t}) = 2^{L-1} $$\n",
    "\n",
    "___\n",
    "\n",
    "**Remark** $\\color{red}(!)$: By convention $a_1 \\neq 0$ unless $x=0$ (normalisation), hence the minimum above has been correctly computed ($x_{\\min}$ doesn't depend on the number of significant digits). However, if we allow a leading coefficient of $a_1=0$ then the we obtain the minimum subnormal number \n",
    "$$x_{\\min}^* = 2^{L-t} < x_{\\min}=2^{L-1}$$\n",
    "---\n",
    "\n",
    "In Python the standard floating-point arithmetics is given by\n",
    "\n",
    "$$ \\mathbb{F}= \\mathbb{F}(2,53,-1021,1024) .$$\n",
    "\n",
    "Hence \n",
    "\n",
    "$$ x_{\\max} = 2^{1024}(1-2^{-53}), \\quad x_{\\min}= 2^{-1022}, \\quad \\left(x_{\\min}^* = 2^{-1074}\\right).$$"
   ]
  },
  {
   "cell_type": "code",
   "execution_count": 12,
   "metadata": {},
   "outputs": [
    {
     "data": {
      "text/plain": [
       "sys.float_info(max=1.7976931348623157e+308, max_exp=1024, max_10_exp=308, min=2.2250738585072014e-308, min_exp=-1021, min_10_exp=-307, dig=15, mant_dig=53, epsilon=2.220446049250313e-16, radix=2, rounds=1)"
      ]
     },
     "execution_count": 12,
     "metadata": {},
     "output_type": "execute_result"
    }
   ],
   "source": [
    "import sys\n",
    "sys.float_info"
   ]
  },
  {
   "cell_type": "code",
   "execution_count": 10,
   "metadata": {},
   "outputs": [
    {
     "data": {
      "text/plain": [
       "True"
      ]
     },
     "execution_count": 10,
     "metadata": {},
     "output_type": "execute_result"
    }
   ],
   "source": [
    "2**(-1022) == sys.float_info.min"
   ]
  },
  {
   "cell_type": "code",
   "execution_count": 22,
   "metadata": {},
   "outputs": [
    {
     "data": {
      "text/plain": [
       "True"
      ]
     },
     "execution_count": 22,
     "metadata": {},
     "output_type": "execute_result"
    }
   ],
   "source": [
    "2**(-52) == sys.float_info.epsilon"
   ]
  },
  {
   "cell_type": "markdown",
   "metadata": {},
   "source": [
    "As already pointed out, since we allocate a finite number of bits for storing a number, we **cannot** exactly represent all the real numbers in floating-point representation. Also numbers between $x_{\\min}$ and $x_{\\max}$ may not be exactly representable.\n",
    "\n",
    "- $0.1 = 10^{-1}$ has no finite representation in base $2$ because it cannot be expressed as a finite sum of powers of $2$ and therefore there is no hope to represent it exactly inside a computer and it must be approximated by truncating or rounding its mantissa in basis $2$.\n",
    "- It comes as no surprise that $\\pi$ cannot exactly be represented as a float. Indeed, $\\pi$ is a irrational number and as such as has an infinite number of digits."
   ]
  },
  {
   "cell_type": "code",
   "execution_count": 13,
   "metadata": {},
   "outputs": [
    {
     "data": {
      "text/plain": [
       "True"
      ]
     },
     "execution_count": 13,
     "metadata": {},
     "output_type": "execute_result"
    }
   ],
   "source": [
    "M = sys.float_info.max\n",
    "M+1000000000 == M  # a rather weird mathematical equation."
   ]
  },
  {
   "cell_type": "markdown",
   "metadata": {},
   "source": [
    "The Python float does not have sufficient precision to store the +1000000000S for m, therefore, the operation is essentially equivalent to adding a zero."
   ]
  },
  {
   "cell_type": "code",
   "execution_count": 14,
   "metadata": {},
   "outputs": [
    {
     "data": {
      "text/plain": [
       "inf"
      ]
     },
     "execution_count": 14,
     "metadata": {},
     "output_type": "execute_result"
    }
   ],
   "source": [
    "M + M  # overflowing to infinity"
   ]
  },
  {
   "cell_type": "code",
   "execution_count": 76,
   "metadata": {},
   "outputs": [
    {
     "name": "stdout",
     "output_type": "stream",
     "text": [
      "5e-324\n"
     ]
    }
   ],
   "source": [
    "m = 2**(-1074)  # minimal subnormal number different than zero.\n",
    "print(m)"
   ]
  },
  {
   "cell_type": "code",
   "execution_count": 77,
   "metadata": {},
   "outputs": [
    {
     "data": {
      "text/plain": [
       "[True, True]"
      ]
     },
     "execution_count": 77,
     "metadata": {},
     "output_type": "execute_result"
    }
   ],
   "source": [
    "[m > 0, m / 2 == 0]  # m is a positive number, however, m / 2 is interpreted by Python as 0.0"
   ]
  },
  {
   "cell_type": "markdown",
   "metadata": {},
   "source": [
    "## Sheet 0"
   ]
  },
  {
   "cell_type": "markdown",
   "metadata": {},
   "source": [
    "### Exercise 1\n",
    "\n",
    "a)\n",
    "\n",
    "**Given**: A non-empty list of integer values of length $N \\geq 1$\n",
    "\n",
    "**Goal**: Write an algorithm that takes a general list of length $N \\geq 1$ and returns the minimum value (i.e. lowest value) among the numbers of said list.\n",
    "\n",
    "**Examples**:\n",
    "- $L_1 = [0,12,9,13,12,0] \\implies 0$\n",
    "- $L_2 = [1,2,3] \\implies 1$\n",
    "- $L_3 = [5,-3,9,-5] \\implies -5$\n",
    "- $L_4 = [13] \\implies 13$"
   ]
  },
  {
   "cell_type": "markdown",
   "metadata": {},
   "source": [
    "<details>\n",
    "  <summary>Solution</summary>\n",
    "  \n",
    "  Let $L=[L_0,L_1, \\dots , L_{N-1}]$ be the given (non-empty) list of length $N \\geq 1$. Initialize $n=0$.\n",
    "\n",
    "  1. Define a new variable $\\texttt{tmpMin}$, denoting the first element of $L$ (i.e. $\\texttt{tmpMin}=L_0$);\n",
    "  2. If $n=N-1$ return $\\texttt{tmpMin}$, else select the next element $L_{n+1}$ of the list $L$;\n",
    "  3. If $L_{n+1} < \\texttt{tmpMin}$, then replace $\\texttt{tmpMin}$ with $L_{n+1}$\n",
    "  4. Increment $n$ by $1$ and go to step $2$.\n",
    "\n",
    "</details>"
   ]
  },
  {
   "cell_type": "code",
   "execution_count": 18,
   "metadata": {},
   "outputs": [
    {
     "data": {
      "text/plain": [
       "13"
      ]
     },
     "execution_count": 18,
     "metadata": {},
     "output_type": "execute_result"
    }
   ],
   "source": [
    "def minimal(arr: list):\n",
    "    tmpMin = arr[0]\n",
    "    for i in range(1,len(arr)):\n",
    "        if arr[i] < tmpMin:\n",
    "            tmpMin = arr[i]\n",
    "    return tmpMin\n",
    "minimal([13])\n"
   ]
  },
  {
   "cell_type": "code",
   "execution_count": 21,
   "metadata": {},
   "outputs": [
    {
     "data": {
      "text/plain": [
       "0"
      ]
     },
     "execution_count": 21,
     "metadata": {},
     "output_type": "execute_result"
    }
   ],
   "source": [
    "\n",
    "min([0,12,9,13,12,0])  # no need to reinvent the wheel."
   ]
  },
  {
   "cell_type": "code",
   "execution_count": 20,
   "metadata": {},
   "outputs": [
    {
     "data": {
      "text/plain": [
       "-23"
      ]
     },
     "execution_count": 20,
     "metadata": {},
     "output_type": "execute_result"
    }
   ],
   "source": [
    "def mini(arr):\n",
    "    tmpMin = float('inf')  # +infty\n",
    "    for element in arr:\n",
    "        if element < tmpMin:\n",
    "            tmpMin = element\n",
    "    return tmpMin\n",
    "\n",
    "# []\n",
    "# [1]\n",
    "# [1,9,-3,12,-23,-3,5,-19]\n",
    "\n",
    "mini([1,9,-3,12,-23,-3,5,-19])"
   ]
  },
  {
   "cell_type": "markdown",
   "metadata": {},
   "source": [
    "b)\n",
    "\n",
    "**Given**: A non-empty list of integer values of length $N \\geq 1$\n",
    "\n",
    "**Goal**: Write an algorithm that takes a general list of length $N \\geq 1$ and again a list which contains all values of the original list but without any duplicate entries\n",
    "\n",
    "**Examples**:\n",
    "- $L_1 = [1,2,3,4,5] \\implies L_1$\n",
    "- $L_2 = [2,2,2,9,1,3,3,1] \\implies [2,9,1,3]$\n",
    "- $L_3 = [12,9,12,9,12,9,12] \\implies [12,9]$\n",
    "- $L_4 = [5] \\implies L_4$"
   ]
  },
  {
   "cell_type": "markdown",
   "metadata": {},
   "source": [
    "<details>\n",
    "  <summary>Solution</summary>\n",
    "  \n",
    "  Let $L=[L_0,L_1, \\dots , L_{N-1}]$ be the given (non-empty) list of length $N \\geq 1$. Initialize $n=0$.\n",
    "\n",
    "  1. Initialize a new list $L^*$ that contains the first element $L_0$ of the list $L$, i.e. $L^*=[L_0]$\n",
    "  2. If $n=N-1$ return $L^*$, else select the next element $L_{n+1}$ of the list $L$;\n",
    "  3. Check if $L_{n+1}$ is not already present in $L^*$, if yes (i.e. it isn't) then append $L_{n+1}$ to the list $L^*$;\n",
    "  4. Increment $n$ by $1$ and go to step $2$.\n",
    "\n",
    "</details>"
   ]
  },
  {
   "cell_type": "code",
   "execution_count": 22,
   "metadata": {},
   "outputs": [
    {
     "data": {
      "text/plain": [
       "[12, 9]"
      ]
     },
     "execution_count": 22,
     "metadata": {},
     "output_type": "execute_result"
    }
   ],
   "source": [
    "def unique(arr : list):\n",
    "    uniques = []\n",
    "    for element in arr:\n",
    "        if element not in uniques:  # this requires another loop.\n",
    "            uniques.append(element)\n",
    "    return uniques\n",
    "\n",
    "# [1,2,3,4,5]\n",
    "# [2,2,2,9,1,3,3,1]\n",
    "# [12,9,12,9,12,9,12]\n",
    "# [4]\n",
    "\n",
    "unique([12,9,12,9,12,9,12])"
   ]
  },
  {
   "cell_type": "code",
   "execution_count": 91,
   "metadata": {},
   "outputs": [
    {
     "data": {
      "text/plain": [
       "{9, 12}"
      ]
     },
     "execution_count": 91,
     "metadata": {},
     "output_type": "execute_result"
    }
   ],
   "source": [
    "def unique2(arr : list) -> set: \n",
    "    uniques = set()  # a (mathematical) set {}\n",
    "    for element in arr:\n",
    "        uniques.add(element)\n",
    "    return uniques\n",
    "\n",
    "# [1,2,3,4,5]\n",
    "# [2,2,2,9,1,3,3,1]\n",
    "# [12,9,12,9,12,9,12]\n",
    "# [4]\n",
    "\n",
    "unique2([12,9,12,9,12,9,12])"
   ]
  },
  {
   "cell_type": "code",
   "execution_count": 27,
   "metadata": {},
   "outputs": [
    {
     "data": {
      "text/plain": [
       "[12, 9]"
      ]
     },
     "execution_count": 27,
     "metadata": {},
     "output_type": "execute_result"
    }
   ],
   "source": [
    "def unique3(arr : list) -> list:\n",
    "    return list(set(arr))\n",
    "\n",
    "# [1,2,3,4,5]\n",
    "# [2,2,2,9,1,3,3,1]\n",
    "# [12,9,12,9,12,9,12]\n",
    "# [4]    \n",
    "\n",
    "unique([12,9,12,9,12,9,12])"
   ]
  },
  {
   "cell_type": "code",
   "execution_count": 26,
   "metadata": {},
   "outputs": [
    {
     "data": {
      "text/plain": [
       "-5"
      ]
     },
     "execution_count": 26,
     "metadata": {},
     "output_type": "execute_result"
    }
   ],
   "source": [
    "arr = [1,2,9,13,23,1,-3,-5]\n",
    "arr.sort()  # O(nlog(n))\n",
    "arr[0]"
   ]
  },
  {
   "cell_type": "markdown",
   "metadata": {},
   "source": []
  }
 ],
 "metadata": {
  "kernelspec": {
   "display_name": "Python 3.9.7 ('base')",
   "language": "python",
   "name": "python3"
  },
  "language_info": {
   "codemirror_mode": {
    "name": "ipython",
    "version": 3
   },
   "file_extension": ".py",
   "mimetype": "text/x-python",
   "name": "python",
   "nbconvert_exporter": "python",
   "pygments_lexer": "ipython3",
   "version": "3.9.7"
  },
  "orig_nbformat": 4,
  "vscode": {
   "interpreter": {
    "hash": "dfedb2f0e1b88a6c23813e60334aaaaece12bec28cc25239464cb48f6f44d29f"
   }
  }
 },
 "nbformat": 4,
 "nbformat_minor": 2
}
