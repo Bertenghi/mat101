{
 "cells": [
  {
   "attachments": {},
   "cell_type": "markdown",
   "metadata": {},
   "source": [
    "# Exercise class 11\n",
    "\n",
    "- Name: Marco\n",
    "- E-Mail: mberten@math.uzh.ch (<24h, else send another mail)\n",
    "- Rocket-Chat: https://hello.math.uzh.ch $\\to$ mberten\n",
    "- Github: https://github.com/Bertenghi\n",
    "  - Additional exercises on my git."
   ]
  },
  {
   "cell_type": "markdown",
   "metadata": {},
   "source": [
    "# Information\n",
    "\n",
    "- Exercise sheet 9 was the last exercise sheet\n",
    "- Starting this week, we will focus on the exam preparation\n",
    "    - $\\approx 45$ Minutes individual/assistated solving of exercises (related to the exam)\n",
    "    - $\\approx 45$ Minutes live-coding, implementation (and discussion) of solution."
   ]
  },
  {
   "cell_type": "markdown",
   "metadata": {},
   "source": [
    "# Information about the exam\n",
    "\n",
    "- **Duration**: 3 hours\n",
    "- **Open book**: You can use the lecture notes/slides\n",
    "- **Open internet**: Without external communications (i.e. no WhatsApp etc.)\n",
    "- **Content**: Similar to the exercise sheets/classes.\n",
    "    - All the content of the course is suitable for the exam\n",
    "- **Equipment**: You can bring and use your own laptop.\n",
    "\n"
   ]
  },
  {
   "attachments": {},
   "cell_type": "markdown",
   "metadata": {},
   "source": [
    "## What is happening here? (Theoretical question)\n",
    "### Difficulty: $\\color{green}{Easy}$\n",
    "\n",
    "The equation $0.7+0.6=1.3$ is mathematically sound. However in Python why does ``0.7 + 0.6 == 1.3`` return `False`? You don't need to write an essay, but try and find a short and concise answer why this simple arithmetic operation does not work in Python."
   ]
  },
  {
   "cell_type": "code",
   "execution_count": 2,
   "metadata": {},
   "outputs": [
    {
     "data": {
      "text/plain": [
       "False"
      ]
     },
     "execution_count": 2,
     "metadata": {},
     "output_type": "execute_result"
    }
   ],
   "source": [
    "0.7 + 0.6 == 1.3  # This is true right?"
   ]
  },
  {
   "cell_type": "code",
   "execution_count": 3,
   "metadata": {},
   "outputs": [
    {
     "data": {
      "text/plain": [
       "1.2999999999999998"
      ]
     },
     "execution_count": 3,
     "metadata": {},
     "output_type": "execute_result"
    }
   ],
   "source": [
    "0.7+0.6"
   ]
  },
  {
   "attachments": {},
   "cell_type": "markdown",
   "metadata": {},
   "source": [
    "## Count characters in your string\n",
    "### Difficulty: $\\color{green}{Easy}$\n",
    "\n",
    "The main idea is to count all the occurring characters in a string. If you have a string like `\"aba\"`, then the result should be `{'a': 2, 'b': 1}`. Write a function `count(string : str)` that takes as an input a string and returns a dictionary containing the occurences of each character in your string. "
   ]
  },
  {
   "cell_type": "code",
   "execution_count": 4,
   "metadata": {},
   "outputs": [
    {
     "name": "stdout",
     "output_type": "stream",
     "text": [
      "H\n",
      "e\n",
      "l\n",
      "l\n",
      "o\n"
     ]
    }
   ],
   "source": [
    "for character in \"Hello\":\n",
    "    print(character)"
   ]
  },
  {
   "cell_type": "code",
   "execution_count": 7,
   "metadata": {},
   "outputs": [
    {
     "data": {
      "text/plain": [
       "{'h': 1, 'e': 1, 'l': 3, 'o': 2, ' ': 1, 'w': 1, 'r': 1, 'd': 1}"
      ]
     },
     "execution_count": 7,
     "metadata": {},
     "output_type": "execute_result"
    }
   ],
   "source": [
    "def count(string : str):\n",
    "    freq = {}                # leeres dictionary\n",
    "    for character in string:\n",
    "        if character in freq:\n",
    "            freq[character] += 1\n",
    "        else:           # neuer charakter\n",
    "            freq[character] = 1\n",
    "    return freq\n",
    "\n",
    "count(\"hello world\")"
   ]
  },
  {
   "cell_type": "markdown",
   "metadata": {},
   "source": [
    "## Another statistic, the mode of a data set\n",
    "### Difficulty: $\\color{orange}{Medium}$\n",
    "\n",
    "You are given again a dataset $d$, a `mode` of said dataset is defined as the most frequent value(s) in the data set. If there are multiple elements satisfying that property, any value can be returned.\n",
    "\n",
    "**Examples**:\n",
    " - $[1,2,2,3,4,7,9] \\to 2$\n",
    " - $[1,3,6,6,6,6,7,7,12,12,17] \\to 6$\n",
    " - $[1,1,2,4,4] \\to 1$ or $4$\n",
    " - $ [1,2,3,4,5] \\to$ $1$ or $2$ or,..., or $5$.\n",
    " - $ [\"Mark\", \"Marco\", \"Marco\", \"Marc\"] \\to \"Marco\"$\n",
    "\n",
    "**Hints**:\n",
    " 1) Create an useful dictionary, for example call your dictionary `freq`\n",
    " 2) Have a look at all the values of the dictionary `freq.values()`\n",
    " 3) Find the maximum of `freq.values()` say `m=max(freq.values())`\n",
    " 4) Return (say the first) key whose value is `m`."
   ]
  },
  {
   "cell_type": "markdown",
   "metadata": {},
   "source": [
    "## The minimum of three consecutive elements\n",
    "### Difficulty: $\\color{green}{Easy}$\n",
    "\n",
    "You are given a list $L=[L_1,L_2, \\dots , L_n]$. We view the last elements of this list as edge cases (there is nothing to left, respectively nothing to the right).\n",
    "\n",
    "Implement a function `minEnergy(L : list) -> list:` that returns the following given $L$:\n",
    "- $[\\min(L_1,L_2), \\min(L_1,L_2,L_3), \\min(L_2,L_3,L_4), \\dots , \\min(L_{n-1},L_n)]$\n",
    "i.e. the function `minEnergy` returns a list of equal length as $L$ with the minimum of three *consecutive* elements respecting edge cases.\n",
    "\n",
    "**Examples**:\n",
    "- $[2,3,4,1] \\to [2, 2, 1, 1]$\n",
    "- $[1,4,9,0,2,1,0,1,3,1] \\to [1, 1, 0, 0, 0, 0, 0, 0, 1, 1]$ "
   ]
  },
  {
   "cell_type": "markdown",
   "metadata": {},
   "source": []
  }
 ],
 "metadata": {
  "kernelspec": {
   "display_name": "Python 3",
   "language": "python",
   "name": "python3"
  },
  "language_info": {
   "codemirror_mode": {
    "name": "ipython",
    "version": 3
   },
   "file_extension": ".py",
   "mimetype": "text/x-python",
   "name": "python",
   "nbconvert_exporter": "python",
   "pygments_lexer": "ipython3",
   "version": "3.10.2 (tags/v3.10.2:a58ebcc, Jan 17 2022, 14:12:15) [MSC v.1929 64 bit (AMD64)]"
  },
  "orig_nbformat": 4,
  "vscode": {
   "interpreter": {
    "hash": "ba18286d27dd3f1705df4025c31d2b7021c67fcd01f023a6f194ed0db21ec453"
   }
  }
 },
 "nbformat": 4,
 "nbformat_minor": 2
}
