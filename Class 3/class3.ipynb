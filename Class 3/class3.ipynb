{
 "cells": [
  {
   "cell_type": "markdown",
   "metadata": {},
   "source": [
    "# Exercise class 2\n",
    "\n",
    "- Name: Marco\n",
    "- E-Mail: mberten@math.uzh.ch (<24h, else send another mail)\n",
    "- Rocket-Chat: https://hello.math.uzh.ch $\\to$ mberten\n",
    "- Github: https://github.com/Bertenghi"
   ]
  },
  {
   "cell_type": "markdown",
   "metadata": {},
   "source": [
    "## Summary of previous class (in 2 minutes or less)\n",
    "\n",
    "- We can finally work with functions. A function (in the Pythonic sense) takes certain parameters as `input` and returns an `output` accordingly. \n",
    "- Functions also have the advantage that we can compose them in order to tackle more complex problems."
   ]
  },
  {
   "cell_type": "markdown",
   "metadata": {},
   "source": [
    "## Debugging\n",
    "\n",
    "When coding, especially in the beginning, mistakes happen. To this end we want to discuss a few methods of debugging code. \n",
    "\n",
    "1. Study the code and look for mistakes, particularly if your program executes but doesn't produce the result you were looking for.\n",
    "2. *(Poor man's debugger)* Use Python's `print` statement on variables or types of interest to see what's going on.\n",
    "3. Use a debugger (more sophisticated method)."
   ]
  },
  {
   "cell_type": "markdown",
   "metadata": {},
   "source": [
    "## Sheet 3"
   ]
  },
  {
   "cell_type": "markdown",
   "metadata": {},
   "source": [
    "### Exercise 1\n",
    "\n",
    "This exercise should make you familiar with debugging and working with code you haven't written yourself. The functions `factorial` and `sum_list` are given but each have an error in their implementation. For both functions, do the following:\n",
    "\n",
    "a) Give at least two examples of inputs for which the result is correct.\n",
    "\n",
    "b) Give at least three examples of inputs that produce a wrong output.\n",
    "\n",
    "c) Using a debugging tool of your choice, find out where the error is and provide a fixed version of the function.\n",
    "\n",
    "<details>\n",
    "  <summary>Solution</summary>\n",
    "  \n",
    "For the `factorial` function:\n",
    "\n",
    "a) It holds that $0!=1$ and $1!=1$, both inputs are correctly returned by the factorial function. \n",
    "- The function also correctly detects if num is not an integer, say factorial(3.14) or factorial(\"abc\") both print a warning and return None.\n",
    "- Further, if num is negative, the function prints a warning and returns None.\n",
    "\n",
    "b) For any integer $n \\geq 2$ the function produces a wrong result. For example:\n",
    "- factorial(2)=1 should be 2\n",
    "- factorial(10)=10 should be $10!=3628800.$\n",
    "- factorial(11)=11 should be $11! \\gg 11$. \n",
    "\n",
    "c) The mistake lies in the while loop, we need to adjust the while loop to read `while num >= 1:`.\n",
    "\n",
    "For the `sum_list` function:\n",
    "\n",
    "a) \n",
    "- If the first element of the sum is not a number, then sum_list correctly returns the sum of the remaining list.\n",
    "- If the list does not include any numbers, then the sum correctly returns 0.\n",
    "- If array is not a list, the function correctly detects this as an error an returns 0.\n",
    "\n",
    "b) If the first element of the array is a number, then it incorrectly gets ignored. For example:\n",
    "- sum_list([2,3])=3 but should return 5.\n",
    "- sum_list([2, \"abc\"])=0 but should return 2.\n",
    "\n",
    "c) The mistake was in the for loop that generates the index for the array, it starts at 1 but Python is `0`-indexed and therefore the first element of the array always gets ignored. The correct for loop would be `for index in range(len(array)):`.\n",
    "\n",
    "</details>"
   ]
  },
  {
   "cell_type": "markdown",
   "metadata": {},
   "source": [
    "## Exercise 2\n",
    "\n",
    "This exercise is designed to show you one way you could handle invalid input parameters. Implement the function `power(base, exponent)` with the following behaviour:\n",
    "\n",
    "a) If `base` is an `int` or a `float` and `exponent` is a positive int, `power` should return the result of raising `base` to the power of `exponent` using a for- or a while-loop.\n",
    "\n",
    "b) If `base` or `exponent` do not fulfill the requirements as outlined in a), `power` should print a message stating which argument is invalid and return `None`."
   ]
  },
  {
   "cell_type": "code",
   "execution_count": 12,
   "metadata": {},
   "outputs": [
    {
     "name": "stdout",
     "output_type": "stream",
     "text": [
      "0\n"
     ]
    }
   ],
   "source": [
    "def power(base : int , exponent : int) -> float: \n",
    "\n",
    "    # verifying our parameters\n",
    "    if not isinstance(base, (int, float)):\n",
    "        print(f\"base {base} is of type {type(base)} and not float or int.\")\n",
    "        return None\n",
    "    if not (type(exponent) == int and exponent > 0):\n",
    "        print(f\"exponent {exponent} is of type {type(exponent)} but we exponent a positive int\")\n",
    "        return None\n",
    "    \n",
    "    # if the algorithm comes to this point, we have valid inputs.\n",
    "    # and also no indeterminate forms such as 0^0.\n",
    "\n",
    "    result = 1  # base^0 = 1\n",
    "\n",
    "    for k in range(exponent):\n",
    "        result *= base \n",
    "\n",
    "    return result\n",
    "\n",
    "print(power(0, 2))\n",
    "    "
   ]
  },
  {
   "cell_type": "markdown",
   "metadata": {},
   "source": [
    "Implement a second function `better_power(base, exponent)`. Starting from your implementation of `power`, make the necessary changes to achieve:\n",
    "\n",
    "c) If `base` is an int or a `float` and `exponent` is an `int`, `better_power` should return the result of raising `base` to the power of `exponent` using a for- or while loop, unless `exponent` is negative and `base` is equal to `0`, since in this case the result is undefined.\n",
    "\n",
    "d) If `base` or `exponent` do not full the requirements specified in c), `better_power` should print a message stating which argument is invalid and return None. In case `exponent` is negative and `base` is equal to zero, print that this combination of parameters is not valid and return None."
   ]
  },
  {
   "cell_type": "code",
   "execution_count": 35,
   "metadata": {},
   "outputs": [
    {
     "name": "stdout",
     "output_type": "stream",
     "text": [
      "0.03125\n"
     ]
    }
   ],
   "source": [
    "def better_power(base : int, exponent : int) -> float:\n",
    "    if type(base) not in [int, float]:\n",
    "        print(f\"base {b} received type {type(base)} but should be an int or a float.\")\n",
    "        return None\n",
    "    if type(exponent) is not int:\n",
    "        print(f\"exponent {exponent} received type {type(exponent)} but we require an int.\")\n",
    "        return None\n",
    "\n",
    "    #  once our algorithm reaches this point, we know we have correct inputs\n",
    "\n",
    "    #  catching special case of base 0 and exponent <= 0\n",
    "\n",
    "    if base == 0 and exponent <= 0:\n",
    "        print(f\"Received base 0 and exponent {exponent} which amounts to division by zero\")\n",
    "        return None\n",
    "\n",
    "    #  once we reach this point all is good\n",
    "\n",
    "    result = 1\n",
    "    for k in range(abs(exponent)):  # careful about the absolute value!\n",
    "        result *= base \n",
    "    \n",
    "    if exponent > 0:\n",
    "        return result\n",
    "    else:  # if exponent is <= 0 we have to return the reciprocal\n",
    "        return 1 / result\n",
    "\n",
    "print(better_power(2,-5))\n"
   ]
  },
  {
   "cell_type": "markdown",
   "metadata": {},
   "source": [
    "## Exercise 3\n",
    "\n",
    "In this exercise we want to see how breaking a task into smaller (sub) tasks makes it less daunting. Suppose you want a function to calculate how many days are between any two given dates. But writing everything in one function seems too hard:\n",
    "- Need to account for leap years\n",
    "- Not all months have the same numbers of days\n",
    "\n",
    "But if you could check if a given year is a leap year and calculate how many days are between new year (01.01.) and any given date, then calculating the number of days between any two given dates seems much easier than before.\n",
    "\n",
    "**Goal**: Implement `days_between(start, end)`.\n",
    "\n",
    "a) `is_leap_year` takes an int `year` and returns whether that year is a leap year. \n",
    "\n",
    "**Remark**: A leap year is a calender year that contains an additional day (Gregorian calender: extend February to 29 days rather than the common 28)\n"
   ]
  },
  {
   "cell_type": "markdown",
   "metadata": {},
   "source": [
    "<details>\n",
    "  <summary>Algorithm</summary>\n",
    "<p align=\"center\">\n",
    "  <img src=\"algo.jpg\" height = 500px/>\n",
    "  \n",
    "</p>\n",
    "</details>"
   ]
  },
  {
   "cell_type": "code",
   "execution_count": 52,
   "metadata": {},
   "outputs": [
    {
     "name": "stdout",
     "output_type": "stream",
     "text": [
      "False\n"
     ]
    }
   ],
   "source": [
    "def is_leap_year(year : int) -> bool:\n",
    "    \"\"\"\n",
    "    Returns whether a given year is a leap year.\n",
    "    Algorithm (see picture above.)\n",
    "    \n",
    "    Input:\n",
    "        year: int\n",
    "\n",
    "    Output:\n",
    "        bool\n",
    "    \"\"\"\n",
    "    if year % 4 != 0:  # check if not divisible by 4\n",
    "        return False\n",
    "    # Remark: Here we know year is divisible by 4\n",
    "    if year % 100 != 0:  # check if not divisible by 100\n",
    "        return True\n",
    "    # Remark: Now we know its divisible by 4 and by 100.\n",
    "    if  year % 400 != 0:  # check if not divisible by 400\n",
    "        return False\n",
    "    # Remark: Now we know its divisible by 4 and 100 and 400\n",
    "    return True\n",
    "    \n",
    "print(is_leap_year(1800))"
   ]
  },
  {
   "cell_type": "markdown",
   "metadata": {},
   "source": [
    "b) `days_since_new_year` takes a list of ints `date` and returns how many days are between New Year and `date` in a non-leap year. \n",
    "Examples:\n",
    "- [1,1] denotes New Year and hence `days_since_new_year([1,1])` should equate to 0.\n",
    "- [19,2] denotes the 19th of February and `days_since_new_year([19,2])` should return 49."
   ]
  },
  {
   "cell_type": "code",
   "execution_count": 70,
   "metadata": {},
   "outputs": [
    {
     "name": "stdout",
     "output_type": "stream",
     "text": [
      "52\n"
     ]
    }
   ],
   "source": [
    "def days_since_new_year(date : list[int,int]) -> int:\n",
    "\n",
    "    days = 0  # initialize return variable\n",
    "\n",
    "    day, month = date  # unpacking the date array\n",
    "\n",
    "    #  month length in a non-leap year i.e. February has 28 days.\n",
    "    month_length = [31, 28, 31, 30, 31, 30,\n",
    "                    31, 31, 30, 31, 30, 31]\n",
    "    \n",
    "    for length in month_length[ : month -1]:\n",
    "        days += length  # count the days of the month\n",
    "\n",
    "    days += day  # adding how many days have passed.\n",
    "    days -= 1    # don't count the day itself\n",
    "\n",
    "    return days\n",
    "\n",
    "print(-days_since_new_year([19,2])+days_since_new_year([12, 4]))"
   ]
  },
  {
   "cell_type": "markdown",
   "metadata": {},
   "source": [
    "c) `days_between(start, end)` takes two lists of ints `start` and `end` and calculates how many days are between `start` and `end`. Examples:\n",
    "- [25, 12, 2022] and [4, 1, 2023] would corresponds to the 25th of December 2022 and the 4th of January 2023, hence `days_between([25, 12, 2022], [4, 1, 2023])` should return 10.\n"
   ]
  },
  {
   "cell_type": "code",
   "execution_count": 98,
   "metadata": {},
   "outputs": [
    {
     "name": "stdout",
     "output_type": "stream",
     "text": [
      "12975\n"
     ]
    }
   ],
   "source": [
    "def days_between(start : list[int,int,int], end : list[int,int,int]) -> int:\n",
    "\n",
    "    # first we unpack our data arrays\n",
    "    startDay, startMonth, startYear = start\n",
    "    endDay, endMonth, endYear = end\n",
    "\n",
    "    daysCount = 0  # Initialize an accumulator for the days\n",
    "\n",
    "    #  Compute the days in intermediate years (startYear included, endYear excluded)\n",
    "    #  (*) Observe: endYear is excluded and hence the days of the last year (= endYear)\n",
    "    #               must be added while the days for the first year (= startYear) must be subtracted\n",
    "    for year in range(startYear, endYear):\n",
    "        #  check whether year is a leap year\n",
    "        if is_leap_year(year):\n",
    "            daysCount += 366  # February now has 29 days \n",
    "        else:\n",
    "            daysCount += 365  # A \"regular\" year\n",
    "\n",
    "    #  Compute adjust days for the first and the last year, see logic (*)\n",
    "    #  Assumption (!): Non-Leap year (assumption comes from function days_since_new_year)\n",
    "    daysCount += days_since_new_year([endDay, endMonth]) - days_since_new_year([startDay, startMonth]) \n",
    "\n",
    "    #  Now we need to adjust for leap years (first and last year only)\n",
    "\n",
    "    if is_leap_year(startYear):  # First year is leap year\n",
    "        if startMonth > 2:       # We are already past February\n",
    "            daysCount -= 1       # Thus we must remove a day since days_since_new_year\n",
    "    if is_leap_year(endYear):\n",
    "        if endMonth > 2:\n",
    "            daysCount += 1\n",
    "\n",
    "    return daysCount\n",
    "\n",
    "print(days_between([9,4,1987], [17,10,2022]))\n"
   ]
  },
  {
   "cell_type": "code",
   "execution_count": null,
   "metadata": {},
   "outputs": [],
   "source": []
  }
 ],
 "metadata": {
  "kernelspec": {
   "display_name": "Python 3.10.2 64-bit",
   "language": "python",
   "name": "python3"
  },
  "language_info": {
   "codemirror_mode": {
    "name": "ipython",
    "version": 3
   },
   "file_extension": ".py",
   "mimetype": "text/x-python",
   "name": "python",
   "nbconvert_exporter": "python",
   "pygments_lexer": "ipython3",
   "version": "3.10.2"
  },
  "orig_nbformat": 4,
  "vscode": {
   "interpreter": {
    "hash": "ba18286d27dd3f1705df4025c31d2b7021c67fcd01f023a6f194ed0db21ec453"
   }
  }
 },
 "nbformat": 4,
 "nbformat_minor": 2
}
