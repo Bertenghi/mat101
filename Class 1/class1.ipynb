{
 "cells": [
  {
   "cell_type": "markdown",
   "metadata": {},
   "source": [
    "# Exercise class 1\n",
    "\n",
    "- Name: Marco\n",
    "- E-Mail: mberten@math.uzh.ch (<24h)\n",
    "- Rocket-Chat: https://hello.math.uzh.ch $\\to$ mberten\n",
    "- Github: https://github.com/bertenghi"
   ]
  },
  {
   "cell_type": "markdown",
   "metadata": {},
   "source": [
    "## Summary of previous class (in 2 minutes)\n",
    "\n",
    "- Integers behave differently than floats in Python (generally: in Programming, see [Julia](https://julialang.org/learning/tryjulia/))\n",
    "- In Python integers are unbounded (bounded only by memory)\n",
    "- Floats are bounded:\n",
    "  - Can overflow to infinity\n",
    "  - Can underflow to -infinity\n",
    "  - Can be too large to be represented as a Python float\n",
    "  - Can converge to \"0\"."
   ]
  },
  {
   "cell_type": "code",
   "execution_count": 7,
   "metadata": {},
   "outputs": [
    {
     "data": {
      "text/plain": [
       "179769313486231590772930519078902473361797697894230657273430081157732675805500963132708477322407536021120113879871393357658789768814416622492847430639474124377767893424865485276302219601246094119453082952085005768838150682342462881473913110540827237163350510684586298239947245938479716304835356329624224137216"
      ]
     },
     "execution_count": 7,
     "metadata": {},
     "output_type": "execute_result"
    }
   ],
   "source": [
    "a = 2**1024  # this is an int\n",
    "a"
   ]
  },
  {
   "cell_type": "code",
   "execution_count": 6,
   "metadata": {},
   "outputs": [
    {
     "ename": "OverflowError",
     "evalue": "(34, 'Numerical result out of range')",
     "output_type": "error",
     "traceback": [
      "\u001b[0;31m---------------------------------------------------------------------------\u001b[0m",
      "\u001b[0;31mOverflowError\u001b[0m                             Traceback (most recent call last)",
      "\u001b[0;32m<ipython-input-6-9e0a336dfaa4>\u001b[0m in \u001b[0;36m<module>\u001b[0;34m\u001b[0m\n\u001b[0;32m----> 1\u001b[0;31m \u001b[0mb\u001b[0m \u001b[0;34m=\u001b[0m \u001b[0;36m2.0\u001b[0m\u001b[0;34m**\u001b[0m\u001b[0;36m1024\u001b[0m  \u001b[0;31m# this is a float\u001b[0m\u001b[0;34m\u001b[0m\u001b[0;34m\u001b[0m\u001b[0m\n\u001b[0m\u001b[1;32m      2\u001b[0m \u001b[0mb\u001b[0m\u001b[0;34m\u001b[0m\u001b[0;34m\u001b[0m\u001b[0m\n",
      "\u001b[0;31mOverflowError\u001b[0m: (34, 'Numerical result out of range')"
     ]
    }
   ],
   "source": [
    "b = 2.0**1024  # this is a float\n",
    "b"
   ]
  },
  {
   "cell_type": "markdown",
   "metadata": {},
   "source": [
    "- An algorithm is a set of clear instructions that the computer can perform faithfully\n",
    "  - Typically one first develops an algorithm (say on a piece of paper) and then implements it to a programming language of choice (here we use Python exclusively)."
   ]
  },
  {
   "cell_type": "markdown",
   "metadata": {},
   "source": [
    "## Questions\n",
    "\n",
    "- You can work with any IDE *(integrated development environment)* of your choice\n",
    "- You can upload your homeworks in the following formats:\n",
    "   -  .pdf, .py , .txt\n",
    "\n",
    "## Information\n",
    "\n",
    "- From now on, please upload your coding tasks as .py or .txt files. In the exercise sheets we will indicate it more properly when we expect a .py or .txt file."
   ]
  },
  {
   "cell_type": "markdown",
   "metadata": {},
   "source": [
    "# Sheet 1\n",
    "\n",
    "Today, Python (still) seems like a rather powerful calculator. We study basic datatypes and operations."
   ]
  },
  {
   "cell_type": "markdown",
   "metadata": {},
   "source": [
    "## Exercise 1\n",
    "\n",
    "a) Write down the type of each of the numerical variables defined below, i.e. int or float.\n",
    "\n",
    " - a = 1\n",
    " - b = 1.0\n",
    " - c = a + b\n",
    " - d = 2*a\n",
    " - e = a-b\n",
    " - f = d/a\n",
    " - g = b**3"
   ]
  },
  {
   "cell_type": "markdown",
   "metadata": {},
   "source": [
    "<details>\n",
    "  <summary>Solution</summary>\n",
    "  \n",
    "  - a is an int\n",
    "  - b is a float\n",
    "  - c is a float *(type-conversion)*\n",
    "  - d is an int\n",
    "  - e is a float *(type-conversion)*\n",
    "  - f is a float\n",
    "  - g is float *(type-conversion)*\n",
    "\n",
    "</details>"
   ]
  },
  {
   "cell_type": "markdown",
   "metadata": {},
   "source": [
    "b) There are a lot more operations that can be used on ints and floats, here are two new ones that come in handy from time to time.\n",
    "\n",
    " i) Given the examples below, try to find out what \"%\" does:\n",
    "   - 4 % 3 = 1 \n",
    "   - 8 % 2 = 0\n",
    "   - 4.5 % 2 = 0.5"
   ]
  },
  {
   "cell_type": "markdown",
   "metadata": {},
   "source": [
    "<details>\n",
    "  <summary>Solution</summary>\n",
    "  \n",
    "  - \"%\" is the modulo operator, a%b gives you the remainder when diving a by b. \n",
    "<details>\n",
    "  <summary>Modulo in Mathematics</summary>\n",
    "\n",
    "The term modulo comes from a branch of mathematics called modular arithmetic. Modular arithmetic deals with integer arithmetic on a circular number line that has a fixed set of numbers. All arithmetic operations performed on this number line will wrap around when they reach a certain number called the modulus.\n",
    "\n",
    "In mathematics, $\\mathbb{Z}/n \\mathbb{Z}$ is called the **ring of integers modulo** $n$.\n",
    "\n",
    "**Famous examples**:\n",
    "  - A clock (modulo 12)\n",
    "  - The alphabet\n",
    "    - For example the modern English alphabet has 26 letters (mod 26)\n",
    "  - Cryptographic devices (such as ROT13).\n",
    "\n",
    "**Observe**: We typically use $a \\% b$ when $a \\geq b$, evidently if we instead use $b \\% a$ for $a>b$ then the result is just $b$.\n",
    "\n",
    "**Careful**: Just like with the division operator (/), Python will return a $\\texttt{ZeroDivisionError}$ if you try to use the modulo operator with a divisor of 0. \n",
    "</details>\n",
    "\n",
    "</details>"
   ]
  },
  {
   "cell_type": "markdown",
   "metadata": {},
   "source": [
    "**Definition**: A natural number $p \\geq 2$ is called prime if $d \\mid p$ then $d \\in \\{1,p\\}$."
   ]
  },
  {
   "cell_type": "code",
   "execution_count": 1,
   "metadata": {},
   "outputs": [
    {
     "data": {
      "text/plain": [
       "True"
      ]
     },
     "execution_count": 1,
     "metadata": {},
     "output_type": "execute_result"
    }
   ],
   "source": [
    "## Application: Prime numbers\n",
    "\n",
    "# The algorithm below is a naive primality test called trial division.\n",
    "\n",
    "# For n >= 2, the following function returns True if n is a prime number or False otherwise.\n",
    "\n",
    "\n",
    "def isprime(n: int) -> bool: \n",
    "    for k in range(2 , n):  # Optimal range? What about n/2, sqrt(n)? (*)\n",
    "        if n % k == 0:      # same as not n % k\n",
    "            return False\n",
    "    return True\n",
    "\n",
    "isprime(2)\n",
    "\n",
    "#Performance?\n",
    "# p = 160481183 (a \"large\" prime number)\n",
    "# p = 982451653\n",
    "\n",
    "\n",
    "# (*) all divisors of n are less or equal to (n/2) -> n//2\n",
    "# (*) all unique divisors of n are less or equal to sqrt(n) -> int(n**0.5)\n",
    "# (*) all even numbers can also be excluded, because if an even number can divide n, then so can 2."
   ]
  },
  {
   "cell_type": "code",
   "execution_count": 36,
   "metadata": {},
   "outputs": [
    {
     "data": {
      "text/plain": [
       "True"
      ]
     },
     "execution_count": 36,
     "metadata": {},
     "output_type": "execute_result"
    }
   ],
   "source": [
    "def is_prime(n : int) -> bool:\n",
    "    if n <= 3:\n",
    "        return n > 1\n",
    "    if not n%2 or not n%3:\n",
    "        return False\n",
    "    \n",
    "    bound = int(n**0.5)  # sqrt(n)\n",
    "    i = 5\n",
    "\n",
    "    while i <= bound:\n",
    "        if not n%i or not n%(i+2):  # the +/- 1 cases\n",
    "            return False\n",
    "        else:\n",
    "            i += 6\n",
    "    return True\n",
    "\n",
    "is_prime(47055833459)\n",
    "\n",
    "# p = 47055833459\n",
    "    "
   ]
  },
  {
   "cell_type": "markdown",
   "metadata": {},
   "source": [
    "<details>\n",
    "  <summary>Some maths</summary>\n",
    "  \n",
    "- Let $n \\in \\mathbb{N}$, then all divisors of $n$ are less than or equal to $n/2$.\n",
    "\n",
    "Indeed, let $m=n/2$, then for all $q$, such that $m<q<n$, we have $1 < n/q < 2$, in particular there is a rest after division of $n$ by $q$ and therefore $n\\%q \\neq 0$.\n",
    "\n",
    "**Example**: $n=100$, then $n/2=50$. We write the list of divisors of $n=100$ as a list of products, each equal to $100$: ${\\color{orange}2 \\times 50, 4 \\times 25, 5 \\times 20}, 10 \\times 10, {\\color{orange} 20 \\times 5, 25 \\times 4, 50 \\times 2}$. Notice that products past $10 \\times 10$ merely ${\\color{orange}\\text{repeat}}$ numbers which aleardy appeared in earlier products.\n",
    "\n",
    "- Let $n \\in \\mathbb{N}$, then all **unique** divisors of $n$ are less than or equal to $\\sqrt{n}$.\n",
    "\n",
    "Using integer division it can be shown that for a given integer $n$ and a non-zero integer $q \\leq n$, it can be shown that there exist unique integers $p$ and $r$, such that \n",
    "\n",
    "$$n = pq+ r, \\qquad 0 \\leq r < |q|$$\n",
    "\n",
    "Evidently, if $r>0$, then we have a rest and therefore the modular operation will not return zero. Hence we assume $r=0$ and then $n=p q$ (such numbers are called composite or non-prime). It immediately follows that $p \\leq \\sqrt{n}$, sinc ehte composite number $n=pq$ cannot have two factors, both $> \\sqrt{n}$, because the product of these factors would then exceed $n$.\n",
    "\n",
    "------\n",
    "\n",
    "There are (many) further optimization techniques. We just want to outline one more here. The following observation is key (it's easy to verify)\n",
    "\n",
    "- All primes $p>3$ are of the form $6k \\pm 1$ for $k \\in \\mathbb{N}=\\{1,2,3, \\dots \\}$.\n",
    "\n",
    "Indeed, it is easy to see that every integer $n$ can be expressed as $n=6k+i$ for $i \\in \\{-1,0,1,2,3,4\\}$. Now we have \n",
    "\n",
    "- $2 \\mid (6k +0)$\n",
    "- $2 \\mid (6k+2)$\n",
    "- $2 \\mid (6k+4)$\n",
    "- $3 \\mid 6k+3=3(2k+1)$\n",
    "\n",
    "Hence every prime number $p>3$ must be of the form $p=6k \\pm 1$ for $k \\in \\mathbb{N}$. \n",
    "\n",
    "To bring this to use, we combine the insight we have gathered from the previous tests: \n",
    "\n",
    "- First test whether or not $n$ is divisible by $2$ or $3$\n",
    "- Then check through all numbers $6k \\pm 1 \\leq \\sqrt{n}$.\n",
    "\n",
    "</details>"
   ]
  },
  {
   "cell_type": "markdown",
   "metadata": {},
   "source": [
    "<details>\n",
    "  <summary>A business idea?</summary>\n",
    "\n",
    "  The [Electronic Frontier Foundation](https://www.eff.org/de/awards/coop) (EFF) confers the following prices through its Cooperative Computing Awards:\n",
    "\n",
    "  - **50'000 USD** to the first individual (or group) who discovers a prime number with at least 1 **million decimal** digits.\n",
    "    - Awarded 6th of April 2000 (collective power of tens of thousands of computers)\n",
    "  - **100'000 USD** to the first individual (or group) who discovers a prime with **10 million decimal** digits.\n",
    "    - Awarded 22th of October 2009 (GIMPS: Great Internet Mersenne Prime Search - UCLA)\n",
    "  - **150'000 USD** to the first individual (or group) who discovers a prime with **100 million decimal** digits.\n",
    "  - **250'000 USD** to the first individual (or group) who discovers a prime with **1 billion decimal** (i.e. $10^9$) digits.\n",
    "\n",
    "Some protocols of modern public-key cryptography require finding $2$ large prime numbers, multiplying them together (so-called semiprimes) and using the result as a public key. Anyone can encrypt messages using this product (public key, *can be shared without compromising security*), but decrypting those messages requires knowledge of the factors (secret key), and finding them is difficult (exhaustive, even for supercomputers). The security of such public-key cryptographic systems depends entirely on the security of the private key, which must not be known to any other. It turns out that finding large primes is much easier in comparison to factoring a given number (cannot be done within reasonable time).\n",
    "\n",
    "RSA labs (est 1977) used primes with up to 600 digits to construct some factorization challenges (RSA-2048 has 2048 binary digits or over 600 decimal ones).\n",
    "\n",
    "- When a number is sufficiently large, no efficient inter factorization algorithm is known.\n",
    "  - However, it has not been proven that such an algorithm does not exist.\n",
    "  - Such an algorithm would render RSA-based public-key cryptography insecure and thus useless.\n",
    "- In 2019 [Thome, Boudat, Gaudry et al.](https://web.archive.org/web/20191202190004/https://lists.gforge.inria.fr/pipermail/cado-nfs-discuss/2019-December/001139.html) factored a 240-digits number (RSA-240) utilizing approx. 900 core years (1 core year = using 1 CPU core continuously for a full year).\n",
    "  - The researchers estimated that a 1024-bit RSA would take about 500 times as long.\n",
    "</details>"
   ]
  },
  {
   "cell_type": "markdown",
   "metadata": {},
   "source": [
    "## Exercise 2"
   ]
  },
  {
   "cell_type": "markdown",
   "metadata": {},
   "source": [
    "$$\n",
    "\\begin{array}{|c c|c|}\n",
    "p & q & p \\land q\\\\ \n",
    "\\hline \n",
    "T & T & T\\\\\n",
    "T & F & F\\\\\n",
    "F & T & F\\\\\n",
    "F & F & F\\\\\n",
    "\\end{array} \n",
    "\n",
    "\\qquad \n",
    "\n",
    "\\begin{array}{|c c|c|}\n",
    "p & q & p \\lor q\\\\ \n",
    "\\hline \n",
    "T & T & T\\\\\n",
    "T & F & T\\\\\n",
    "F & T & T\\\\\n",
    "F & F & F\\\\\n",
    "\\end{array}\n",
    "\n",
    "\\qquad \n",
    "\n",
    "\\begin{array}{|c|c|}\n",
    "\n",
    "p  & \\lnot p\\\\ \n",
    "\\hline \n",
    "T & F\\\\\n",
    "F & T \\\\\n",
    "\\end{array}\n",
    "$$"
   ]
  },
  {
   "cell_type": "code",
   "execution_count": 9,
   "metadata": {},
   "outputs": [
    {
     "data": {
      "text/plain": [
       "True"
      ]
     },
     "execution_count": 9,
     "metadata": {},
     "output_type": "execute_result"
    }
   ],
   "source": [
    "# In Python\n",
    "\n",
    "p = True\n",
    "q = False\n",
    "\n",
    "p or q"
   ]
  },
  {
   "cell_type": "markdown",
   "metadata": {},
   "source": [
    "## Exercise 3"
   ]
  },
  {
   "cell_type": "markdown",
   "metadata": {},
   "source": [
    "This exercise should make you familiar with strings in Python.\n",
    "Use the methods discussed during the lecture to solve the following tasks as efficiently as possible.\n",
    "\n",
    "a) Define in your script: sentence = \"You are using Python right now.\"\n",
    "\n",
    "b) Print the type of \"sentence\".\n",
    "\n",
    "c) Print the first character of \"sentence\".\n",
    "\n",
    "d) Print the last seven characters of \"sentence\".\n",
    "\n",
    "e) Use slicing to isolate one word from \"sentence\" and print it.\n",
    "\n",
    "f) Print the length of \"sentence\"."
   ]
  },
  {
   "cell_type": "code",
   "execution_count": 21,
   "metadata": {},
   "outputs": [
    {
     "name": "stdout",
     "output_type": "stream",
     "text": [
      "<class 'str'>\n",
      "Y\n",
      "ght now\n",
      "You \n",
      "You\n",
      "are\n",
      "using\n",
      "Python\n",
      "right\n",
      "now\n",
      "30\n"
     ]
    }
   ],
   "source": [
    "sentence = \"You are using Python right now\"  # defining the variable\n",
    "print(type(sentence))  # printing its type\n",
    "print(sentence[0])  # Python is 0-indexed.\n",
    "print(sentence[-7:])  # careful, slicing in Python a:b should be considered as [a,b)\n",
    "print(sentence[:4])  # equivalent to slicing 0:4\n",
    "for word in sentence.split():\n",
    "    print(word)\n",
    "print(len(sentence))"
   ]
  },
  {
   "cell_type": "markdown",
   "metadata": {},
   "source": [
    "## Exercise 4\n"
   ]
  },
  {
   "cell_type": "markdown",
   "metadata": {},
   "source": [
    "This exercise should make you familiar with lists in Python.\n",
    "Use the methods discussed during the lecture to solve the following tasks as efficiently as possible.\n",
    "\n",
    "**Note**: since ”list” is a datatype in Python it has inherent meaning and functionality. Therefore,\n",
    "you should not use ”list” as a variable name, the same goes for ”str”, ”int”, etc.\n",
    "\n",
    "a) Define in your script: array = [1, \"abc\", [3.14], 2]\n",
    "\n",
    "b) Print the type of \"array\".\n",
    "\n",
    "c) Print the third element of \"array\".\n",
    "\n",
    "d) Create a new list \"names\" containing two elements, your first and last name.\n",
    "\n",
    "e) Concatenate \"array\" and \"names\" into \"concatenated\".\n",
    "\n",
    "f) Print the length of \"concatenated\"."
   ]
  },
  {
   "cell_type": "code",
   "execution_count": 26,
   "metadata": {},
   "outputs": [
    {
     "name": "stdout",
     "output_type": "stream",
     "text": [
      "<class 'list'>\n",
      "[3.14]\n",
      "6\n"
     ]
    }
   ],
   "source": [
    "array = [1, \"abc\", [3.14], 2]  # defining \"array\"\n",
    "\n",
    "print(type(array))\n",
    "\n",
    "print(array[2])  # Recall: Python is 0-indexed.\n",
    "\n",
    "names = [\"Marco\", \"Bertenghi\"]  # Defining the list names.\n",
    "\n",
    "concatenated = array + names  # Python can concatenate lists easily\n",
    "\n",
    "print(len(concatenated))"
   ]
  },
  {
   "cell_type": "code",
   "execution_count": null,
   "metadata": {},
   "outputs": [],
   "source": []
  }
 ],
 "metadata": {
  "kernelspec": {
   "display_name": "Python 3.8.10 64-bit",
   "language": "python",
   "name": "python3"
  },
  "language_info": {
   "codemirror_mode": {
    "name": "ipython",
    "version": 3
   },
   "file_extension": ".py",
   "mimetype": "text/x-python",
   "name": "python",
   "nbconvert_exporter": "python",
   "pygments_lexer": "ipython3",
   "version": "3.8.10"
  },
  "orig_nbformat": 4,
  "vscode": {
   "interpreter": {
    "hash": "916dbcbb3f70747c44a77c7bcd40155683ae19c65e1c03b4aa3499c5328201f1"
   }
  }
 },
 "nbformat": 4,
 "nbformat_minor": 2
}
