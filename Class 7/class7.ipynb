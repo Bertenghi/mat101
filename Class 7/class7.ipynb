{
 "cells": [
  {
   "cell_type": "markdown",
   "metadata": {},
   "source": [
    "# Exercise class 7\n",
    "\n",
    "- Name: Marco\n",
    "- E-Mail: mberten@math.uzh.ch (<24h, else send another mail)\n",
    "- Rocket-Chat: https://hello.math.uzh.ch $\\to$ mberten\n",
    "- Github: https://github.com/Bertenghi\n",
    "  - Additional exercises on my git."
   ]
  },
  {
   "cell_type": "markdown",
   "metadata": {},
   "source": [
    "# The Tower of Hanoi\n",
    "\n",
    "The `Tower of Hanoi` is a famous puzzle [(Link)](https://www.mathsisfun.com/games/towerofhanoi.html).\n",
    "\n",
    "![setup of the tower of a hanoi](https://upload.wikimedia.org/wikipedia/commons/0/07/Tower_of_Hanoi.jpeg)\n",
    "\n",
    "The game consists of three rods with disks stacked on top of them. The puzzle will start with all disks in a stack on one of the rods (like in the `picture`). The goal is to move all the discs to a single stack on the last rod.\n",
    "\n",
    "To move the disks, you have to follow the following rules:\n",
    "\n",
    "* You can move only one disk at a time.\n",
    "* For each move, you have to take the upper disk from one of the stacks, and place it on top of another stack or empty rod.\n",
    "* You cannot place a larger disk on top of a smaller disk."
   ]
  },
  {
   "cell_type": "markdown",
   "metadata": {},
   "source": [
    "# The maths behind the puzzle\n",
    "\n",
    "Let us first consider a more general problem: Consider a tower of $h$ (height) disks from a starting peg $f=\\mathbf{A}$ (from) onto a destination peg $t=\\mathbf{C}$ (to or target), $\\mathbf{B}$ being the remaining third peg and assuming $t \\neq f$. \n",
    "\n",
    "If there is only one disk (or even none at all), the problem is trivial. Indeed, if $h=0$ then we do nothing, whereas if $h=1$ then simply move the disk from peg $\\mathbf{A}$ to peg $\\mathbf{C}$. \n",
    "\n",
    "If $h>1$, then somewhere along the sequence of moves, the largest disk must be moved from peg $\\mathbf{A}$ to another peg, preferably to peg $\\mathbf{C}$. According to the rules of the game, the only situation that alows this move is when all smaller $h-1$ disks are on peg $\\mathbf{B}$, i.e. the largest disk must be fully isolated on peg $\\mathbf{A}$ and peg $\\mathbf{C}$ must be vacant. Hence, we first must move all $h-1$ smaller disks from peg $\\mathbf{A}$ to peg $\\mathbf{B}$. Then move the largest disk from peg $\\mathbf{A}$ to peg $\\mathbf{C}$ and finally move the $h-1$ smaller disks from peg $\\mathbf{B}$ to peg $\\mathbf{C}$.\n",
    "\n",
    "Thus we have reduced the problem to moving $h-1$ disks from one peg to another, first from peg $\\mathbf{A}$ to $\\mathbf{B}$ and subsequently from peg $\\mathbf{B}$ to $\\mathbf{C}$, but the same method can be used both times by renaming the pegs (in other words we require the same moving mechanism both times).\n",
    "\n",
    "The same strategy as outlined above can then be used to reduce the $h-1$ problem to  $h-2, h-3$ and so on until $h-(h-1)=1$ i.e. only one disk is left. When only one disk is left, the operation is trivial.\n",
    "\n",
    "This is called `recursion` and the recursive algorithm can be schematized as follows:\n",
    "- Identify the disks in order of increasing size by the natural numbers from $1$ up to $h$. Hence `disk 1 is the smallest one`, and `disk h is the largest one`.\n",
    "\n",
    "The following is a procedure for moving a tower of $h$ disks from a peg $\\mathbf{A}$ onto a peg $\\mathbf{C}$, with $\\mathbf{B}$ being the remaining (auxiliary) third peg:\n",
    "\n",
    "1. If $h>1$, then first move the $h-1$ smaller disks from peg $\\mathbf{A}$ to peg $\\mathbf{B}$.\n",
    "2. Now the largest disk, i.e. disk $h$ can simply be moved from peg $\\mathbf{A}$ to peg $\\mathbf{C}$.\n",
    "3. If $h>1$, then again move the $h-1$ smaller disks from peg $\\mathbf{B}$ to peg $\\mathbf{C}$.\n",
    "\n",
    "## Number of moves\n",
    "\n",
    "Using recurrence relations, the exact number of moves that this solution requires can be calculated by $2^h-1$. This result is obtained by noting that steps $1$ and $3$ take $T_{h-1}$ moves, and step $2$ takes one move, giving the recurrence relation $T_h = 2 T_{h-1}+1$ with initial condition $T_0=0$. Let us check that the proposed solution is indeed the solution to the recurrence relation: Indeed, we have $2^h-1=2 (2^{h-1}-1)+1 = 2^h-2+1 = 2^h-1$. Alternatively, one can successfully expand the recursion and one discovers a geometric sum of the form $T_h = \\sum_{i=0}^{h-1}2^i=2^h-1$.\n",
    "\n",
    "Is this the `minimal number of moves` required to solve the Tower of Hanoi Puzzle? Indeed, it is and we shall prove this by means of complete induction over $h$. Although for complete induction we only need to consider $1$ base case, let us here consider the first three:\n",
    "\n",
    "- For $h=0$ (i.e. no disks) we require $2^0-1=1-1=0$ moves to complete the Tower of Hanoi Puzzle.\n",
    "- For $h=1$ (i.e. one disk) we require $2-1=1$ move to complete the Tower of Hanoi Puzzle.\n",
    "- For $h=2$ (i.e. two disks) we require $2^2-1=4-1=3$ moves to complete the Tower of Hanoi Puzzle. Indeed, we move the topmost (smallest) disk to the middle peg $\\mathbf{B}$ and then the bottom disk (largest) to the destination peg $\\mathbf{C}$. Finally we move the disk located at peg $\\mathbf{B}$ to $\\mathbf{C}$ in order to complete the Puzzle.\n",
    "\n",
    "For the induction step $h \\to h+1$ assume that $2^h-1$ are the minimal steps required to solve the Tower of Hanoi puzzle for $h$ disks. Assume now we have $h+1$ disks, evidently in order to solve the puzzle, at some point the largest disk $h+1$ must be isolated on peg $\\mathbf{A}$ and the $h$ remaining disks must all be on peg $\\mathbf{B}$. We then require exactly $1$ move to move the largest disk $h$ from $\\mathbf{A}$ to $\\mathbf{C}$. Finally we must then (in a minimal manner) move all the remaining $h$ disks on peg $\\mathbf{B}$ to $\\mathbf{C}$. By our induction hypothesis, we know how to move $h$ disks in a minimal fashion from $\\mathbf{A}$ to $\\mathbf{B}$ and then from $\\mathbf{B}$ to $\\mathbf{C}$, i.e. $2(2^h-1)=2^{h+1}-2$. Hence the total amount of minimal steps is given by $2^{h+1}-2+1=2^{h+1}-1$ and this concludes the proof by complete induction."
   ]
  },
  {
   "cell_type": "markdown",
   "metadata": {},
   "source": [
    "## Implementation of the algorithm"
   ]
  },
  {
   "cell_type": "markdown",
   "metadata": {},
   "source": [
    "[Tower of Hanoi](https://www.mathsisfun.com/games/towerofhanoi.html)"
   ]
  },
  {
   "cell_type": "code",
   "execution_count": 2,
   "metadata": {},
   "outputs": [
    {
     "name": "stdout",
     "output_type": "stream",
     "text": [
      "Move disk 1 from rod A to rod B\n",
      "Move disk 2 from rod A to rod C\n",
      "Move disk 1 from rod B to rod C\n",
      "Move disk 3 from rod A to rod B\n",
      "Move disk 1 from rod C to rod A\n",
      "Move disk 2 from rod C to rod B\n",
      "Move disk 1 from rod A to rod B\n",
      "Move disk 4 from rod A to rod C\n",
      "Move disk 1 from rod B to rod C\n",
      "Move disk 2 from rod B to rod A\n",
      "Move disk 1 from rod C to rod A\n",
      "Move disk 3 from rod B to rod C\n",
      "Move disk 1 from rod A to rod B\n",
      "Move disk 2 from rod A to rod C\n",
      "Move disk 1 from rod B to rod C\n"
     ]
    }
   ],
   "source": [
    "def hanoi(n : int, source = \"A\", target = \"C\", auxiliary = \"B\"):\n",
    "    \"\"\"\n",
    "    A function to solve the Tower of Hanoi routine\n",
    "    \"\"\"\n",
    "    if n == 0:              # base case\n",
    "        return None         # do nothing\n",
    "\n",
    "    # Move n-1 disks from source rod to auxiliary rod via the target rod\n",
    "    hanoi(n-1, source, auxiliary, target)\n",
    "\n",
    "    # print for logging purposes\n",
    "    print(f\"Move disk {n} from rod {source} to rod {target}\")\n",
    "\n",
    "    # Finally, move n-1 disks from the auxiliary rod to the target rod via the source rod\n",
    "    hanoi(n-1, auxiliary, target, source)\n",
    " \n",
    "hanoi(4)\n"
   ]
  },
  {
   "cell_type": "code",
   "execution_count": null,
   "metadata": {},
   "outputs": [],
   "source": []
  }
 ],
 "metadata": {
  "kernelspec": {
   "display_name": "Python 3.8.10 64-bit",
   "language": "python",
   "name": "python3"
  },
  "language_info": {
   "codemirror_mode": {
    "name": "ipython",
    "version": 3
   },
   "file_extension": ".py",
   "mimetype": "text/x-python",
   "name": "python",
   "nbconvert_exporter": "python",
   "pygments_lexer": "ipython3",
   "version": "3.8.10"
  },
  "orig_nbformat": 4,
  "vscode": {
   "interpreter": {
    "hash": "916dbcbb3f70747c44a77c7bcd40155683ae19c65e1c03b4aa3499c5328201f1"
   }
  }
 },
 "nbformat": 4,
 "nbformat_minor": 2
}
